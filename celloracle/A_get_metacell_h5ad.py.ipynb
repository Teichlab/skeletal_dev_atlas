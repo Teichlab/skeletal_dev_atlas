{
 "cells": [
  {
   "cell_type": "markdown",
   "id": "czech-pound",
   "metadata": {},
   "source": [
    "# get metacell h5ad"
   ]
  },
  {
   "cell_type": "code",
   "execution_count": null,
   "id": "94555568-aef5-4ff9-8527-9515d735e9a3",
   "metadata": {
    "tags": []
   },
   "outputs": [],
   "source": [
    "import gc\n",
    "import logging as log\n",
    "from pathlib import Path\n",
    "\n",
    "import numpy as np\n",
    "import scipy as sc\n",
    "import pandas as pd\n",
    "import scanpy as sc\n",
    "\n",
    "import matplotlib.pyplot as plt\n",
    "import seaborn as sns\n",
    "from IPython.display import display, Markdown\n",
    "\n",
    "from scanpy_helpers import *"
   ]
  },
  {
   "cell_type": "code",
   "execution_count": null,
   "id": "8e0e345f-5ce5-4efe-9872-43413c6a757f",
   "metadata": {},
   "outputs": [],
   "source": [
    "logger = log.getLogger()"
   ]
  },
  {
   "cell_type": "code",
   "execution_count": null,
   "id": "british-davis",
   "metadata": {},
   "outputs": [],
   "source": [
    "# Set maximum number of jobs for Scanpy.\n",
    "sc.settings.njobs = 4"
   ]
  },
  {
   "cell_type": "markdown",
   "id": "transsexual-billy",
   "metadata": {},
   "source": [
    "## Params"
   ]
  },
  {
   "cell_type": "markdown",
   "id": "weird-jamaica",
   "metadata": {},
   "source": [
    "input"
   ]
  },
  {
   "cell_type": "code",
   "execution_count": null,
   "id": "noted-brook",
   "metadata": {},
   "outputs": [],
   "source": [
    "anndata_raw = \"/path/to/rna_raw.h5ad\"\n",
    "anndata_annot = \"/path/to/rna.h5ad\""
   ]
  },
  {
   "cell_type": "markdown",
   "id": "vulnerable-beads",
   "metadata": {},
   "source": [
    "output"
   ]
  },
  {
   "cell_type": "code",
   "execution_count": null,
   "id": "junior-transcript",
   "metadata": {},
   "outputs": [],
   "source": [
    "anndata_merge = \"/path/to/rna_merged.h5ad\"\n",
    "metacell_rna_h5ad = \"/path/to/rna_metacells.h5ad\""
   ]
  },
  {
   "cell_type": "markdown",
   "id": "infinite-request",
   "metadata": {},
   "source": [
    "params"
   ]
  },
  {
   "cell_type": "code",
   "execution_count": null,
   "id": "funky-summit",
   "metadata": {},
   "outputs": [],
   "source": [
    "annotation_col = \"cell_type_obs_column\"\n",
    "additional_filter = \"\"  # filter string in pd.query() format\n",
    "use_cell_types = []  # list of cell types to subset to\n",
    "metacell_batch = \"batch\"  # retrict metacells by adata.obs column"
   ]
  },
  {
   "cell_type": "markdown",
   "id": "correct-consistency",
   "metadata": {},
   "source": [
    "## 1) Load RNA anndata"
   ]
  },
  {
   "cell_type": "code",
   "execution_count": null,
   "id": "711d2639-1655-4ed7-8d2a-22e760305261",
   "metadata": {},
   "outputs": [],
   "source": [
    "log.info(\"load rna anndata\")"
   ]
  },
  {
   "cell_type": "code",
   "execution_count": null,
   "id": "northern-hurricane",
   "metadata": {
    "tags": []
   },
   "outputs": [],
   "source": [
    "ad = sc.read_h5ad(anndata_annot)"
   ]
  },
  {
   "cell_type": "markdown",
   "id": "limited-marks",
   "metadata": {},
   "source": [
    "### subset"
   ]
  },
  {
   "cell_type": "code",
   "execution_count": null,
   "id": "bronze-mountain",
   "metadata": {
    "tags": []
   },
   "outputs": [],
   "source": [
    "if use_cell_types:\n",
    "    log.info(f\"subset rna anndata to: {use_cell_types}\")\n",
    "    ad = ad[ad.obs.query(\"`cell type` in @use_cell_types\").index]"
   ]
  },
  {
   "cell_type": "code",
   "execution_count": null,
   "id": "another-listening",
   "metadata": {},
   "outputs": [],
   "source": [
    "if additional_filter:\n",
    "    ad = ad[ad.obs.query(additional_filter).index]"
   ]
  },
  {
   "cell_type": "code",
   "execution_count": null,
   "id": "armed-authority",
   "metadata": {
    "tags": []
   },
   "outputs": [],
   "source": [
    "ad"
   ]
  },
  {
   "cell_type": "markdown",
   "id": "green-cabin",
   "metadata": {},
   "source": [
    "### get raw counts"
   ]
  },
  {
   "cell_type": "code",
   "execution_count": null,
   "id": "d1b4ba35-53de-4baf-a847-deea28f9cd8e",
   "metadata": {},
   "outputs": [],
   "source": [
    "log.info(\"load raw counts\")"
   ]
  },
  {
   "cell_type": "code",
   "execution_count": null,
   "id": "played-methodology",
   "metadata": {},
   "outputs": [],
   "source": [
    "ad_raw = sc.read_h5ad(anndata_raw)"
   ]
  },
  {
   "cell_type": "code",
   "execution_count": null,
   "id": "8e6094e3-c816-4e8e-8195-5ddc056b3db8",
   "metadata": {},
   "outputs": [],
   "source": [
    "if ad_raw.raw and ad_raw.X.max() < 100:\n",
    "    log.warning(\"found anndata.raw attribute, getting raw counts from there\")\n",
    "    ad_raw = ad_raw.raw.to_adata()"
   ]
  },
  {
   "cell_type": "code",
   "execution_count": null,
   "id": "confident-brief",
   "metadata": {},
   "outputs": [],
   "source": [
    "ad_raw = ad_raw[ad.obs_names, :]"
   ]
  },
  {
   "cell_type": "code",
   "execution_count": null,
   "id": "0f041d99-07de-4d75-bbd2-695aaf4801e8",
   "metadata": {},
   "outputs": [],
   "source": [
    "ad_raw.obs = ad.obs\n",
    "ad_raw.obsm = ad.obsm\n",
    "ad_raw.obsp = ad.obsp\n",
    "ad_raw.uns = ad.uns"
   ]
  },
  {
   "cell_type": "code",
   "execution_count": null,
   "id": "subjective-pharmacology",
   "metadata": {},
   "outputs": [],
   "source": [
    "ad = ad_raw"
   ]
  },
  {
   "cell_type": "code",
   "execution_count": null,
   "id": "super-central",
   "metadata": {},
   "outputs": [],
   "source": [
    "gc.collect()"
   ]
  },
  {
   "cell_type": "code",
   "execution_count": null,
   "id": "blond-office",
   "metadata": {},
   "outputs": [],
   "source": [
    "ad.write(anndata_merge)"
   ]
  },
  {
   "cell_type": "code",
   "execution_count": null,
   "id": "affected-tokyo",
   "metadata": {
    "tags": []
   },
   "outputs": [],
   "source": [
    "ad"
   ]
  },
  {
   "cell_type": "markdown",
   "id": "276393f6-9556-454c-a45d-1c975ec4bad4",
   "metadata": {},
   "source": [
    "### remove batches with <10 cells"
   ]
  },
  {
   "cell_type": "code",
   "execution_count": null,
   "id": "10e70b15-35ee-47e8-8207-d5f43f59abbf",
   "metadata": {},
   "outputs": [],
   "source": [
    "if metacell_batch:\n",
    "    batch_vc = ad.obs[metacell_batch].value_counts()\n",
    "    log.warning(f\"removing {batch_vc[batch_vc <= 10].size} batches with <10 cells\")\n",
    "    batch_sel = batch_vc[batch_vc > 10].index.tolist()\n",
    "\n",
    "    ad = ad[ad.obs[metacell_batch].isin(batch_sel)]"
   ]
  },
  {
   "cell_type": "markdown",
   "id": "pending-shark",
   "metadata": {},
   "source": [
    "## 2) Get metacells"
   ]
  },
  {
   "cell_type": "code",
   "execution_count": null,
   "id": "5bdffff7-f744-4938-99d1-dae67c1eea9e",
   "metadata": {},
   "outputs": [],
   "source": [
    "log.info(\"filter genes\")"
   ]
  },
  {
   "cell_type": "code",
   "execution_count": null,
   "id": "0ff06523-e455-4495-a1d1-d733d12bf62f",
   "metadata": {},
   "outputs": [],
   "source": [
    "sc.pp.filter_genes(ad, min_cells=100)"
   ]
  },
  {
   "cell_type": "code",
   "execution_count": null,
   "id": "17118ffa-9c25-43ee-abc3-2f0ebc129d92",
   "metadata": {},
   "outputs": [],
   "source": [
    "log.info(\"compute metacells\")"
   ]
  },
  {
   "cell_type": "code",
   "execution_count": null,
   "id": "2c4f6ec9-5218-4380-90c1-35fda759bcb7",
   "metadata": {},
   "outputs": [],
   "source": [
    "if metacell_batch:\n",
    "    ad_meta = get_metacells_by_group(ad, metacell_batch, max_group_size = 15, min_cells=5, summarise = \"sum\")\n",
    "else:\n",
    "    ad_meta = get_metacells(ad, max_group_size = 15, min_cells=5, summarise = \"sum\")"
   ]
  },
  {
   "cell_type": "code",
   "execution_count": null,
   "id": "2878c737-c627-4d47-ad6d-599def980b26",
   "metadata": {},
   "outputs": [],
   "source": [
    "ad_red = ad[ad_meta.obs_names, :]\n",
    "\n",
    "ad_meta.obsm = ad_red.obsm\n",
    "ad_meta.obsp = ad_red.obsp\n",
    "ad_meta.uns = ad_red.uns\n",
    "\n",
    "try:\n",
    "    sc.pl.umap(ad_meta, color=\"annot\")\n",
    "except:\n",
    "    pass"
   ]
  },
  {
   "cell_type": "code",
   "execution_count": null,
   "id": "distant-piece",
   "metadata": {
    "tags": []
   },
   "outputs": [],
   "source": [
    "ad_meta"
   ]
  },
  {
   "cell_type": "code",
   "execution_count": null,
   "id": "stuffed-memorial",
   "metadata": {},
   "outputs": [],
   "source": [
    "ad_meta.write(metacell_rna_h5ad)"
   ]
  },
  {
   "cell_type": "code",
   "execution_count": null,
   "id": "becoming-investing",
   "metadata": {
    "tags": []
   },
   "outputs": [],
   "source": [
    "ad_meta.raw = ad_meta"
   ]
  },
  {
   "cell_type": "markdown",
   "id": "working-painting",
   "metadata": {},
   "source": [
    "## 3) Check embeddings"
   ]
  },
  {
   "cell_type": "code",
   "execution_count": null,
   "id": "0bd64bd7-70a0-4181-bb7c-3822e72495c2",
   "metadata": {},
   "outputs": [],
   "source": [
    "log.info(\"plot embeddings\")"
   ]
  },
  {
   "cell_type": "code",
   "execution_count": null,
   "id": "together-innocent",
   "metadata": {},
   "outputs": [],
   "source": [
    "sc.pp.normalize_total(ad_meta)\n",
    "sc.pp.log1p(ad_meta)"
   ]
  },
  {
   "cell_type": "code",
   "execution_count": null,
   "id": "communist-semiconductor",
   "metadata": {
    "tags": []
   },
   "outputs": [],
   "source": [
    "ad_meta.raw = ad_meta"
   ]
  },
  {
   "cell_type": "code",
   "execution_count": null,
   "id": "maritime-causing",
   "metadata": {
    "tags": []
   },
   "outputs": [],
   "source": [
    "ad_meta.X = ad_meta.raw.X\n",
    "\n",
    "try:\n",
    "    sc.pp.highly_variable_genes(ad_meta, batch_key=\"batch\")\n",
    "except BaseException:\n",
    "    log.warning(\"could not use 'batch' for HVG calculation\")\n",
    "    sc.pp.highly_variable_genes(ad_meta)\n",
    "    \n",
    "sc.pp.scale(ad_meta)\n",
    "sc.pp.pca(ad_meta)\n",
    "sc.pp.neighbors(ad_meta, n_neighbors=15)\n",
    "# sc.external.pp.bbknn(ad_meta, batch_key='batch')"
   ]
  },
  {
   "cell_type": "code",
   "execution_count": null,
   "id": "damaged-cattle",
   "metadata": {
    "tags": []
   },
   "outputs": [],
   "source": [
    "sc.tl.leiden(ad_meta, resolution=2)\n",
    "sc.tl.umap(ad_meta)\n",
    "sc.tl.paga(ad_meta, groups = annotation_col)\n",
    "fig = sc.pl.umap(ad_meta, color = \"leiden\", show=False)\n",
    "\n",
    "fig = sc.pl.paga(ad_meta, threshold=0.3, show=False)\n",
    "sc.tl.umap(ad_meta, init_pos=\"paga\")\n",
    "sc.tl.draw_graph(ad_meta, init_pos=\"paga\")"
   ]
  },
  {
   "cell_type": "code",
   "execution_count": null,
   "id": "073e926b-932e-41f9-9a91-3e6ae84feedc",
   "metadata": {},
   "outputs": [],
   "source": [
    "plot_cols = [col for col in [annotation_col, \"batch\", \"leiden\", \"pcw\"] if col in ad_meta.obs.columns.tolist()]\n",
    "log.info(f\"plotting data on embeddings: {plot_cols}\")"
   ]
  },
  {
   "cell_type": "code",
   "execution_count": null,
   "id": "strong-athletics",
   "metadata": {
    "tags": []
   },
   "outputs": [],
   "source": [
    "try:\n",
    "    with plt.rc_context({\"figure.figsize\": (5,5), \"figure.facecolor\": \"white\"}):\n",
    "        sc.pl.umap(ad_meta, color=plot_cols, palette=sc.plotting.palettes.default_20)\n",
    "except BaseException:\n",
    "    log.exception(\"could not plot UMAP\")"
   ]
  },
  {
   "cell_type": "code",
   "execution_count": null,
   "id": "accompanied-walnut",
   "metadata": {
    "tags": []
   },
   "outputs": [],
   "source": [
    "try:\n",
    "    with plt.rc_context({\"figure.figsize\": (5,5), \"figure.facecolor\": \"white\"}):\n",
    "        sc.pl.draw_graph(ad_meta, color=plot_cols, ncols=1, palette=sc.plotting.palettes.default_20, frameon=True)\n",
    "except BaseException:\n",
    "    log.exception(\"could not plot FA embedding\")"
   ]
  },
  {
   "cell_type": "code",
   "execution_count": null,
   "id": "distributed-tobago",
   "metadata": {},
   "outputs": [],
   "source": []
  }
 ],
 "metadata": {
  "kernelspec": {
   "display_name": "Python 3 (ipykernel)",
   "language": "python",
   "name": "python3"
  },
  "language_info": {
   "codemirror_mode": {
    "name": "ipython",
    "version": 3
   },
   "file_extension": ".py",
   "mimetype": "text/x-python",
   "name": "python",
   "nbconvert_exporter": "python",
   "pygments_lexer": "ipython3",
   "version": "3.10.14"
  }
 },
 "nbformat": 4,
 "nbformat_minor": 5
}
