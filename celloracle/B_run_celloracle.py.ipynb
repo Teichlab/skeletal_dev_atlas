{
 "cells": [
  {
   "cell_type": "markdown",
   "id": "moral-baker",
   "metadata": {},
   "source": [
    "# Run CellOracle"
   ]
  },
  {
   "cell_type": "markdown",
   "id": "rapid-singing",
   "metadata": {},
   "source": [
    "run CellOracle on Scenic output to obtain cell type specific networks"
   ]
  },
  {
   "cell_type": "code",
   "execution_count": null,
   "id": "tested-exclusive",
   "metadata": {
    "tags": []
   },
   "outputs": [],
   "source": [
    "import re\n",
    "from contextlib import redirect_stdout\n",
    "import logging as log\n",
    "from pathlib import Path\n",
    "import yaml\n",
    "\n",
    "import numpy as np\n",
    "import scipy as sp\n",
    "import pandas as pd\n",
    "import scanpy as sc\n",
    "import celloracle as co\n",
    "\n",
    "import matplotlib.pyplot as plt\n",
    "from IPython.display import display, Markdown"
   ]
  },
  {
   "cell_type": "code",
   "execution_count": null,
   "id": "111e7626-1dce-4f76-8c9d-e00305a7b5a9",
   "metadata": {},
   "outputs": [],
   "source": [
    "logger = log.getLogger()"
   ]
  },
  {
   "cell_type": "code",
   "execution_count": null,
   "id": "innocent-geometry",
   "metadata": {},
   "outputs": [],
   "source": [
    "log.info(f\"CellOracle version: {co.__version__}\")"
   ]
  },
  {
   "cell_type": "code",
   "execution_count": null,
   "id": "white-phenomenon",
   "metadata": {},
   "outputs": [],
   "source": [
    "%matplotlib inline"
   ]
  },
  {
   "cell_type": "markdown",
   "id": "automated-event",
   "metadata": {},
   "source": [
    "## Params"
   ]
  },
  {
   "cell_type": "markdown",
   "id": "explicit-characterization",
   "metadata": {},
   "source": [
    "input"
   ]
  },
  {
   "cell_type": "code",
   "execution_count": null,
   "id": "technological-jersey",
   "metadata": {},
   "outputs": [],
   "source": [
    "metacell_rna_h5ad = \"/path/to/rna_metacells.h5ad\""
   ]
  },
  {
   "cell_type": "markdown",
   "id": "brown-terry",
   "metadata": {},
   "source": [
    "output"
   ]
  },
  {
   "cell_type": "code",
   "execution_count": null,
   "id": "artificial-samoa",
   "metadata": {},
   "outputs": [],
   "source": [
    "celloracle_obj_path = \"/path/to/celloracle.oracle\"\n",
    "links_obj_path = \"/path/to/celloracle.links\"\n",
    "links_obj_filtered_path = \"/path/to/celloracle_filtered.links\""
   ]
  },
  {
   "cell_type": "markdown",
   "id": "artificial-hardware",
   "metadata": {},
   "source": [
    "params"
   ]
  },
  {
   "cell_type": "code",
   "execution_count": null,
   "id": "interior-return",
   "metadata": {},
   "outputs": [],
   "source": [
    "regulon_paths = [\"regulons1.yaml\"]  # paths to yaml files with regulons\n",
    "cell_type_annot = \"cell_type_obs_column\"\n",
    "\n",
    "gene_subset = \"HVG\"\n",
    "knn_process = \"diffmap\""
   ]
  },
  {
   "cell_type": "code",
   "execution_count": null,
   "id": "stainless-modeling",
   "metadata": {},
   "outputs": [],
   "source": [
    "assert gene_subset in [\"HVG\", \"full_regulon\"]"
   ]
  },
  {
   "cell_type": "code",
   "execution_count": null,
   "id": "spoken-detector",
   "metadata": {},
   "outputs": [],
   "source": [
    "assert knn_process in [\"diffmap\", \"none\", \"\"]"
   ]
  },
  {
   "cell_type": "markdown",
   "id": "substantial-bishop",
   "metadata": {},
   "source": [
    "## 1) Load regulons"
   ]
  },
  {
   "cell_type": "code",
   "execution_count": null,
   "id": "biblical-doctrine",
   "metadata": {},
   "outputs": [],
   "source": [
    "log.info(\"load regulons\")"
   ]
  },
  {
   "cell_type": "code",
   "execution_count": null,
   "id": "dependent-japan",
   "metadata": {},
   "outputs": [],
   "source": [
    "regulons = {}\n",
    "\n",
    "for p in regulon_paths:\n",
    "    with open(p, \"r\") as f:\n",
    "        log.info(str(p))\n",
    "        reg_tmp = yaml.safe_load(f)\n",
    "        reg_tmp = {re.sub(\"([^()_]+).*\", \"\\\\1\", k):v for k,v in reg_tmp.items()}\n",
    "        for k, v in reg_tmp.items():\n",
    "            if k in regulons:\n",
    "                regulons[k].extend(v)\n",
    "            else:\n",
    "                regulons[k] = v"
   ]
  },
  {
   "cell_type": "code",
   "execution_count": null,
   "id": "running-multimedia",
   "metadata": {},
   "outputs": [],
   "source": [
    "for k, v in list(regulons.items())[:5]:\n",
    "    log.info(f\"{k}: {', '.join(v[:min(5,len(v))])}\")"
   ]
  },
  {
   "cell_type": "markdown",
   "id": "sitting-bridges",
   "metadata": {},
   "source": [
    "## 2) Load RNA anndata"
   ]
  },
  {
   "cell_type": "code",
   "execution_count": null,
   "id": "proved-vinyl",
   "metadata": {},
   "outputs": [],
   "source": [
    "log.info(\"load rna anndata object\")"
   ]
  },
  {
   "cell_type": "code",
   "execution_count": null,
   "id": "linear-writing",
   "metadata": {},
   "outputs": [],
   "source": [
    "ad = sc.read_h5ad(metacell_rna_h5ad)"
   ]
  },
  {
   "cell_type": "markdown",
   "id": "young-protein",
   "metadata": {},
   "source": [
    "**need raw counts**"
   ]
  },
  {
   "cell_type": "code",
   "execution_count": null,
   "id": "legitimate-springer",
   "metadata": {},
   "outputs": [],
   "source": [
    "if ad.X.max() < 100:\n",
    "    if ad.raw.X.max() < 100:\n",
    "        raise ValueError(\"CellOracle needs raw counts\")\n",
    "    else:\n",
    "        log.info(\"get raw counts from .raw\")\n",
    "        ad = ad.raw.to_adata()"
   ]
  },
  {
   "cell_type": "markdown",
   "id": "technical-singing",
   "metadata": {},
   "source": [
    "### subset HVGs"
   ]
  },
  {
   "cell_type": "markdown",
   "id": "selective-animation",
   "metadata": {},
   "source": [
    "recommended for CellOracle"
   ]
  },
  {
   "cell_type": "code",
   "execution_count": null,
   "id": "limited-village",
   "metadata": {},
   "outputs": [],
   "source": [
    "log.info(\"select hvg and normalise\")"
   ]
  },
  {
   "cell_type": "code",
   "execution_count": null,
   "id": "exciting-pocket",
   "metadata": {},
   "outputs": [],
   "source": [
    "reg_genes = set([k for k in regulons.keys()] + [x for v in regulons.values() for x in v])"
   ]
  },
  {
   "cell_type": "code",
   "execution_count": null,
   "id": "double-sight",
   "metadata": {},
   "outputs": [],
   "source": [
    "len(reg_genes)"
   ]
  },
  {
   "cell_type": "code",
   "execution_count": null,
   "id": "looking-olympus",
   "metadata": {
    "tags": []
   },
   "outputs": [],
   "source": [
    "sc.pp.filter_genes(ad, min_counts=1)\n",
    "sc.pp.normalize_total(ad)\n",
    "\n",
    "if gene_subset == \"HVG\":\n",
    "    filter_result = sc.pp.filter_genes_dispersion(\n",
    "        ad.X,\n",
    "        flavor = 'cell_ranger',\n",
    "        n_top_genes = 2000,\n",
    "        log = False,\n",
    "    )\n",
    "\n",
    "    filter_result2 = sc.pp.filter_genes_dispersion(\n",
    "        ad.X,\n",
    "        flavor = 'cell_ranger',\n",
    "        n_top_genes = min(20000, ad.X.shape[1]),\n",
    "        log = False,\n",
    "    )\n",
    "\n",
    "    gene_select = ad.var_names[filter_result.gene_subset].tolist()\n",
    "    gene_select += list(\n",
    "        set(regulons) & \n",
    "        set(ad.var_names[filter_result2.gene_subset].tolist())\n",
    "    )\n",
    "    gene_select = list(set(gene_select))\n",
    "elif gene_subset == \"full_regulon\":\n",
    "    gene_select = list(reg_genes)\n",
    "    gene_select = list(set(gene_select) & set(ad.var_names))\n",
    "\n",
    "log.info(f\"selected {len(gene_select)} genes\")\n",
    "\n",
    "# Subset the genes\n",
    "ad = ad[:, gene_select]\n",
    "\n",
    "sc.pp.filter_genes(ad, min_cells=ad.X.shape[0]*0.1)\n",
    "\n",
    "# Renormalize after filtering\n",
    "sc.pp.normalize_per_cell(ad)"
   ]
  },
  {
   "cell_type": "markdown",
   "id": "filled-dependence",
   "metadata": {},
   "source": [
    "### save raw counts and log-transform"
   ]
  },
  {
   "cell_type": "code",
   "execution_count": null,
   "id": "married-sixth",
   "metadata": {},
   "outputs": [],
   "source": [
    "log.info(\"log transform and scale\")"
   ]
  },
  {
   "cell_type": "code",
   "execution_count": null,
   "id": "fabulous-karen",
   "metadata": {},
   "outputs": [],
   "source": [
    "# keep raw cont data before log transformation\n",
    "ad.raw = ad\n",
    "ad.layers[\"raw_count\"] = ad.raw.X.copy()\n",
    "\n",
    "# Log transformation and scaling\n",
    "sc.pp.log1p(ad)\n",
    "sc.pp.scale(ad)"
   ]
  },
  {
   "cell_type": "markdown",
   "id": "happy-building",
   "metadata": {},
   "source": [
    "### PCA and knn"
   ]
  },
  {
   "cell_type": "code",
   "execution_count": null,
   "id": "colored-argentina",
   "metadata": {},
   "outputs": [],
   "source": [
    "log.info(\"pca and knn\")"
   ]
  },
  {
   "cell_type": "code",
   "execution_count": null,
   "id": "through-workshop",
   "metadata": {},
   "outputs": [],
   "source": [
    "# PCA\n",
    "sc.tl.pca(ad, svd_solver='arpack')\n",
    "\n",
    "if knn_process == \"diffmap\":\n",
    "    # Diffusion map\n",
    "    sc.pp.neighbors(ad, n_neighbors = 10, n_pcs = 20)\n",
    "\n",
    "    sc.tl.diffmap(ad)\n",
    "    # Calculate neihbors again based on diffusionmap\n",
    "    sc.pp.neighbors(ad, n_neighbors = 15, use_rep='X_diffmap')\n",
    "else:\n",
    "    sc.pp.neighbors(ad, n_neighbors = 30, n_pcs = 20)\n",
    "\n",
    "# clustering\n",
    "sc.tl.leiden(ad, resolution = 1.0)"
   ]
  },
  {
   "cell_type": "markdown",
   "id": "sweet-muscle",
   "metadata": {},
   "source": [
    "### PAGA and FA embedding"
   ]
  },
  {
   "cell_type": "code",
   "execution_count": null,
   "id": "intelligent-asthma",
   "metadata": {},
   "outputs": [],
   "source": [
    "log.info(\"paga and fa embedding\")"
   ]
  },
  {
   "cell_type": "code",
   "execution_count": null,
   "id": "declared-arctic",
   "metadata": {},
   "outputs": [],
   "source": [
    "sc.tl.paga(ad, groups = cell_type_annot)"
   ]
  },
  {
   "cell_type": "code",
   "execution_count": null,
   "id": "restricted-forwarding",
   "metadata": {
    "tags": []
   },
   "outputs": [],
   "source": [
    "sc.pl.paga(ad, threshold = 0.2)"
   ]
  },
  {
   "cell_type": "code",
   "execution_count": null,
   "id": "drawn-provincial",
   "metadata": {},
   "outputs": [],
   "source": [
    "if \"X_draw_graph_fa\" not in ad.obsm:\n",
    "    sc.tl.draw_graph(ad, init_pos = 'paga', random_state = 123)"
   ]
  },
  {
   "cell_type": "code",
   "execution_count": null,
   "id": "intended-values",
   "metadata": {},
   "outputs": [],
   "source": [
    "plot_cols = [x for x in ['leiden', cell_type_annot, 'batch', 'n_counts'] if x in ad.obs.columns.tolist()]"
   ]
  },
  {
   "cell_type": "code",
   "execution_count": null,
   "id": "gross-township",
   "metadata": {
    "tags": []
   },
   "outputs": [],
   "source": [
    "sc.pl.draw_graph(ad, color=plot_cols, ncols=1, legend_loc='on data', save=\"test\")"
   ]
  },
  {
   "cell_type": "markdown",
   "id": "pressing-project",
   "metadata": {},
   "source": [
    "## 3) Setup CellOracle Object"
   ]
  },
  {
   "cell_type": "code",
   "execution_count": null,
   "id": "affiliated-position",
   "metadata": {},
   "outputs": [],
   "source": [
    "log.info(\"setup celloracle object\")"
   ]
  },
  {
   "cell_type": "code",
   "execution_count": null,
   "id": "prostate-going",
   "metadata": {},
   "outputs": [],
   "source": [
    "oracle = co.Oracle()"
   ]
  },
  {
   "cell_type": "code",
   "execution_count": null,
   "id": "single-trunk",
   "metadata": {},
   "outputs": [],
   "source": [
    "ad.X = ad.layers[\"raw_count\"].copy()\n",
    "\n",
    "oracle.import_anndata_as_raw_count(\n",
    "    ad,\n",
    "    cluster_column_name = cell_type_annot,\n",
    "    embedding_name = \"X_draw_graph_fa\",\n",
    ")"
   ]
  },
  {
   "cell_type": "code",
   "execution_count": null,
   "id": "supposed-divorce",
   "metadata": {},
   "outputs": [],
   "source": [
    "TG_to_TF_dictionary = co.utility.inverse_dictionary(regulons)\n",
    "\n",
    "oracle.import_TF_data(TFdict = TG_to_TF_dictionary)"
   ]
  },
  {
   "cell_type": "code",
   "execution_count": null,
   "id": "fifty-somewhere",
   "metadata": {
    "tags": []
   },
   "outputs": [],
   "source": [
    "oracle.to_hdf5(celloracle_obj_path)"
   ]
  },
  {
   "cell_type": "markdown",
   "id": "jewish-heather",
   "metadata": {},
   "source": [
    "### preprocessing"
   ]
  },
  {
   "cell_type": "code",
   "execution_count": null,
   "id": "distant-stand",
   "metadata": {},
   "outputs": [],
   "source": [
    "log.info(\"celloracle preprocessing\")"
   ]
  },
  {
   "cell_type": "markdown",
   "id": "nutritional-designation",
   "metadata": {},
   "source": [
    "**PCA**"
   ]
  },
  {
   "cell_type": "code",
   "execution_count": null,
   "id": "patient-albert",
   "metadata": {},
   "outputs": [],
   "source": [
    "# Perform PCA\n",
    "oracle.perform_PCA()\n",
    "\n",
    "# Select important PCs\n",
    "plt.plot(np.cumsum(oracle.pca.explained_variance_ratio_)[:100])\n",
    "n_comps = np.where(np.diff(np.diff(np.cumsum(oracle.pca.explained_variance_ratio_))>0.002))[0][0]\n",
    "plt.axvline(n_comps, c=\"k\")\n",
    "plt.show()\n",
    "log.info(n_comps)\n",
    "n_comps = min(n_comps, 50)"
   ]
  },
  {
   "cell_type": "code",
   "execution_count": null,
   "id": "cultural-greek",
   "metadata": {},
   "outputs": [],
   "source": [
    "log.info(f\"chosen pca comp: {n_comps}\")"
   ]
  },
  {
   "cell_type": "code",
   "execution_count": null,
   "id": "mental-implementation",
   "metadata": {},
   "outputs": [],
   "source": [
    "n_cell = oracle.adata.shape[0]\n",
    "log.info(f\"cell number is: {n_cell}\")\n",
    "\n",
    "k = int(0.025*n_cell)\n",
    "log.info(f\"Auto-selected k is: {k}\")"
   ]
  },
  {
   "cell_type": "markdown",
   "id": "realistic-convenience",
   "metadata": {},
   "source": [
    "**knn-imputation**"
   ]
  },
  {
   "cell_type": "code",
   "execution_count": null,
   "id": "casual-daniel",
   "metadata": {},
   "outputs": [],
   "source": [
    "oracle.knn_imputation(\n",
    "    n_pca_dims = n_comps, \n",
    "    k = k, \n",
    "    balanced = True, \n",
    "    b_sight = k*8,\n",
    "    b_maxl = k*4, \n",
    "    n_jobs = 4,\n",
    ")"
   ]
  },
  {
   "cell_type": "code",
   "execution_count": null,
   "id": "built-calgary",
   "metadata": {
    "tags": []
   },
   "outputs": [],
   "source": [
    "oracle.to_hdf5(celloracle_obj_path)"
   ]
  },
  {
   "cell_type": "code",
   "execution_count": null,
   "id": "hindu-ranch",
   "metadata": {},
   "outputs": [],
   "source": []
  },
  {
   "cell_type": "markdown",
   "id": "lesbian-column",
   "metadata": {},
   "source": [
    "## 4) GRN filtering"
   ]
  },
  {
   "cell_type": "code",
   "execution_count": null,
   "id": "forward-andorra",
   "metadata": {},
   "outputs": [],
   "source": [
    "log.info(\"grn fitting\")"
   ]
  },
  {
   "cell_type": "code",
   "execution_count": null,
   "id": "destroyed-marble",
   "metadata": {
    "tags": []
   },
   "outputs": [],
   "source": [
    "with open(str(snakemake.log.logging), \"a\") as f:\n",
    "    with redirect_stdout(f):\n",
    "        links = oracle.get_links(\n",
    "            cluster_name_for_GRN_unit = cell_type_annot,\n",
    "            alpha = 10,\n",
    "            verbose_level = 10\n",
    "        )"
   ]
  },
  {
   "cell_type": "code",
   "execution_count": null,
   "id": "canadian-breathing",
   "metadata": {},
   "outputs": [],
   "source": [
    "links.to_hdf5(file_path = links_obj_path)"
   ]
  },
  {
   "cell_type": "markdown",
   "id": "victorian-dancing",
   "metadata": {},
   "source": [
    "## 5) Network processing"
   ]
  },
  {
   "cell_type": "code",
   "execution_count": null,
   "id": "civil-bobby",
   "metadata": {},
   "outputs": [],
   "source": [
    "log.info(\"filter links\")"
   ]
  },
  {
   "cell_type": "code",
   "execution_count": null,
   "id": "violent-treasure",
   "metadata": {},
   "outputs": [],
   "source": [
    "links.filter_links(p=0.001, weight=\"coef_abs\", threshold_number=2000)"
   ]
  },
  {
   "cell_type": "code",
   "execution_count": null,
   "id": "geographic-jacksonville",
   "metadata": {},
   "outputs": [],
   "source": [
    "plt.rcParams[\"figure.figsize\"] = [9, 4.5]"
   ]
  },
  {
   "cell_type": "code",
   "execution_count": null,
   "id": "brief-backup",
   "metadata": {
    "tags": []
   },
   "outputs": [],
   "source": [
    "try:\n",
    "    links.plot_degree_distributions(\n",
    "        plot_model = True,\n",
    "        #save=f\"{save_folder}/degree_distribution/\",\n",
    "    )\n",
    "except Exception:\n",
    "    log.exception(\"could not plot degree distribution\")"
   ]
  },
  {
   "cell_type": "code",
   "execution_count": null,
   "id": "accurate-transition",
   "metadata": {},
   "outputs": [],
   "source": [
    "try:\n",
    "    links.get_network_score()\n",
    "    links.merged_score.head()\n",
    "except Exception:\n",
    "    log.exception(\"could not get network scores\")"
   ]
  },
  {
   "cell_type": "code",
   "execution_count": null,
   "id": "enhanced-honolulu",
   "metadata": {},
   "outputs": [],
   "source": [
    "links.to_hdf5(file_path = links_obj_filtered_path)"
   ]
  },
  {
   "cell_type": "code",
   "execution_count": null,
   "id": "authentic-young",
   "metadata": {},
   "outputs": [],
   "source": []
  }
 ],
 "metadata": {
  "kernelspec": {
   "display_name": "Python 3 (ipykernel)",
   "language": "python",
   "name": "python3"
  },
  "language_info": {
   "codemirror_mode": {
    "name": "ipython",
    "version": 3
   },
   "file_extension": ".py",
   "mimetype": "text/x-python",
   "name": "python",
   "nbconvert_exporter": "python",
   "pygments_lexer": "ipython3",
   "version": "3.10.14"
  }
 },
 "nbformat": 4,
 "nbformat_minor": 5
}
