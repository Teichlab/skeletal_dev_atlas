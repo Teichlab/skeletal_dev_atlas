{
 "cells": [
  {
   "cell_type": "markdown",
   "id": "tested-mathematics",
   "metadata": {},
   "source": [
    "# CellOracle get background gradient"
   ]
  },
  {
   "cell_type": "markdown",
   "id": "medium-myrtle",
   "metadata": {},
   "source": [
    "make a gradient object based on pseudotime to compare with perturbation predictions"
   ]
  },
  {
   "cell_type": "code",
   "execution_count": null,
   "id": "unlike-copper",
   "metadata": {
    "tags": []
   },
   "outputs": [],
   "source": [
    "import re\n",
    "import logging as log\n",
    "from pathlib import Path\n",
    "import yaml\n",
    "\n",
    "import numpy as np\n",
    "import scipy as sp\n",
    "import pandas as pd\n",
    "import scanpy as sc\n",
    "import celloracle as co\n",
    "from celloracle.applications import Gradient_calculator\n",
    "\n",
    "import matplotlib.pyplot as plt\n",
    "from IPython.display import display, Markdown"
   ]
  },
  {
   "cell_type": "code",
   "execution_count": null,
   "id": "7e4bf3e5-d4fe-4bec-957f-f9b28453a197",
   "metadata": {},
   "outputs": [],
   "source": [
    "logger = log.getLogger()"
   ]
  },
  {
   "cell_type": "code",
   "execution_count": null,
   "id": "human-converter",
   "metadata": {},
   "outputs": [],
   "source": [
    "log.info(f\"CellOracle version: {co.__version__}\")"
   ]
  },
  {
   "cell_type": "code",
   "execution_count": null,
   "id": "golden-anxiety",
   "metadata": {},
   "outputs": [],
   "source": [
    "%matplotlib inline"
   ]
  },
  {
   "cell_type": "markdown",
   "id": "demanding-gospel",
   "metadata": {},
   "source": [
    "## Params"
   ]
  },
  {
   "cell_type": "code",
   "execution_count": null,
   "id": "known-singles",
   "metadata": {},
   "outputs": [],
   "source": [
    "## input\n",
    "celloracle_obj_path = \"/path/to/celloracle.oracle\"\n",
    "\n",
    "## output\n",
    "gradient_obj_path = \"/path/to/gradient_object.gradient\"\n",
    "\n",
    "## params\n",
    "n_grid = 40\n",
    "min_mass = 0.005\n",
    "n_poly = 3"
   ]
  },
  {
   "cell_type": "markdown",
   "id": "sixth-evidence",
   "metadata": {},
   "source": [
    "## 1) Load"
   ]
  },
  {
   "cell_type": "code",
   "execution_count": null,
   "id": "original-colony",
   "metadata": {},
   "outputs": [],
   "source": [
    "log.info(\"load celloracle object\")"
   ]
  },
  {
   "cell_type": "code",
   "execution_count": null,
   "id": "environmental-webmaster",
   "metadata": {},
   "outputs": [],
   "source": [
    "oracle = co.load_hdf5(celloracle_obj_path)"
   ]
  },
  {
   "cell_type": "markdown",
   "id": "economic-station",
   "metadata": {},
   "source": [
    "## 2) Calculate gradient for pseudotime"
   ]
  },
  {
   "cell_type": "code",
   "execution_count": null,
   "id": "52eaa25f-c0e1-4651-81b9-7ffbdb02937c",
   "metadata": {},
   "outputs": [],
   "source": [
    "log.info(\"create Gradient_calculator object\")"
   ]
  },
  {
   "cell_type": "code",
   "execution_count": null,
   "id": "f685072c-9822-4ac8-b309-c7ef50e5a6cf",
   "metadata": {},
   "outputs": [],
   "source": [
    "# Instantiate Gradient calculator object\n",
    "gradient = Gradient_calculator(oracle_object = oracle, pseudotime_key = \"Pseudotime\")"
   ]
  },
  {
   "cell_type": "code",
   "execution_count": null,
   "id": "0a4d2b2b-8189-4314-890c-74b5b11ef3a0",
   "metadata": {},
   "outputs": [],
   "source": [
    "log.info(\"transfer data to grid\")"
   ]
  },
  {
   "cell_type": "code",
   "execution_count": null,
   "id": "176561b7-9ef0-4d1e-875d-25607bfc90c2",
   "metadata": {},
   "outputs": [],
   "source": [
    "gradient.calculate_p_mass(smooth=0.8, n_grid = n_grid, n_neighbors=50)\n",
    "gradient.calculate_mass_filter(min_mass = min_mass, plot=True)"
   ]
  },
  {
   "cell_type": "code",
   "execution_count": null,
   "id": "1b407c5b-afd0-4623-97c3-7604ad1a969c",
   "metadata": {},
   "outputs": [],
   "source": [
    "gradient.transfer_data_into_grid(\n",
    "    args={\n",
    "        \"method\": \"polynomial\", \n",
    "        \"n_poly\": n_poly,\n",
    "    }, \n",
    "    plot=True\n",
    ")"
   ]
  },
  {
   "cell_type": "code",
   "execution_count": null,
   "id": "8023e150-f050-4d23-82f0-ec3d489f3eaa",
   "metadata": {},
   "outputs": [],
   "source": [
    "log.info(\"calculate gradient\")"
   ]
  },
  {
   "cell_type": "code",
   "execution_count": null,
   "id": "e86f20ea-cb0c-4968-83a5-2783e3bdaeb3",
   "metadata": {},
   "outputs": [],
   "source": [
    "# Calculate gradient\n",
    "gradient.calculate_gradient()"
   ]
  },
  {
   "cell_type": "code",
   "execution_count": null,
   "id": "2c42406d-d1f3-4c20-b876-1c3bb8619582",
   "metadata": {},
   "outputs": [],
   "source": [
    "log.info(\"plot gradient\")"
   ]
  },
  {
   "cell_type": "code",
   "execution_count": null,
   "id": "22a8166a-88c8-4f39-8727-8966231b269e",
   "metadata": {},
   "outputs": [],
   "source": [
    "# Show results\n",
    "scale_dev = 40\n",
    "gradient.visualize_results(scale = scale_dev, s = 5)"
   ]
  },
  {
   "cell_type": "markdown",
   "id": "therapeutic-virgin",
   "metadata": {},
   "source": [
    "## 3) Save"
   ]
  },
  {
   "cell_type": "code",
   "execution_count": null,
   "id": "d4643ac1-fe5f-449d-96d0-fac1eda57e62",
   "metadata": {},
   "outputs": [],
   "source": [
    "log.info(\"save gradient object\")"
   ]
  },
  {
   "cell_type": "code",
   "execution_count": null,
   "id": "98150ec5-a0b7-48ce-9991-8a49e3a7d4de",
   "metadata": {},
   "outputs": [],
   "source": [
    "gradient.to_hdf5(gradient_obj_path)"
   ]
  },
  {
   "cell_type": "code",
   "execution_count": null,
   "id": "f4321517-db0c-4595-93fc-ce4dcc9cdfdd",
   "metadata": {},
   "outputs": [],
   "source": []
  },
  {
   "cell_type": "code",
   "execution_count": null,
   "id": "37beaa7f-ff37-4186-8307-60767f8c09ab",
   "metadata": {},
   "outputs": [],
   "source": []
  }
 ],
 "metadata": {
  "kernelspec": {
   "display_name": "Python 3 (ipykernel)",
   "language": "python",
   "name": "python3"
  },
  "language_info": {
   "codemirror_mode": {
    "name": "ipython",
    "version": 3
   },
   "file_extension": ".py",
   "mimetype": "text/x-python",
   "name": "python",
   "nbconvert_exporter": "python",
   "pygments_lexer": "ipython3",
   "version": "3.10.14"
  }
 },
 "nbformat": 4,
 "nbformat_minor": 5
}
