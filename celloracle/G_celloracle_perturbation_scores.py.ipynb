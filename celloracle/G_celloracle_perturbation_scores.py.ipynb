{
 "cells": [
  {
   "cell_type": "markdown",
   "id": "tested-mathematics",
   "metadata": {},
   "source": [
    "# CellOracle perturbation scores"
   ]
  },
  {
   "cell_type": "markdown",
   "id": "medium-myrtle",
   "metadata": {},
   "source": [
    "compute perturbation scores by comparing CellOracle vectors to differentiation vectors obtained from other trajectory based method"
   ]
  },
  {
   "cell_type": "code",
   "execution_count": null,
   "id": "unlike-copper",
   "metadata": {
    "tags": []
   },
   "outputs": [],
   "source": [
    "import re\n",
    "import logging as log\n",
    "from pathlib import Path\n",
    "import yaml\n",
    "\n",
    "import numpy as np\n",
    "import scipy as sp\n",
    "import pandas as pd\n",
    "import scanpy as sc\n",
    "import celloracle as co\n",
    "from celloracle.applications import Oracle_development_module\n",
    "\n",
    "import matplotlib.pyplot as plt\n",
    "from IPython.display import display, Markdown"
   ]
  },
  {
   "cell_type": "code",
   "execution_count": null,
   "id": "5ae1b005-7644-4860-af56-b37b8efff64c",
   "metadata": {},
   "outputs": [],
   "source": [
    "logger = log.getLogger()"
   ]
  },
  {
   "cell_type": "code",
   "execution_count": null,
   "id": "human-converter",
   "metadata": {},
   "outputs": [],
   "source": [
    "log.info(f\"CellOracle version: {co.__version__}\")"
   ]
  },
  {
   "cell_type": "code",
   "execution_count": null,
   "id": "golden-anxiety",
   "metadata": {},
   "outputs": [],
   "source": [
    "%matplotlib inline"
   ]
  },
  {
   "cell_type": "markdown",
   "id": "demanding-gospel",
   "metadata": {},
   "source": [
    "## Params"
   ]
  },
  {
   "cell_type": "code",
   "execution_count": null,
   "id": "cea6fc46-5446-4022-8371-7c8621fcb9f2",
   "metadata": {},
   "outputs": [],
   "source": [
    "## input\n",
    "celloracle_obj_simresult_path = \"/path/to/simulation_result.oracle\"\n",
    "gradient_obj_path = \"/path/to/gradient_object.gradient\"\n",
    "\n",
    "## output\n",
    "perturbation_score_path = \"/path/to/perturbation_scores_1.csv\"\n",
    "\n",
    "## params\n",
    "vm = 0.02\n",
    "scale_simulation = 0.5\n",
    "scale_dev = 40\n",
    "cluster_col = \"cell_type_obs_column\""
   ]
  },
  {
   "cell_type": "markdown",
   "id": "53a50139-44df-4ffb-9f48-3b86e50b1324",
   "metadata": {},
   "source": [
    "## 1) Load"
   ]
  },
  {
   "cell_type": "code",
   "execution_count": null,
   "id": "7b7fd95f-c597-4a74-93ef-d3b47980cb69",
   "metadata": {},
   "outputs": [],
   "source": [
    "log.info(\"load celloracle object\")"
   ]
  },
  {
   "cell_type": "code",
   "execution_count": null,
   "id": "fd806fe1-63ff-476f-ae92-26e39b804ce7",
   "metadata": {},
   "outputs": [],
   "source": [
    "oracle = co.load_hdf5(celloracle_obj_simresult_path)"
   ]
  },
  {
   "cell_type": "code",
   "execution_count": null,
   "id": "d392ab69-710c-45ff-8526-168e00cf4cbe",
   "metadata": {},
   "outputs": [],
   "source": [
    "log.info(\"load gradient object\")"
   ]
  },
  {
   "cell_type": "code",
   "execution_count": null,
   "id": "50698175-dfbd-4a92-890f-c94acc4d7bd3",
   "metadata": {},
   "outputs": [],
   "source": [
    "gradient = co.load_hdf5(gradient_obj_path)"
   ]
  },
  {
   "cell_type": "markdown",
   "id": "d9892803-e2ca-494f-a60f-5923e4b12dae",
   "metadata": {},
   "source": [
    "## 2) Calculate inner product of vectors"
   ]
  },
  {
   "cell_type": "code",
   "execution_count": null,
   "id": "eb08e2fc-e9da-4f9c-9657-9cfedc106bcd",
   "metadata": {},
   "outputs": [],
   "source": [
    "log.info(\"create Oracle_development_module object\")"
   ]
  },
  {
   "cell_type": "code",
   "execution_count": null,
   "id": "c8eafb90-34b2-4bdc-a711-ef535b10fa34",
   "metadata": {},
   "outputs": [],
   "source": [
    "# Make Oracle_development_module to compare two vector field\n",
    "dev = Oracle_development_module()"
   ]
  },
  {
   "cell_type": "code",
   "execution_count": null,
   "id": "542ebc26-5530-4dfd-b31a-8fa5b5bad6a5",
   "metadata": {},
   "outputs": [],
   "source": [
    "# Load development flow\n",
    "dev.load_differentiation_reference_data(gradient_object = gradient)"
   ]
  },
  {
   "cell_type": "code",
   "execution_count": null,
   "id": "7fb83f79-86ff-4a34-81cb-876e040adccd",
   "metadata": {},
   "outputs": [],
   "source": [
    "# Load simulation result\n",
    "dev.load_perturb_simulation_data(oracle_object = oracle)"
   ]
  },
  {
   "cell_type": "code",
   "execution_count": null,
   "id": "9ecd3893-8f0e-4543-a453-859e28fca927",
   "metadata": {},
   "outputs": [],
   "source": [
    "log.info(\"calculate inner product\")"
   ]
  },
  {
   "cell_type": "code",
   "execution_count": null,
   "id": "6578d077-5991-4f4f-ac64-0ca89f250983",
   "metadata": {},
   "outputs": [],
   "source": [
    "# Calculate inner produc scores\n",
    "dev.calculate_inner_product()\n",
    "dev.calculate_digitized_ip(n_bins=10)"
   ]
  },
  {
   "cell_type": "markdown",
   "id": "6e71ba44-900f-4da0-ad82-38cc05589502",
   "metadata": {},
   "source": [
    "## 3) Visualise perturbation scores"
   ]
  },
  {
   "cell_type": "markdown",
   "id": "b1c654c9-6651-4907-a77a-fe4939886f21",
   "metadata": {},
   "source": [
    "### all lineages"
   ]
  },
  {
   "cell_type": "code",
   "execution_count": null,
   "id": "c0a99518-0e5c-44b8-a68c-1b476f5a4307",
   "metadata": {},
   "outputs": [],
   "source": [
    "fig, ax = plt.subplots(1, 2, figsize=[12, 6])\n",
    "dev.plot_inner_product_on_grid(vm=vm, s=50, ax=ax[0])\n",
    "ax[0].set_title(f\"PS\")\n",
    "\n",
    "dev.plot_inner_product_random_on_grid(vm=vm, s=50, ax=ax[1])\n",
    "ax[1].set_title(f\"PS calculated with Randomized simulation vector\")\n",
    "plt.show()"
   ]
  },
  {
   "cell_type": "code",
   "execution_count": null,
   "id": "c1d47598-d313-42e5-8422-81ffef8def81",
   "metadata": {},
   "outputs": [],
   "source": [
    "# Show perturbation scores with perturbation simulation vector field\n",
    "fig, ax = plt.subplots(figsize=[6, 6])\n",
    "dev.plot_inner_product_on_grid(vm = vm, s = 50, ax = ax)\n",
    "dev.plot_simulation_flow_on_grid(scale = scale_simulation, show_background = False, ax = ax)"
   ]
  },
  {
   "cell_type": "code",
   "execution_count": null,
   "id": "2832e584-a9d4-4e2b-8fcb-1a375c7fbb24",
   "metadata": {},
   "outputs": [],
   "source": [
    "dev.visualize_development_module_layout_0(\n",
    "    s = 5,\n",
    "    scale_for_simulation = scale_simulation,\n",
    "    s_grid = 50,\n",
    "    scale_for_pseudotime = scale_dev,\n",
    "    vm = vm\n",
    ")"
   ]
  },
  {
   "cell_type": "markdown",
   "id": "640ccdc3-a960-47d2-a02f-0a202f9cdbb8",
   "metadata": {},
   "source": [
    "## 4) Calculate per cell type / lineage"
   ]
  },
  {
   "cell_type": "code",
   "execution_count": null,
   "id": "542ad78f-0239-4c4e-bed4-15a3c73b42e4",
   "metadata": {
    "tags": []
   },
   "outputs": [],
   "source": [
    "mean_perturbation_scores = {}\n",
    "\n",
    "for grp in oracle.adata.obs[cluster_col].unique().tolist():\n",
    "    # Get cell index list for the cells of interest\n",
    "    clusters = [grp]\n",
    "    cluster_col = cluster_col\n",
    "    lineage_name = grp\n",
    "\n",
    "    try:\n",
    "        cell_idx = np.where(oracle.adata.obs[cluster_col].isin(clusters))[0]\n",
    "    except Exception:\n",
    "        log.exception(f\"could not select cells for {grp}\")\n",
    "\n",
    "    try:\n",
    "        dev = Oracle_development_module()\n",
    "\n",
    "        # Load development flow\n",
    "        dev.load_differentiation_reference_data(gradient_object = gradient)\n",
    "\n",
    "        # Load simulation result\n",
    "        dev.load_perturb_simulation_data(\n",
    "            oracle_object = oracle,\n",
    "            cell_idx_use = cell_idx, \n",
    "            name = lineage_name,\n",
    "        )\n",
    "    except Exception:\n",
    "        log.exception(f\"could not load data {grp}\")\n",
    "\n",
    "    try:\n",
    "        # Calculation\n",
    "        dev.calculate_inner_product()\n",
    "        dev.calculate_digitized_ip(n_bins = 10)\n",
    "    except Exception:\n",
    "        log.exception(f\"could not calculate PS {grp}\")\n",
    "\n",
    "    try:\n",
    "        dev.visualize_development_module_layout_0(\n",
    "            s = 5,\n",
    "            scale_for_simulation = scale_simulation,\n",
    "            s_grid = 50,\n",
    "            scale_for_pseudotime = scale_dev,\n",
    "            vm = vm,\n",
    "        )\n",
    "    except Exception:\n",
    "        log.exception(f\"could not plot {grp}\")\n",
    "\n",
    "    try:\n",
    "        mean_perturbation_scores[grp] = dev.inner_product_df.score.mean()\n",
    "    except Exception:\n",
    "        log.exception(f\"could not save PS {grp}\")"
   ]
  },
  {
   "cell_type": "code",
   "execution_count": null,
   "id": "fd144758-25b2-4c89-b7ed-68cd276a8858",
   "metadata": {},
   "outputs": [],
   "source": [
    "ps_df = pd.DataFrame(mean_perturbation_scores, index=[\"PS\"]).T"
   ]
  },
  {
   "cell_type": "code",
   "execution_count": null,
   "id": "e165a0db-c4b2-4119-92d8-2283326ba947",
   "metadata": {},
   "outputs": [],
   "source": [
    "ps_df.plot.bar(title = \"perturbation scores per cell type\")"
   ]
  },
  {
   "cell_type": "markdown",
   "id": "a5f6e608-9886-4c2d-9d98-36754b08e806",
   "metadata": {},
   "source": [
    "## 5) Save"
   ]
  },
  {
   "cell_type": "code",
   "execution_count": null,
   "id": "72f90df9-37f7-4878-9b59-decc854b13af",
   "metadata": {},
   "outputs": [],
   "source": [
    "ps_df.to_csv(perturbation_score_path)"
   ]
  },
  {
   "cell_type": "code",
   "execution_count": null,
   "id": "21f8a89b-1891-496a-9948-0aed4dcd7070",
   "metadata": {},
   "outputs": [],
   "source": []
  },
  {
   "cell_type": "code",
   "execution_count": null,
   "id": "9993f552-1a38-46e6-82c1-3be3af833312",
   "metadata": {},
   "outputs": [],
   "source": []
  }
 ],
 "metadata": {
  "kernelspec": {
   "display_name": "Python 3 (ipykernel)",
   "language": "python",
   "name": "python3"
  },
  "language_info": {
   "codemirror_mode": {
    "name": "ipython",
    "version": 3
   },
   "file_extension": ".py",
   "mimetype": "text/x-python",
   "name": "python",
   "nbconvert_exporter": "python",
   "pygments_lexer": "ipython3",
   "version": "3.10.14"
  }
 },
 "nbformat": 4,
 "nbformat_minor": 5
}
