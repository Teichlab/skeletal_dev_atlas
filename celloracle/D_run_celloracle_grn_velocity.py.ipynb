{
 "cells": [
  {
   "cell_type": "markdown",
   "id": "tested-mathematics",
   "metadata": {},
   "source": [
    "# CellOracle GRN velocity"
   ]
  },
  {
   "cell_type": "markdown",
   "id": "medium-myrtle",
   "metadata": {},
   "source": [
    "run CellOracle to obtain GRN velocities from cell type specific networks"
   ]
  },
  {
   "cell_type": "code",
   "execution_count": null,
   "id": "unlike-copper",
   "metadata": {
    "tags": []
   },
   "outputs": [],
   "source": [
    "import re\n",
    "import logging as log\n",
    "from pathlib import Path\n",
    "import yaml\n",
    "\n",
    "import numpy as np\n",
    "import scipy as sp\n",
    "import pandas as pd\n",
    "import scanpy as sc\n",
    "import scvelo as scv\n",
    "import celloracle as co\n",
    "\n",
    "import matplotlib.pyplot as plt\n",
    "from IPython.display import display, Markdown"
   ]
  },
  {
   "cell_type": "code",
   "execution_count": null,
   "id": "71c15c87-2915-4709-9e0c-7456306e86a7",
   "metadata": {},
   "outputs": [],
   "source": [
    "logger = log.getLogger()"
   ]
  },
  {
   "cell_type": "code",
   "execution_count": null,
   "id": "human-converter",
   "metadata": {},
   "outputs": [],
   "source": [
    "log.info(f\"CellOracle version: {co.__version__}\")"
   ]
  },
  {
   "cell_type": "code",
   "execution_count": null,
   "id": "golden-anxiety",
   "metadata": {},
   "outputs": [],
   "source": [
    "%matplotlib inline"
   ]
  },
  {
   "cell_type": "markdown",
   "id": "demanding-gospel",
   "metadata": {},
   "source": [
    "## Params"
   ]
  },
  {
   "cell_type": "code",
   "execution_count": null,
   "id": "known-singles",
   "metadata": {},
   "outputs": [],
   "source": [
    "celloracle_obj_path = \"/path/to/celloracle.oracle\"\n",
    "links_obj_path = \"/path/to/celloracle.links\"\n",
    "\n",
    "# output\n",
    "celloracle_obj_simresult_path = \"/path/to/simulation_result.oracle\"\n",
    "\n",
    "cell_type_annot = \"cell_type_obs_column\"\n",
    "goi = \"RUNX2\"  # gene of interest\n",
    "perturb_type = \"KO\"\n",
    "\n",
    "scale = 25\n",
    "scale_sim = 0.5\n",
    "min_mass = 0.005"
   ]
  },
  {
   "cell_type": "code",
   "execution_count": null,
   "id": "sticky-evening",
   "metadata": {},
   "outputs": [],
   "source": [
    "assert perturb_type in [\"KO\", \"overexpression\", \"topTF\"]"
   ]
  },
  {
   "cell_type": "markdown",
   "id": "sixth-evidence",
   "metadata": {},
   "source": [
    "## 1) Load"
   ]
  },
  {
   "cell_type": "code",
   "execution_count": null,
   "id": "original-colony",
   "metadata": {},
   "outputs": [],
   "source": [
    "log.info(\"load celloracle object and links\")"
   ]
  },
  {
   "cell_type": "code",
   "execution_count": null,
   "id": "environmental-webmaster",
   "metadata": {},
   "outputs": [],
   "source": [
    "oracle = co.load_hdf5(celloracle_obj_path)"
   ]
  },
  {
   "cell_type": "code",
   "execution_count": null,
   "id": "israeli-employment",
   "metadata": {},
   "outputs": [],
   "source": [
    "links = co.load_hdf5(links_obj_path)"
   ]
  },
  {
   "cell_type": "code",
   "execution_count": null,
   "id": "structured-revelation",
   "metadata": {
    "tags": []
   },
   "outputs": [],
   "source": [
    "oracle.adata"
   ]
  },
  {
   "cell_type": "markdown",
   "id": "economic-station",
   "metadata": {},
   "source": [
    "## 2) Fit predictive models for state specific networks"
   ]
  },
  {
   "cell_type": "code",
   "execution_count": null,
   "id": "presidential-coach",
   "metadata": {},
   "outputs": [],
   "source": [
    "log.info(\"fit predictive models\")"
   ]
  },
  {
   "cell_type": "code",
   "execution_count": null,
   "id": "anonymous-valley",
   "metadata": {},
   "outputs": [],
   "source": [
    "links.filter_links()"
   ]
  },
  {
   "cell_type": "code",
   "execution_count": null,
   "id": "geographic-contrast",
   "metadata": {},
   "outputs": [],
   "source": [
    "oracle.get_cluster_specific_TFdict_from_Links(links_object=links)"
   ]
  },
  {
   "cell_type": "code",
   "execution_count": null,
   "id": "amazing-wound",
   "metadata": {},
   "outputs": [],
   "source": [
    "oracle.fit_GRN_for_simulation(alpha=10, use_cluster_specific_TFdict=True)"
   ]
  },
  {
   "cell_type": "markdown",
   "id": "therapeutic-virgin",
   "metadata": {},
   "source": [
    "## 3) Simulate gene perturbation"
   ]
  },
  {
   "cell_type": "markdown",
   "id": "purple-collins",
   "metadata": {},
   "source": [
    "### plot UMAP and gene expr distribution"
   ]
  },
  {
   "cell_type": "code",
   "execution_count": null,
   "id": "ancient-costs",
   "metadata": {},
   "outputs": [],
   "source": [
    "log.info(\"plot umap\")"
   ]
  },
  {
   "cell_type": "code",
   "execution_count": null,
   "id": "bored-vancouver",
   "metadata": {
    "tags": []
   },
   "outputs": [],
   "source": [
    "plot_fields = [oracle.cluster_column_name]\n",
    "if goi in oracle.adata.var_names:\n",
    "    plot_fields.append(goi)\n",
    "\n",
    "sc.pl.draw_graph(\n",
    "    oracle.adata, \n",
    "    color = plot_fields,\n",
    "    layer = \"imputed_count\", \n",
    "    use_raw = False, \n",
    "    cmap = \"viridis\"\n",
    ")"
   ]
  },
  {
   "cell_type": "code",
   "execution_count": null,
   "id": "little-aircraft",
   "metadata": {
    "tags": []
   },
   "outputs": [],
   "source": [
    "try:\n",
    "    # Plot gene expression in histogram\n",
    "    sc.get.obs_df(oracle.adata, keys=[goi], layer=\"imputed_count\").hist()\n",
    "    plt.show()\n",
    "except Exception:\n",
    "    log.exception(f\"could not plot gene expression for {goi}\")"
   ]
  },
  {
   "cell_type": "markdown",
   "id": "effective-gibraltar",
   "metadata": {},
   "source": [
    "### simulate perturbation"
   ]
  },
  {
   "cell_type": "code",
   "execution_count": null,
   "id": "1734eae0-7f7a-41c4-bc0e-723d8e1bf133",
   "metadata": {
    "tags": []
   },
   "outputs": [],
   "source": [
    "if perturb_type == \"topTF\":\n",
    "    log.info(\"simulate perturbation per cell type using top TFs\")\n",
    "\n",
    "    sc.tl.rank_genes_groups(oracle.adata, groupby=cell_type_annot, method=\"wilcoxon\")\n",
    "\n",
    "    delta_x = None\n",
    "    sim_count = None\n",
    "\n",
    "    for grp in oracle.adata.obs[cell_type_annot].unique().tolist():\n",
    "        log.info(f\"simulate shift for {grp}\")\n",
    "\n",
    "        rank_df = sc.get.rank_genes_groups_df(oracle.adata, group=grp)\n",
    "\n",
    "        scr = rank_df[rank_df.names.isin(oracle.active_regulatory_genes)].set_index(\"names\")[\"scores\"]\n",
    "        scr -= scr.min()\n",
    "        scr /= scr.max()\n",
    "        scr *= 2\n",
    "        scr -= 1\n",
    "\n",
    "        max_vals = sc.get.obs_df(oracle.adata, keys=scr.index.tolist(), layer=\"imputed_count\").max()\n",
    "        min_vals = sc.get.obs_df(oracle.adata, keys=scr.index.tolist(), layer=\"imputed_count\").min()\n",
    "        mean_vals = sc.get.obs_df(oracle.adata, keys=scr.index.tolist(), layer=\"imputed_count\").mean()\n",
    "        diff_max = max_vals - mean_vals\n",
    "        diff_min = mean_vals - min_vals\n",
    "\n",
    "        scr = {\n",
    "            x: mean_vals[x]+diff_max[x]*scr[x] if scr[x]>0 else mean_vals[x]+diff_min[x]*scr[x]\n",
    "            for x in scr.index[:10].tolist()\n",
    "        }\n",
    "\n",
    "        oracle.simulate_shift(\n",
    "            perturb_condition = scr,\n",
    "            n_propagation=3\n",
    "        )\n",
    "\n",
    "        mask = oracle.adata.obs[cell_type_annot] == grp\n",
    "\n",
    "        if sim_count is None:\n",
    "            sim_count = oracle.adata.layers[\"simulated_count\"]\n",
    "        else:\n",
    "            sim_count[mask] = oracle.adata[mask].layers[\"simulated_count\"]\n",
    "\n",
    "        if delta_x is None:\n",
    "            delta_x = oracle.adata.layers[\"delta_X\"]\n",
    "        else:\n",
    "            delta_x[mask] = oracle.adata[mask].layers[\"delta_X\"]\n",
    "\n",
    "    oracle.adata.layers[\"simulated_count\"] = sim_count\n",
    "    oracle.adata.layers[\"delta_X\"] = delta_x"
   ]
  },
  {
   "cell_type": "code",
   "execution_count": null,
   "id": "9da4b1a1-5d59-401f-b775-2ee9855a741b",
   "metadata": {},
   "outputs": [],
   "source": [
    "if perturb_type == \"KO\":\n",
    "    oracle.simulate_shift(\n",
    "        perturb_condition={goi: 0.0},\n",
    "        n_propagation=3\n",
    "    )"
   ]
  },
  {
   "cell_type": "code",
   "execution_count": null,
   "id": "b631f30d-5d29-4fa0-9a16-5ed59d0adc8b",
   "metadata": {},
   "outputs": [],
   "source": [
    "if perturb_type == \"overexpression\":\n",
    "    max_val = sc.get.obs_df(oracle.adata, keys=[goi], layer=\"imputed_count\").max()[0]\n",
    "    oracle.simulate_shift(\n",
    "        perturb_condition={goi: max_val},\n",
    "        n_propagation=3\n",
    "    )"
   ]
  },
  {
   "cell_type": "markdown",
   "id": "672ccdee-1249-4f7f-90d0-ba8f6b7bc5ca",
   "metadata": {},
   "source": [
    "### transition probabilities and embedding"
   ]
  },
  {
   "cell_type": "code",
   "execution_count": null,
   "id": "existing-appearance",
   "metadata": {},
   "outputs": [],
   "source": [
    "# Get transition probability\n",
    "oracle.estimate_transition_prob(\n",
    "    n_neighbors=50,\n",
    "    knn_random=True,\n",
    "    sampled_fraction=1\n",
    ")"
   ]
  },
  {
   "cell_type": "code",
   "execution_count": null,
   "id": "developing-nudist",
   "metadata": {},
   "outputs": [],
   "source": [
    "# Calculate embedding\n",
    "oracle.calculate_embedding_shift(sigma_corr=0.05)"
   ]
  },
  {
   "cell_type": "markdown",
   "id": "7d81a9e8-91d0-45c4-b341-937a50d94f13",
   "metadata": {},
   "source": [
    "### save celloracle object"
   ]
  },
  {
   "cell_type": "code",
   "execution_count": null,
   "id": "5b4e46b7-3f55-40f5-b93c-636d240f9784",
   "metadata": {
    "tags": []
   },
   "outputs": [],
   "source": [
    "oracle.to_hdf5(celloracle_obj_simresult_path)"
   ]
  },
  {
   "cell_type": "markdown",
   "id": "involved-resort",
   "metadata": {},
   "source": [
    "## 4) Plot velocities"
   ]
  },
  {
   "cell_type": "code",
   "execution_count": null,
   "id": "usual-strip",
   "metadata": {},
   "outputs": [],
   "source": [
    "log.info(\"plot velocities\")"
   ]
  },
  {
   "cell_type": "code",
   "execution_count": null,
   "id": "nearby-radar",
   "metadata": {
    "tags": []
   },
   "outputs": [],
   "source": [
    "fig, ax = plt.subplots(1, 2,  figsize=[13, 6])\n",
    "\n",
    "scale = scale\n",
    "# Show quiver plot\n",
    "oracle.plot_quiver(scale=scale, ax=ax[0])\n",
    "ax[0].set_title(f\"Simulated cell identity shift vector: {goi} {perturb_type}\")\n",
    "\n",
    "# Show quiver plot that was calculated with randomized graph.\n",
    "oracle.plot_quiver_random(scale=scale, ax=ax[1])\n",
    "ax[1].set_title(f\"Randomized simulation vector\")\n",
    "\n",
    "plt.show()"
   ]
  },
  {
   "cell_type": "markdown",
   "id": "native-volume",
   "metadata": {},
   "source": [
    "### plot on a grid"
   ]
  },
  {
   "cell_type": "markdown",
   "id": "north-conspiracy",
   "metadata": {},
   "source": [
    "adjust grid"
   ]
  },
  {
   "cell_type": "code",
   "execution_count": null,
   "id": "fuzzy-somalia",
   "metadata": {},
   "outputs": [],
   "source": [
    "log.info(\"setup grid\")"
   ]
  },
  {
   "cell_type": "code",
   "execution_count": null,
   "id": "fitted-exploration",
   "metadata": {},
   "outputs": [],
   "source": [
    "n_grid = 40\n",
    "oracle.calculate_p_mass(smooth=0.8, n_grid=n_grid, n_neighbors=50)"
   ]
  },
  {
   "cell_type": "code",
   "execution_count": null,
   "id": "simple-consensus",
   "metadata": {
    "tags": []
   },
   "outputs": [],
   "source": [
    "oracle.suggest_mass_thresholds(n_suggestion=12)"
   ]
  },
  {
   "cell_type": "code",
   "execution_count": null,
   "id": "unlike-aluminum",
   "metadata": {
    "tags": []
   },
   "outputs": [],
   "source": [
    "min_mass = min_mass\n",
    "oracle.calculate_mass_filter(min_mass=min_mass, plot=True)"
   ]
  },
  {
   "cell_type": "markdown",
   "id": "talented-criticism",
   "metadata": {},
   "source": [
    "plot"
   ]
  },
  {
   "cell_type": "code",
   "execution_count": null,
   "id": "republican-paintball",
   "metadata": {},
   "outputs": [],
   "source": [
    "log.info(\"plot velocities on grid\")"
   ]
  },
  {
   "cell_type": "code",
   "execution_count": null,
   "id": "linear-ensemble",
   "metadata": {
    "tags": []
   },
   "outputs": [],
   "source": [
    "fig, ax = plt.subplots(1, 2,  figsize=[13, 6])\n",
    "\n",
    "scale_simulation = scale_sim\n",
    "# Show quiver plot\n",
    "oracle.plot_simulation_flow_on_grid(scale=scale_simulation, ax=ax[0])\n",
    "ax[0].set_title(f\"Simulated cell identity shift vector: {goi} {perturb_type}\")\n",
    "\n",
    "# Show quiver plot that was calculated with randomized graph.\n",
    "oracle.plot_simulation_flow_random_on_grid(scale=scale_simulation, ax=ax[1])\n",
    "ax[1].set_title(f\"Randomized simulation vector\")\n",
    "\n",
    "plt.show()"
   ]
  },
  {
   "cell_type": "code",
   "execution_count": null,
   "id": "greater-winner",
   "metadata": {},
   "outputs": [],
   "source": [
    "# Plot vector field with cell cluster\n",
    "fig, ax = plt.subplots(figsize=[8, 8])\n",
    "\n",
    "oracle.plot_cluster_whole(ax=ax, s=10)\n",
    "oracle.plot_simulation_flow_on_grid(scale=scale_simulation, ax=ax, show_background=False)\n",
    "ax.set_title(f\"Simulated cell identity shift vector: {goi} {perturb_type}\")\n",
    "\n",
    "Path(\"celloracle_perturbation_plots\").mkdir(parents=False, exist_ok=True)\n",
    "plt.savefig(f\"celloracle_perturbation_plots/{goi}_{perturb_type}.pdf\", dpi=400)"
   ]
  },
  {
   "cell_type": "markdown",
   "id": "6506519f-ec5d-4104-930d-febed3e2f834",
   "metadata": {},
   "source": [
    "### plot on PAGA graph"
   ]
  },
  {
   "cell_type": "code",
   "execution_count": null,
   "id": "bfa1bac1-0393-4ece-870c-c5192b67cd3d",
   "metadata": {},
   "outputs": [],
   "source": [
    "try:\n",
    "    scv.tl.velocity_graph(oracle.adata, vkey=\"delta_X\", xkey=\"simulation_input\")\n",
    "    scv.tl.paga(oracle.adata, groups=cell_type_annot, vkey=\"delta_X\")\n",
    "except Exception:\n",
    "    log.exception(\"could not calculate velocity graph for PAGA\")"
   ]
  },
  {
   "cell_type": "code",
   "execution_count": null,
   "id": "1af9267f-ff98-4b1e-a756-46f9ff9640ba",
   "metadata": {},
   "outputs": [],
   "source": [
    "try:\n",
    "    scv.pl.paga_compare(oracle.adata, color=cell_type_annot, transitions=\"transitions_confidence\", fontoutline=1.5)\n",
    "except Exception:\n",
    "    log.exception(\"could not plot\")"
   ]
  },
  {
   "cell_type": "code",
   "execution_count": null,
   "id": "1adc0db0-0412-4b19-ab13-31b3a3ba35d0",
   "metadata": {},
   "outputs": [],
   "source": [
    "try:\n",
    "    scv.pl.paga(oracle.adata, dashed_edges=None, edge_width_scale=2.0, legend_loc=\"on data\", fontoutline=1.5)\n",
    "except Exception:\n",
    "    log.exception(\"could not plot\")"
   ]
  },
  {
   "cell_type": "code",
   "execution_count": null,
   "id": "8c750532-4f3c-4fa8-ad5d-595bc0187feb",
   "metadata": {},
   "outputs": [],
   "source": []
  },
  {
   "cell_type": "code",
   "execution_count": null,
   "id": "05025e55-a0c3-48b0-8ef0-b6d701e95942",
   "metadata": {},
   "outputs": [],
   "source": [
    "try:\n",
    "    plt.rcParams['pdf.fonttype'] = 42\n",
    "    plt.rcParams['ps.fonttype'] = 42\n",
    "    plt.rcParams['svg.fonttype'] = \"none\"\n",
    "\n",
    "    Path(\"celloracle_perturbation_plots\").mkdir(parents=False, exist_ok=True)\n",
    "\n",
    "    scv.pl.velocity_embedding_stream(\n",
    "        oracle.adata, vkey=\"delta_X\", basis=\"X_draw_graph_fa\", color=\"annot_v4\", \n",
    "        title=f\"Simulated cell identity shift vector: {goi} {perturb_type}\", \n",
    "        linewidth=3, alpha=0.1,\n",
    "        save = f\"celloracle_perturbation_plots/{goi}_{perturb_type}.svg\",\n",
    "    )\n",
    "except Exception:\n",
    "    log.exception(\"could not plot embedding stream\")\n",
    "\n",
    "\n",
    "# plt.savefig(f\"celloracle_perturbation_plots/{goi}_{perturb_type}.pdf\", dpi=400)"
   ]
  }
 ],
 "metadata": {
  "kernelspec": {
   "display_name": "Python 3 (ipykernel)",
   "language": "python",
   "name": "python3"
  },
  "language_info": {
   "codemirror_mode": {
    "name": "ipython",
    "version": 3
   },
   "file_extension": ".py",
   "mimetype": "text/x-python",
   "name": "python",
   "nbconvert_exporter": "python",
   "pygments_lexer": "ipython3",
   "version": "3.10.14"
  }
 },
 "nbformat": 4,
 "nbformat_minor": 5
}
