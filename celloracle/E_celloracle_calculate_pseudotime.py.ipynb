{
 "cells": [
  {
   "cell_type": "markdown",
   "id": "tested-mathematics",
   "metadata": {},
   "source": [
    "# CellOracle calculate pseudotime"
   ]
  },
  {
   "cell_type": "markdown",
   "id": "medium-myrtle",
   "metadata": {},
   "source": [
    "calculate pseudotime using CellOracle's helper class"
   ]
  },
  {
   "cell_type": "code",
   "execution_count": null,
   "id": "unlike-copper",
   "metadata": {
    "tags": []
   },
   "outputs": [],
   "source": [
    "import re\n",
    "import logging as log\n",
    "from pathlib import Path\n",
    "import yaml\n",
    "\n",
    "import numpy as np\n",
    "import scipy as sp\n",
    "import pandas as pd\n",
    "import scanpy as sc\n",
    "import celloracle as co\n",
    "from celloracle.applications import Pseudotime_calculator\n",
    "\n",
    "import matplotlib.pyplot as plt\n",
    "from IPython.display import display, Markdown"
   ]
  },
  {
   "cell_type": "code",
   "execution_count": null,
   "id": "human-converter",
   "metadata": {},
   "outputs": [],
   "source": [
    "log.info(f\"CellOracle version: {co.__version__}\")"
   ]
  },
  {
   "cell_type": "code",
   "execution_count": null,
   "id": "golden-anxiety",
   "metadata": {},
   "outputs": [],
   "source": [
    "plt.rcParams[\"figure.figsize\"] = [5,5]\n",
    "%config InlineBackend.figure_format = 'retina'\n",
    "plt.rcParams[\"savefig.dpi\"] = 300\n",
    "\n",
    "%matplotlib inline"
   ]
  },
  {
   "cell_type": "markdown",
   "id": "demanding-gospel",
   "metadata": {},
   "source": [
    "## Params"
   ]
  },
  {
   "cell_type": "code",
   "execution_count": null,
   "id": "38c3edbb-53b4-4f18-8c11-c5c5f47cb994",
   "metadata": {},
   "outputs": [],
   "source": [
    "## input\n",
    "metacell_rna_h5ad = \"/path/to/rna_metacells.h5ad\"\n",
    "\n",
    "## params\n",
    "oracle_obj_path = \"/path/to/celloracle.oracle\"\n",
    "embedding_key = \"X_draw_graph_fa\"\n",
    "cluster_col = \"cell_type_obs_column\"\n",
    "lineage_dictionary =  {\"lineage\": []}"
   ]
  },
  {
   "cell_type": "markdown",
   "id": "sixth-evidence",
   "metadata": {},
   "source": [
    "## 1) Load"
   ]
  },
  {
   "cell_type": "code",
   "execution_count": null,
   "id": "original-colony",
   "metadata": {},
   "outputs": [],
   "source": [
    "log.info(\"load RNA anndata file\")"
   ]
  },
  {
   "cell_type": "code",
   "execution_count": null,
   "id": "3a3fb04d-1c41-420a-9668-bd832d0fb67e",
   "metadata": {},
   "outputs": [],
   "source": [
    "adata = sc.read_h5ad(metacell_rna_h5ad)"
   ]
  },
  {
   "cell_type": "code",
   "execution_count": null,
   "id": "a00a2121-f440-46f7-802c-9ecd6764512f",
   "metadata": {},
   "outputs": [],
   "source": [
    "lineage_dictionary = {\n",
    "    k: v if v else adata.obs[cluster_col].unique().tolist()\n",
    "    for k, v in lineage_dictionary.items()\n",
    "}"
   ]
  },
  {
   "cell_type": "code",
   "execution_count": null,
   "id": "2731b08b-d89f-4398-98f5-42f967ff2f64",
   "metadata": {},
   "outputs": [],
   "source": [
    "log.info(\"load celloracle object\")"
   ]
  },
  {
   "cell_type": "code",
   "execution_count": null,
   "id": "b6a3fc45-1c6e-407f-ae32-c51d62ba5a5b",
   "metadata": {},
   "outputs": [],
   "source": [
    "oracle = co.load_hdf5(oracle_obj_path)"
   ]
  },
  {
   "cell_type": "code",
   "execution_count": null,
   "id": "e1130ef2-dfea-400c-83c9-94c3e09e6adf",
   "metadata": {},
   "outputs": [],
   "source": [
    "pt = Pseudotime_calculator(oracle_object=oracle)"
   ]
  },
  {
   "cell_type": "markdown",
   "id": "economic-station",
   "metadata": {},
   "source": [
    "## 2) Add lineage information to pseudotime object"
   ]
  },
  {
   "cell_type": "code",
   "execution_count": null,
   "id": "presidential-coach",
   "metadata": {},
   "outputs": [],
   "source": [
    "log.info(\"add lineage information to pseudotime object\")"
   ]
  },
  {
   "cell_type": "code",
   "execution_count": null,
   "id": "b25785c4-f8f7-4068-860a-885fb7eb2afc",
   "metadata": {},
   "outputs": [],
   "source": [
    "# Input lineage information into pseudotime object\n",
    "pt.set_lineage(lineage_dictionary = lineage_dictionary)\n",
    "\n",
    "# Visualize lineage information\n",
    "pt.plot_lineages()"
   ]
  },
  {
   "cell_type": "markdown",
   "id": "therapeutic-virgin",
   "metadata": {},
   "source": [
    "## 3) Select root cells of each lineage interactively"
   ]
  },
  {
   "cell_type": "code",
   "execution_count": null,
   "id": "4da73017-5f9f-4280-9f22-a042dc99d88b",
   "metadata": {},
   "outputs": [],
   "source": [
    "try:\n",
    "    import plotly.express as px\n",
    "    def plot(adata, embedding_key, cluster_column_name):\n",
    "        embedding = adata.obsm[embedding_key]\n",
    "        df = pd.DataFrame(embedding, columns=[\"x\", \"y\"])\n",
    "        df[\"cluster\"] = adata.obs[cluster_column_name].values\n",
    "        df[\"label\"] = adata.obs.index.values\n",
    "        fig = px.scatter(df, x=\"x\", y=\"y\", hover_name=df[\"label\"], color=\"cluster\")\n",
    "        fig.update_layout(\n",
    "            autosize=False,\n",
    "            width=1000,\n",
    "            height=1000,\n",
    "            margin=dict(\n",
    "                l=50,\n",
    "                r=50,\n",
    "                b=100,\n",
    "                t=100,\n",
    "                pad=4\n",
    "            ),\n",
    "            paper_bgcolor=\"LightSteelBlue\",\n",
    "        )\n",
    "        fig.show()\n",
    "        \n",
    "    pt.adata.obs[\"barcode\"] = pt.adata.obs_names\n",
    "    pt.adata.obs_names = range(len(pt.adata.obs_names))\n",
    "\n",
    "    plot(adata = pt.adata,\n",
    "         embedding_key = pt.obsm_key,\n",
    "         cluster_column_name = pt.cluster_column_name)\n",
    "except BaseException:\n",
    "    log.exception(\"Plotly not found in your environment. Did you install plotly? Please read the instruction above.\")"
   ]
  },
  {
   "cell_type": "code",
   "execution_count": null,
   "id": "68b0c043-ffbd-497d-be26-3cee96b4ffa2",
   "metadata": {},
   "outputs": [],
   "source": [
    "pt.adata.obs_names = pt.adata.obs[\"barcode\"]\n",
    "\n",
    "\n",
    "### enter the number of selected cell here\n",
    "pt.adata.obs[\"barcode\"][1234]\n",
    "##########################################"
   ]
  },
  {
   "cell_type": "code",
   "execution_count": null,
   "id": "33d69483-757f-4e28-a1aa-825a89ff4390",
   "metadata": {},
   "outputs": [],
   "source": [
    "# Estimated root cell name for each lineage\n",
    "root_cells = {\"lineage\": \"root_cell_barcode\"}\n",
    "pt.set_root_cells(root_cells=root_cells)"
   ]
  },
  {
   "cell_type": "code",
   "execution_count": null,
   "id": "6108f5e4-42c6-4ad1-aa53-8b22b986b58c",
   "metadata": {},
   "outputs": [],
   "source": [
    "log.info(\"plot root cells\")\n",
    "pt.plot_root_cells()"
   ]
  },
  {
   "cell_type": "markdown",
   "id": "fd10822a-318b-4a8a-a9d3-bd3609ac53d9",
   "metadata": {},
   "source": [
    "## 4) Calculate pseudotime"
   ]
  },
  {
   "cell_type": "code",
   "execution_count": null,
   "id": "dd7f7204-db8a-4f38-9ce0-9198b557d947",
   "metadata": {},
   "outputs": [],
   "source": [
    "if not \"X_diffmap\" in pt.adata.obsm:\n",
    "    log.warning(\"no X_diffmap found in anndata, calculating diffusion map\")\n",
    "    sc.pp.neighbors(pt.adata, n_neighbors=30)\n",
    "    sc.tl.diffmap(pt.adata)"
   ]
  },
  {
   "cell_type": "code",
   "execution_count": null,
   "id": "089cb381-19d8-4673-9710-7b3e22e9ff1c",
   "metadata": {},
   "outputs": [],
   "source": [
    "log.info(\"calculate pseudotime\")"
   ]
  },
  {
   "cell_type": "code",
   "execution_count": null,
   "id": "37519ac7-c444-4dd4-859a-1a7b246a50e8",
   "metadata": {},
   "outputs": [],
   "source": [
    "# Calculate pseudotime\n",
    "pt.get_pseudotime_per_each_lineage()"
   ]
  },
  {
   "cell_type": "code",
   "execution_count": null,
   "id": "aa73c40c-4099-4125-bb4b-bc42721c7924",
   "metadata": {},
   "outputs": [],
   "source": [
    "# Check result\n",
    "pt.adata.obs[[\"Pseudotime\"]].head()"
   ]
  },
  {
   "cell_type": "markdown",
   "id": "55e66f8c-7247-4345-863f-d33a5a84eb45",
   "metadata": {},
   "source": [
    "plot"
   ]
  },
  {
   "cell_type": "code",
   "execution_count": null,
   "id": "0332c9a1-44e2-41fc-92b4-5590c18765d1",
   "metadata": {},
   "outputs": [],
   "source": [
    "# Check results\n",
    "pt.plot_pseudotime(cmap=\"rainbow\")"
   ]
  },
  {
   "cell_type": "markdown",
   "id": "b7fea78e-d1fd-4a93-a173-e8630d1b11b9",
   "metadata": {},
   "source": [
    "## 5) Save"
   ]
  },
  {
   "cell_type": "markdown",
   "id": "4af450d1-1789-4243-a543-0ebe42574b87",
   "metadata": {},
   "source": [
    "Add calculated pseudotime data to the oracle object"
   ]
  },
  {
   "cell_type": "code",
   "execution_count": null,
   "id": "3f7381bc-2f42-4c38-90e9-8cfa92d96277",
   "metadata": {},
   "outputs": [],
   "source": [
    "oracle.adata.obs[\"Pseudotime\"] = oracle.adata.obs.index.map(pt.adata.obs[\"Pseudotime\"])"
   ]
  },
  {
   "cell_type": "markdown",
   "id": "8f173cfb-38df-4c89-a90f-d8dbdca81ef0",
   "metadata": {},
   "source": [
    "Save updated anndata object"
   ]
  },
  {
   "cell_type": "code",
   "execution_count": null,
   "id": "ccbaf675-e56e-4f02-ad96-691728b8828d",
   "metadata": {},
   "outputs": [],
   "source": [
    "oracle.to_hdf5(oracle_obj_path)"
   ]
  }
 ],
 "metadata": {
  "kernelspec": {
   "display_name": "Python 3 (ipykernel)",
   "language": "python",
   "name": "python3"
  },
  "language_info": {
   "codemirror_mode": {
    "name": "ipython",
    "version": 3
   },
   "file_extension": ".py",
   "mimetype": "text/x-python",
   "name": "python",
   "nbconvert_exporter": "python",
   "pygments_lexer": "ipython3",
   "version": "3.10.14"
  }
 },
 "nbformat": 4,
 "nbformat_minor": 5
}
