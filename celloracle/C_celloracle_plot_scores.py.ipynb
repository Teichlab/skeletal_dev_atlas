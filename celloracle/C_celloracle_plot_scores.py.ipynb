{
 "cells": [
  {
   "cell_type": "markdown",
   "id": "earlier-meter",
   "metadata": {},
   "source": [
    "# Plot CellOracle network scores"
   ]
  },
  {
   "cell_type": "markdown",
   "id": "persistent-worse",
   "metadata": {},
   "source": [
    "run CellOracle on Scenic output to obtain cell type specific networks"
   ]
  },
  {
   "cell_type": "code",
   "execution_count": null,
   "id": "favorite-creator",
   "metadata": {
    "tags": []
   },
   "outputs": [],
   "source": [
    "import re\n",
    "import logging as log\n",
    "from pathlib import Path\n",
    "import yaml\n",
    "\n",
    "import numpy as np\n",
    "import scipy as sp\n",
    "import pandas as pd\n",
    "import scanpy as sc\n",
    "import celloracle as co\n",
    "\n",
    "import matplotlib.pyplot as plt\n",
    "from IPython.display import display, Markdown"
   ]
  },
  {
   "cell_type": "code",
   "execution_count": null,
   "id": "b25455f7-3942-4262-a4f6-d44e348be860",
   "metadata": {},
   "outputs": [],
   "source": [
    "logger = log.getLogger()"
   ]
  },
  {
   "cell_type": "code",
   "execution_count": null,
   "id": "accepted-reference",
   "metadata": {},
   "outputs": [],
   "source": [
    "log.info(f\"CellOracle version: {co.__version__}\")"
   ]
  },
  {
   "cell_type": "code",
   "execution_count": null,
   "id": "saved-command",
   "metadata": {},
   "outputs": [],
   "source": [
    "%matplotlib inline"
   ]
  },
  {
   "cell_type": "markdown",
   "id": "grateful-directive",
   "metadata": {},
   "source": [
    "## Params"
   ]
  },
  {
   "cell_type": "markdown",
   "id": "another-limit",
   "metadata": {},
   "source": [
    "input"
   ]
  },
  {
   "cell_type": "code",
   "execution_count": null,
   "id": "looking-february",
   "metadata": {},
   "outputs": [],
   "source": [
    "links_obj_filtered_path = \"/path/to/celloracle_filtered.links\""
   ]
  },
  {
   "cell_type": "markdown",
   "id": "unexpected-patch",
   "metadata": {},
   "source": [
    "params"
   ]
  },
  {
   "cell_type": "code",
   "execution_count": null,
   "id": "damaged-auditor",
   "metadata": {},
   "outputs": [],
   "source": [
    "plot_cluster_1 = \"Osteoblast\"\n",
    "plot_cluster_2 = \"SutureMes2\"\n",
    "plot_gene = \"DLX5\""
   ]
  },
  {
   "cell_type": "markdown",
   "id": "vietnamese-canberra",
   "metadata": {},
   "source": [
    "## 1) Load links"
   ]
  },
  {
   "cell_type": "code",
   "execution_count": null,
   "id": "yellow-charlotte",
   "metadata": {},
   "outputs": [],
   "source": [
    "log.info(\"load links\")"
   ]
  },
  {
   "cell_type": "code",
   "execution_count": null,
   "id": "systematic-petroleum",
   "metadata": {},
   "outputs": [],
   "source": [
    "links = co.load_hdf5(file_path = links_obj_filtered_path)"
   ]
  },
  {
   "cell_type": "markdown",
   "id": "signal-afghanistan",
   "metadata": {},
   "source": [
    "## 5) Visualise scores"
   ]
  },
  {
   "cell_type": "markdown",
   "id": "liable-latter",
   "metadata": {},
   "source": [
    "### scores single cluster"
   ]
  },
  {
   "cell_type": "code",
   "execution_count": null,
   "id": "joint-young",
   "metadata": {},
   "outputs": [],
   "source": [
    "log.info(\"plot scores for single group\")"
   ]
  },
  {
   "cell_type": "code",
   "execution_count": null,
   "id": "divided-update",
   "metadata": {
    "tags": []
   },
   "outputs": [],
   "source": [
    "links.plot_scores_as_rank(\n",
    "    cluster = plot_cluster_1, \n",
    "    n_gene = 30, \n",
    "#     save = f\"{save_folder}/ranked_score\"\n",
    ")"
   ]
  },
  {
   "cell_type": "markdown",
   "id": "pursuant-pavilion",
   "metadata": {},
   "source": [
    "### scores cluster comparison"
   ]
  },
  {
   "cell_type": "code",
   "execution_count": null,
   "id": "stylish-purple",
   "metadata": {},
   "outputs": [],
   "source": [
    "log.info(\"plot scores for combination of groups\")"
   ]
  },
  {
   "cell_type": "code",
   "execution_count": null,
   "id": "experimental-portable",
   "metadata": {
    "tags": []
   },
   "outputs": [],
   "source": [
    "links.plot_score_comparison_2D(\n",
    "    value = \"eigenvector_centrality\",\n",
    "    cluster1 = plot_cluster_1, \n",
    "    cluster2 = plot_cluster_2,\n",
    "    percentile = 98,\n",
    "#     save=f\"{save_folder}/score_comparison\"\n",
    ")"
   ]
  },
  {
   "cell_type": "code",
   "execution_count": null,
   "id": "seventh-campbell",
   "metadata": {
    "tags": []
   },
   "outputs": [],
   "source": [
    "links.plot_score_comparison_2D(\n",
    "    value = \"betweenness_centrality\",\n",
    "    cluster1 = plot_cluster_1, \n",
    "    cluster2 = plot_cluster_2,\n",
    "    percentile = 98,\n",
    "#     save=f\"{save_folder}/score_comparison\"\n",
    ")"
   ]
  },
  {
   "cell_type": "code",
   "execution_count": null,
   "id": "connected-lambda",
   "metadata": {
    "tags": []
   },
   "outputs": [],
   "source": [
    "links.plot_score_comparison_2D(\n",
    "    value = \"degree_centrality_all\",\n",
    "    cluster1 = plot_cluster_1, \n",
    "    cluster2 = plot_cluster_2,\n",
    "    percentile = 98,\n",
    "#     save=f\"{save_folder}/score_comparison\"\n",
    ")"
   ]
  },
  {
   "cell_type": "markdown",
   "id": "weekly-hayes",
   "metadata": {},
   "source": [
    "### scores across clusters"
   ]
  },
  {
   "cell_type": "code",
   "execution_count": null,
   "id": "subsequent-worship",
   "metadata": {},
   "outputs": [],
   "source": [
    "log.info(\"plot scores across groups for chosen gene\")"
   ]
  },
  {
   "cell_type": "code",
   "execution_count": null,
   "id": "crucial-technical",
   "metadata": {
    "tags": []
   },
   "outputs": [],
   "source": [
    "links.links_dict[\"Osteoblast\"].query(f\"source == '{plot_gene}'\")"
   ]
  },
  {
   "cell_type": "code",
   "execution_count": null,
   "id": "freelance-twins",
   "metadata": {
    "tags": []
   },
   "outputs": [],
   "source": [
    "links.plot_score_per_cluster(\n",
    "    goi = plot_gene, \n",
    "#     save = f\"{save_folder}/network_score_per_gene/\"\n",
    ")"
   ]
  },
  {
   "cell_type": "markdown",
   "id": "floating-freight",
   "metadata": {},
   "source": [
    "### global distribution"
   ]
  },
  {
   "cell_type": "code",
   "execution_count": null,
   "id": "formal-owner",
   "metadata": {},
   "outputs": [],
   "source": [
    "log.info(\"plot global distributions\")"
   ]
  },
  {
   "cell_type": "code",
   "execution_count": null,
   "id": "hourly-nebraska",
   "metadata": {
    "tags": []
   },
   "outputs": [],
   "source": [
    "plt.subplots_adjust(left=0.15, bottom=0.3)\n",
    "plt.ylim([0,0.040])\n",
    "links.plot_score_discributions(\n",
    "    values = [\"degree_centrality_all\", \"eigenvector_centrality\"],\n",
    "    method = \"boxplot\",\n",
    "#     save = f\"{save_folder}\",\n",
    ")"
   ]
  },
  {
   "cell_type": "code",
   "execution_count": null,
   "id": "southwest-kernel",
   "metadata": {
    "tags": []
   },
   "outputs": [],
   "source": [
    "plt.subplots_adjust(left=0.15, bottom=0.3)\n",
    "links.plot_network_entropy_distributions(\n",
    "#     save=f\"{save_folder}\"\n",
    ")"
   ]
  },
  {
   "cell_type": "code",
   "execution_count": null,
   "id": "athletic-scroll",
   "metadata": {},
   "outputs": [],
   "source": []
  },
  {
   "cell_type": "code",
   "execution_count": null,
   "id": "posted-pension",
   "metadata": {},
   "outputs": [],
   "source": []
  },
  {
   "cell_type": "code",
   "execution_count": null,
   "id": "uniform-analysis",
   "metadata": {},
   "outputs": [],
   "source": []
  }
 ],
 "metadata": {
  "kernelspec": {
   "display_name": "Python 3 (ipykernel)",
   "language": "python",
   "name": "python3"
  },
  "language_info": {
   "codemirror_mode": {
    "name": "ipython",
    "version": 3
   },
   "file_extension": ".py",
   "mimetype": "text/x-python",
   "name": "python",
   "nbconvert_exporter": "python",
   "pygments_lexer": "ipython3",
   "version": "3.10.14"
  }
 },
 "nbformat": 4,
 "nbformat_minor": 5
}
