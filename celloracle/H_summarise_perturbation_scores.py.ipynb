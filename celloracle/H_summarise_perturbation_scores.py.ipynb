{
 "cells": [
  {
   "cell_type": "markdown",
   "id": "tested-mathematics",
   "metadata": {},
   "source": [
    "# CellOracle summarise perturbation scores"
   ]
  },
  {
   "cell_type": "code",
   "execution_count": null,
   "id": "unlike-copper",
   "metadata": {
    "tags": []
   },
   "outputs": [],
   "source": [
    "import re\n",
    "import logging as log\n",
    "from pathlib import Path\n",
    "import yaml\n",
    "\n",
    "import numpy as np\n",
    "import scipy as sp\n",
    "import pandas as pd\n",
    "import scanpy as sc\n",
    "import celloracle as co\n",
    "from celloracle.applications import Oracle_development_module\n",
    "\n",
    "import matplotlib.pyplot as plt\n",
    "import seaborn as sns\n",
    "from IPython.display import display, Markdown"
   ]
  },
  {
   "cell_type": "code",
   "execution_count": null,
   "id": "53e95165-d705-4c95-9a1e-4beda7935787",
   "metadata": {},
   "outputs": [],
   "source": [
    "logger = log.getLogger()"
   ]
  },
  {
   "cell_type": "code",
   "execution_count": null,
   "id": "human-converter",
   "metadata": {},
   "outputs": [],
   "source": [
    "log.info(f\"CellOracle version: {co.__version__}\")"
   ]
  },
  {
   "cell_type": "code",
   "execution_count": null,
   "id": "golden-anxiety",
   "metadata": {},
   "outputs": [],
   "source": [
    "%matplotlib inline"
   ]
  },
  {
   "cell_type": "markdown",
   "id": "demanding-gospel",
   "metadata": {},
   "source": [
    "## Params"
   ]
  },
  {
   "cell_type": "code",
   "execution_count": null,
   "id": "cea6fc46-5446-4022-8371-7c8621fcb9f2",
   "metadata": {},
   "outputs": [],
   "source": [
    "## input\n",
    "perturbation_scores = {\n",
    "    Path(p).parents[1].stem: p for p in [\n",
    "        \"/path/to/perturbation_scores_1.csv\", \n",
    "        \"/path/to/perturbation_scores_2.csv\",\n",
    "    ]\n",
    "}"
   ]
  },
  {
   "cell_type": "markdown",
   "id": "bf80a702-69a1-4767-8abe-e7960d6b0bbe",
   "metadata": {},
   "source": [
    "## 1) Load"
   ]
  },
  {
   "cell_type": "code",
   "execution_count": null,
   "id": "e8ee4792-a192-43dc-a665-f3f0cb000eee",
   "metadata": {},
   "outputs": [],
   "source": [
    "log.info(\"load perturbation scores\")"
   ]
  },
  {
   "cell_type": "code",
   "execution_count": null,
   "id": "c654c3da-4897-4ce5-9727-74a33611f15d",
   "metadata": {},
   "outputs": [],
   "source": [
    "ps_df_all = pd.DataFrame()\n",
    "\n",
    "for ps_name, ps_path in perturbation_scores.items():\n",
    "    ps_df = pd.read_csv(ps_path, index_col=0).rename(columns={\"PS\": f\"{ps_name}\"})\n",
    "    ps_df_all = ps_df_all.merge(ps_df, how='outer', left_index=True, right_index=True)\n",
    "\n",
    "ps_df_all = ps_df_all.T"
   ]
  },
  {
   "cell_type": "markdown",
   "id": "5fc75cd1-f8c3-4947-a507-a46cf9c3f707",
   "metadata": {},
   "source": [
    "## 2) Visualise perturbation scores"
   ]
  },
  {
   "cell_type": "markdown",
   "id": "05c4cc4c-e9dc-4fd4-9f88-658e1ae77bdd",
   "metadata": {},
   "source": [
    "### data frame"
   ]
  },
  {
   "cell_type": "code",
   "execution_count": null,
   "id": "0f3a31f7-0365-44a8-90f3-2a57914dbe5a",
   "metadata": {
    "tags": []
   },
   "outputs": [],
   "source": [
    "ps_df_all.sort_values(\"Osteoblast\", ascending=False)[:15]"
   ]
  },
  {
   "cell_type": "markdown",
   "id": "ca246c3d-edbd-44bc-8464-70d979b5b29d",
   "metadata": {},
   "source": [
    "### line plot"
   ]
  },
  {
   "cell_type": "code",
   "execution_count": null,
   "id": "560981d0-4dfc-4f06-80ac-27c3b2f90f3c",
   "metadata": {},
   "outputs": [],
   "source": [
    "try:\n",
    "    plt_df = ps_df_all.apply(lambda x: (x-x.mean())/ x.std(), axis=1).loc[\n",
    "        ['KLF4_OE', 'SP7_OE', 'DLX3_OE'],\n",
    "        [\"Suture Mes2\", \"Suture Mes1\", \"CrnOsteoPro1\", \"CrnOsteoPro4\", \"Osteoblast\"]\n",
    "    ].rename_axis(\"condition\").reset_index().melt(var_name=\"cell type\", value_name=\"PS\", id_vars=\"condition\")\n",
    "    \n",
    "    with plt.rc_context({\"figure.figsize\":(5,2)}):\n",
    "        # sns.lineplot(data=plt_df, y=\"PS\", x=\"cell type\", hue=\"condition\")\n",
    "        g = sns.FacetGrid(data=plt_df, col='condition', col_wrap=1, height=1.5, aspect=5/1.5)\n",
    "        g.map(sns.lineplot, 'cell type', 'PS')\n",
    "    \n",
    "    plt.xticks(rotation=45)\n",
    "except:\n",
    "    log.exception(\"could not plot line plot\")"
   ]
  },
  {
   "cell_type": "code",
   "execution_count": null,
   "id": "7cbb4d3a-2780-4991-9f57-aebf21a98458",
   "metadata": {
    "tags": []
   },
   "outputs": [],
   "source": [
    "pstd = ps_df_all.std(axis=1)\n",
    "pmean = ps_df_all.mean(axis=1)\n",
    "pmax = ps_df_all.max(axis=1)\n",
    "\n",
    "def entropy(x):\n",
    "    x = x - x.min() + 1e-12\n",
    "    p = x/x.sum()\n",
    "    elem = p * np.log(x)\n",
    "    return -sum(elem)\n",
    "\n",
    "pent = ps_df_all.apply(entropy, axis=1)"
   ]
  },
  {
   "cell_type": "markdown",
   "id": "353a8862-0747-4fd7-b66f-20f91901a4a6",
   "metadata": {},
   "source": [
    "### heatmap"
   ]
  },
  {
   "cell_type": "markdown",
   "id": "6fda838b-dc5e-472d-870a-f60f1fa5b0b7",
   "metadata": {},
   "source": [
    "#### overexpression"
   ]
  },
  {
   "cell_type": "code",
   "execution_count": null,
   "id": "4b364f0f-a942-4e67-9755-98d9c7de39b0",
   "metadata": {},
   "outputs": [],
   "source": [
    "plt_df = ps_df_all.loc[ps_df_all.index.str.endswith(\"_OE\"),:]"
   ]
  },
  {
   "cell_type": "code",
   "execution_count": null,
   "id": "8e7efbfd-e650-46e2-829f-1e4131d1db80",
   "metadata": {
    "tags": []
   },
   "outputs": [],
   "source": [
    "top_n = 5\n",
    "top_TFs = []\n",
    "\n",
    "for c in plt_df:\n",
    "    top_TFs.extend(plt_df.sort_values(c, ascending=False)[:top_n].index.tolist())\n",
    "    \n",
    "top_TFs = list(set(top_TFs))\n",
    "\n",
    "\", \".join(top_TFs)"
   ]
  },
  {
   "cell_type": "code",
   "execution_count": null,
   "id": "f64af3c6-0a40-445a-bd5c-9fa344fcc64a",
   "metadata": {},
   "outputs": [],
   "source": [
    "plt_df = ps_df_all.loc[top_TFs,:].apply(lambda x: (x - x.mean()) / x.std(), axis = 0)\n",
    "plt_df.index = [c.split('_')[0] for c in plt_df.index]\n",
    "\n",
    "from scipy.spatial import distance\n",
    "from scipy.cluster import hierarchy\n",
    "\n",
    "col_linkage = hierarchy.linkage(\n",
    "    distance.pdist(plt_df.T), \n",
    "    method = 'ward',\n",
    ")\n",
    "\n",
    "# optimal leaf ordering for rows\n",
    "col_linkage = hierarchy.optimal_leaf_ordering(\n",
    "    col_linkage,\n",
    "    distance.pdist(plt_df.T),\n",
    "    \n",
    ")\n",
    "\n",
    "sns.clustermap(\n",
    "    plt_df, \n",
    "    z_score=1, \n",
    "    col_linkage = col_linkage,\n",
    "    cmap = 'magma',\n",
    "    linewidths = 0.005,\n",
    "    linecolor = 'white',\n",
    "    figsize = (5,8),\n",
    ")"
   ]
  },
  {
   "cell_type": "markdown",
   "id": "adca3403-c388-4803-b1fb-c26ef7c8aa5c",
   "metadata": {},
   "source": [
    "#### knockout"
   ]
  },
  {
   "cell_type": "code",
   "execution_count": null,
   "id": "2899e83d-8087-42d8-acd1-f032036ef953",
   "metadata": {},
   "outputs": [],
   "source": [
    "plt_df = ps_df_all.loc[ps_df_all.index.str.endswith(\"_KO\"),:]"
   ]
  },
  {
   "cell_type": "code",
   "execution_count": null,
   "id": "8a37175c-c118-4488-be1d-4236e0ba0eea",
   "metadata": {
    "tags": []
   },
   "outputs": [],
   "source": [
    "top_n = 5\n",
    "top_TFs = []\n",
    "\n",
    "for c in plt_df:\n",
    "    top_TFs.extend(plt_df.sort_values(c, ascending=False)[:top_n].index.tolist())\n",
    "    \n",
    "top_TFs = list(set(top_TFs))\n",
    "\n",
    "\", \".join(top_TFs)"
   ]
  },
  {
   "cell_type": "code",
   "execution_count": null,
   "id": "79811056-c2c7-4702-918b-3ef1f2374cd5",
   "metadata": {},
   "outputs": [],
   "source": [
    "plt_df = ps_df_all.loc[top_TFs,:].apply(lambda x: (x - x.mean()) / x.std(), axis = 0)\n",
    "plt_df.index = [c.split('_')[0] for c in plt_df.index]\n",
    "\n",
    "from scipy.spatial import distance\n",
    "from scipy.cluster import hierarchy\n",
    "\n",
    "col_linkage = hierarchy.linkage(\n",
    "    distance.pdist(plt_df.T), \n",
    "    method = 'ward',\n",
    ")\n",
    "\n",
    "# optimal leaf ordering for rows\n",
    "col_linkage = hierarchy.optimal_leaf_ordering(\n",
    "    col_linkage,\n",
    "    distance.pdist(plt_df.T),\n",
    "    \n",
    ")\n",
    "\n",
    "sns.clustermap(\n",
    "    plt_df, \n",
    "    z_score=1, \n",
    "    col_linkage = col_linkage,\n",
    "    cmap = 'magma',\n",
    "    linewidths = 0.005,\n",
    "    linecolor = 'white',\n",
    "    figsize = (5,8),\n",
    ")"
   ]
  }
 ],
 "metadata": {
  "kernelspec": {
   "display_name": "Python 3 (ipykernel)",
   "language": "python",
   "name": "python3"
  },
  "language_info": {
   "codemirror_mode": {
    "name": "ipython",
    "version": 3
   },
   "file_extension": ".py",
   "mimetype": "text/x-python",
   "name": "python",
   "nbconvert_exporter": "python",
   "pygments_lexer": "ipython3",
   "version": "3.10.14"
  }
 },
 "nbformat": 4,
 "nbformat_minor": 5
}
