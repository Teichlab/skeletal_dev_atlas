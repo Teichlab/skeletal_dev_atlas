{
 "cells": [
  {
   "cell_type": "markdown",
   "id": "0a4b50c3-6566-4f4a-a974-a39b0e9887d8",
   "metadata": {},
   "source": [
    "# Plot pycistopic object using muon"
   ]
  },
  {
   "cell_type": "code",
   "execution_count": 20,
   "id": "acc84a53-cf4c-489c-9679-b39b941ac23c",
   "metadata": {},
   "outputs": [],
   "source": [
    "from pathlib import Path\n",
    "\n",
    "import scanpy as sc\n",
    "from muon import atac as ac\n",
    "\n",
    "import matplotlib.pyplot as plt\n",
    "\n",
    "from utils import load_cistopic_obj"
   ]
  },
  {
   "cell_type": "markdown",
   "id": "2fbacee8-76c3-480e-b541-b66cd5fc8eac",
   "metadata": {},
   "source": [
    "## Params"
   ]
  },
  {
   "cell_type": "code",
   "execution_count": 2,
   "id": "b9cc8c49-c91a-4321-8326-53b764aa4409",
   "metadata": {},
   "outputs": [],
   "source": [
    "# obj_path = \"/lustre/scratch117/cellgen/team205/jp30/tmp/tmp_cistopic_obj_01.pkl\"\n",
    "# obj_path = \"/lustre/scratch126/cellgen/team205/jp30/fetal_heart/mono_macro_multiome/working_dir_all/scATAC/cistopic_obj.pkl\"\n",
    "work_dir = Path(str(snakemake.params.work_dir))\n",
    "\n",
    "cell_type = \"celltype\""
   ]
  },
  {
   "cell_type": "markdown",
   "id": "05d5b3f3-38c4-4520-8122-54d5b347b8f7",
   "metadata": {},
   "source": [
    "## 1) Load"
   ]
  },
  {
   "cell_type": "code",
   "execution_count": null,
   "id": "40bb3169-6cb3-48b2-b239-16c3c1d0b3be",
   "metadata": {},
   "outputs": [],
   "source": [
    "obj_path = work_dir / \"scATAC\" / \"cistopic_obj_filt.pkl\""
   ]
  },
  {
   "cell_type": "code",
   "execution_count": 15,
   "id": "7f6ddd69-301d-4653-82f2-f68c64b22498",
   "metadata": {},
   "outputs": [
    {
     "name": "stdout",
     "output_type": "stream",
     "text": [
      "load object without matrices from: /lustre/scratch126/cellgen/team205/jp30/fetal_heart/mono_macro_multiome/working_dir_all/scATAC/cistopic_obj.pkl\n",
      "load fragment matrix from: /lustre/scratch126/cellgen/team205/jp30/fetal_heart/mono_macro_multiome/working_dir_all/scATAC/cistopic_obj.npz\n",
      "restore binary matrix...\n"
     ]
    }
   ],
   "source": [
    "cistopic_obj = load_cistopic_obj(obj_path)"
   ]
  },
  {
   "cell_type": "code",
   "execution_count": 16,
   "id": "a5f112cd-5841-4889-a5b0-3c5585c03720",
   "metadata": {},
   "outputs": [
    {
     "name": "stdout",
     "output_type": "stream",
     "text": [
      "CistopicObject from project cisTopic with n_cells × n_regions = 1899 × 14685\n"
     ]
    }
   ],
   "source": [
    "print(cistopic_obj)"
   ]
  },
  {
   "cell_type": "code",
   "execution_count": null,
   "id": "a2c48749-3f82-450d-bc88-b5d61bd636c5",
   "metadata": {},
   "outputs": [],
   "source": []
  },
  {
   "cell_type": "code",
   "execution_count": 17,
   "id": "523c0cc1-0b76-4da7-9414-b19b109e6701",
   "metadata": {},
   "outputs": [],
   "source": [
    "ad_atac = sc.AnnData(\n",
    "    cistopic_obj.fragment_matrix.T, \n",
    "    obs = cistopic_obj.cell_data,\n",
    "    var = cistopic_obj.region_data,\n",
    ")"
   ]
  },
  {
   "cell_type": "code",
   "execution_count": 19,
   "id": "9af5a11c-638e-44e7-83df-16d8b25a3b70",
   "metadata": {
    "tags": []
   },
   "outputs": [
    {
     "data": {
      "text/plain": [
       "AnnData object with n_obs × n_vars = 1899 × 14685\n",
       "    obs: 'cisTopic_nr_acc', 'cisTopic_log_nr_acc', 'cisTopic_log_nr_frag', 'cisTopic_nr_frag', 'latent_RT_efficiency', 'latent_cell_probability', 'latent_scale', 'sangerID', 'combinedID', 'donor', 'donor_type', 'region', 'region_finest', 'age', 'gender', 'facility', 'cell_or_nuclei', 'modality', 'kit_10x', 'flushed', 'scrublet_score', 'scrublet_leiden', 'cluster_scrublet_score', 'doublet_pval', 'doublet_bh_pval', 'n_genes', 'n_counts', 'n_genes_by_counts', 'log1p_n_genes_by_counts', 'total_counts', 'log1p_total_counts', 'total_counts_mt', 'log1p_total_counts_mt', 'pct_counts_mt', 'total_counts_ribo', 'log1p_total_counts_ribo', 'pct_counts_ribo', 'HB_score', 'donor_by_library-prep', 'multiplexed', 'SOC | status', 'SOC | log_prob_singleton', 'SOC | log_prob_doublet', 'batch_key', '_scvi_batch', '_scvi_labels', '2Jan_coarse_grain', '2Jan_mid_grain', '2Jan_fine_grain', 'leiden_scVI', 'FACSgate', 'sex', 'week', 'trimester', 'cell_type2', 'new_fine_grain', 'new_mid_grain', 'sample_id', 'celltype', 'metacell'\n",
       "    var: 'Chromosome', 'Start', 'End', 'Width', 'cisTopic_nr_frag', 'cisTopic_log_nr_frag', 'cisTopic_nr_acc', 'cisTopic_log_nr_acc'"
      ]
     },
     "execution_count": 19,
     "metadata": {},
     "output_type": "execute_result"
    }
   ],
   "source": [
    "ad_atac"
   ]
  },
  {
   "cell_type": "markdown",
   "id": "a969af5f-931d-4e79-91d8-ebd3f8c031a8",
   "metadata": {},
   "source": [
    "## 2) Run"
   ]
  },
  {
   "cell_type": "code",
   "execution_count": 7,
   "id": "e8bdef2f-e5cf-49e9-a539-4f384b156896",
   "metadata": {},
   "outputs": [],
   "source": [
    "# sc.pp.scale(ad_regs)\n",
    "ac.pp.tfidf(ad_atac, scale_factor=1e4)\n",
    "\n",
    "sc.pp.highly_variable_genes(ad_atac, min_mean=0.05, max_mean=1.5, min_disp=.5)\n",
    "\n",
    "# sc.pp.pca(ad_regs)\n",
    "ac.tl.lsi(ad_atac)"
   ]
  },
  {
   "cell_type": "code",
   "execution_count": 8,
   "id": "e5b7b990-52d3-433b-ae99-a83d814b2a21",
   "metadata": {},
   "outputs": [],
   "source": [
    "# remove first component, which is typically associated with number of counts\n",
    "ad_atac.obsm['X_lsi'] = ad_atac.obsm['X_lsi'][:,1:]\n",
    "ad_atac.varm[\"LSI\"] = ad_atac.varm[\"LSI\"][:,1:]\n",
    "ad_atac.uns[\"lsi\"][\"stdev\"] = ad_atac.uns[\"lsi\"][\"stdev\"][1:]"
   ]
  },
  {
   "cell_type": "code",
   "execution_count": 9,
   "id": "31e1474f-eb61-449f-9cf3-5de5a8184c6d",
   "metadata": {},
   "outputs": [],
   "source": [
    "sc.pp.neighbors(ad_atac, use_rep=\"X_lsi\")\n",
    "\n",
    "sc.tl.leiden(ad_atac)\n",
    "\n",
    "sc.tl.umap(ad_atac)"
   ]
  },
  {
   "cell_type": "code",
   "execution_count": null,
   "id": "4677812d-20b6-4897-8846-127706531755",
   "metadata": {},
   "outputs": [],
   "source": [
    "try:\n",
    "    with plt.rc_context({\"figure.figsize\": (10,10)}):\n",
    "        sc.pl.umap(ad_atac, color = cell_type, size=100, alpha=0.6)\n",
    "except Exception:\n",
    "    pass"
   ]
  },
  {
   "cell_type": "code",
   "execution_count": null,
   "id": "9a1d0aef-89a2-44de-b9f4-47059bf07a9e",
   "metadata": {},
   "outputs": [],
   "source": [
    "try:\n",
    "    with plt.rc_context({\"figure.figsize\": (10,10)}):\n",
    "        sc.pl.umap(ad_atac, color = \"leiden\", size=100, alpha=0.6, legend_loc = \"on data\")\n",
    "except Exception:\n",
    "    pass"
   ]
  },
  {
   "cell_type": "code",
   "execution_count": null,
   "id": "f1863f2e-f309-4eda-8077-629c67ebf79a",
   "metadata": {},
   "outputs": [],
   "source": []
  }
 ],
 "metadata": {
  "kernelspec": {
   "display_name": "muon",
   "language": "python",
   "name": "muon"
  },
  "language_info": {
   "codemirror_mode": {
    "name": "ipython",
    "version": 3
   },
   "file_extension": ".py",
   "mimetype": "text/x-python",
   "name": "python",
   "nbconvert_exporter": "python",
   "pygments_lexer": "ipython3",
   "version": "3.8.16"
  }
 },
 "nbformat": 4,
 "nbformat_minor": 5
}
