{
 "cells": [
  {
   "cell_type": "markdown",
   "id": "dd65c261-1a58-4e76-9063-55014ccc50e6",
   "metadata": {},
   "source": [
    "# Map barcodes of cistopic object and add metadata"
   ]
  },
  {
   "cell_type": "code",
   "execution_count": null,
   "id": "fff2ef32-9eb1-4a8d-9bc6-239f40f67824",
   "metadata": {},
   "outputs": [],
   "source": [
    "import os\n",
    "import sys\n",
    "import pickle\n",
    "import re\n",
    "import logging as log\n",
    "from pathlib import Path\n",
    "\n",
    "import pandas as pd\n",
    "import scanpy as sc\n",
    "from pycisTopic.cistopic_class import *\n",
    "\n",
    "import seaborn as sns\n",
    "from IPython.display import display, Markdown\n",
    "\n",
    "from utils import match_barcodes_to, load_cistopic_obj, save_cistopic_obj"
   ]
  },
  {
   "cell_type": "code",
   "execution_count": null,
   "id": "ae1286e0-0494-4690-8405-b44e1409c2d2",
   "metadata": {},
   "outputs": [],
   "source": [
    "log.basicConfig(level=log.INFO)"
   ]
  },
  {
   "cell_type": "markdown",
   "id": "85c95970-3582-45f4-a2ff-cf3dc985c32a",
   "metadata": {},
   "source": [
    "## Parameters"
   ]
  },
  {
   "cell_type": "code",
   "execution_count": null,
   "id": "d4225f55-c8d9-4e6a-b883-a3d730f3ea36",
   "metadata": {
    "tags": []
   },
   "outputs": [],
   "source": [
    "infile_rna_h5ad = \"/path/to/rna.h5ad\"\n",
    "\n",
    "infile_rna_sample_id_col = \"sample_id_obs_column\"\n",
    "\n",
    "infile_rna_celltype_col = \"cell_type_obs_column\"\n",
    "\n",
    "work_dir = Path(\"/path/to/work_dir\")"
   ]
  },
  {
   "cell_type": "code",
   "execution_count": null,
   "id": "1315dc87-6f35-4b0a-8075-62b7fa55823a",
   "metadata": {
    "tags": []
   },
   "outputs": [],
   "source": [
    "display(Markdown(f\"\"\"\n",
    "**parameters:**\n",
    "- **input file RNA:** *{infile_rna_h5ad}*\n",
    "- **anndata sample ID column:** *{infile_rna_sample_id_col}*\n",
    "- **anndata cell type column:** *{infile_rna_celltype_col}*\n",
    "- **working directory for output files:** *{work_dir}*\n",
    "\"\"\"))"
   ]
  },
  {
   "cell_type": "markdown",
   "id": "28868fb4-9485-46f6-b3b1-100d543a9761",
   "metadata": {},
   "source": [
    "paths"
   ]
  },
  {
   "cell_type": "code",
   "execution_count": null,
   "id": "2227b47e-3099-440c-a0e3-035da4d944dc",
   "metadata": {},
   "outputs": [],
   "source": [
    "atac_path = work_dir / \"scATAC\""
   ]
  },
  {
   "cell_type": "markdown",
   "id": "603e49db-f2a7-408a-932d-07454055451a",
   "metadata": {},
   "source": [
    "## Load anndata with annotation"
   ]
  },
  {
   "cell_type": "code",
   "execution_count": null,
   "id": "cb46c0c8-1665-4373-a833-12e398825d76",
   "metadata": {},
   "outputs": [],
   "source": [
    "# mapping to remove particular symbols from cell names\n",
    "id_map = str.maketrans({\n",
    "    \"+\": \"pos\",\n",
    "    \"/\": \"or\",\n",
    "    \" \": \"_\",\n",
    "    \".\": \"_\",\n",
    "})"
   ]
  },
  {
   "cell_type": "code",
   "execution_count": null,
   "id": "9bfac516-2293-45a1-a85c-048db6fe4358",
   "metadata": {
    "tags": []
   },
   "outputs": [],
   "source": [
    "adata = sc.read_h5ad(infile_rna_h5ad)\n",
    "\n",
    "cell_data = adata.obs\n",
    "\n",
    "if infile_rna_sample_id_col:\n",
    "    cell_data['sample_id'] = cell_data[infile_rna_sample_id_col]\n",
    "\n",
    "if infile_rna_celltype_col:\n",
    "    cell_data['celltype'] = cell_data[infile_rna_celltype_col].astype(str)\n",
    "    cell_data['celltype'] = cell_data['celltype'].str.translate(id_map)\n",
    "\n",
    "del(adata)"
   ]
  },
  {
   "cell_type": "markdown",
   "id": "54703da9-a09b-43ef-95b8-9ff8f2d80894",
   "metadata": {},
   "source": [
    "## Load cistopic object"
   ]
  },
  {
   "cell_type": "code",
   "execution_count": null,
   "id": "eaecc757-7f1a-4577-815f-9ad380c31208",
   "metadata": {},
   "outputs": [],
   "source": [
    "cistopic_obj = load_cistopic_obj(atac_path / \"cistopic_obj.pkl\")"
   ]
  },
  {
   "cell_type": "code",
   "execution_count": null,
   "id": "3b14fc85-cc18-4c97-bb1f-eabd63ac7225",
   "metadata": {},
   "outputs": [],
   "source": [
    "print(cistopic_obj)"
   ]
  },
  {
   "cell_type": "markdown",
   "id": "64becf03-ea40-4f99-8bc3-9a532deca002",
   "metadata": {},
   "source": [
    "match barcodes"
   ]
  },
  {
   "cell_type": "code",
   "execution_count": null,
   "id": "96287db7-8ca1-43e7-b8bc-3c2bdd4a254d",
   "metadata": {
    "tags": []
   },
   "outputs": [],
   "source": [
    "from_bc = cistopic_obj.cell_names\n",
    "to_bc = cell_data.index.tolist()\n",
    "\n",
    "target_barcodes = match_barcodes_to(from_bc, to_bc)"
   ]
  },
  {
   "cell_type": "code",
   "execution_count": null,
   "id": "ec8dc940-ac44-4cc1-955f-9c270e09d055",
   "metadata": {},
   "outputs": [],
   "source": [
    "print(f\"first 5 new barcodes: {', '.join(target_barcodes[:5])}\")"
   ]
  },
  {
   "cell_type": "code",
   "execution_count": null,
   "id": "3754610f-a871-4532-8103-c1b9c43f189d",
   "metadata": {},
   "outputs": [],
   "source": [
    "cistopic_obj.cell_names = target_barcodes\n",
    "cistopic_obj.cell_data.index = target_barcodes"
   ]
  },
  {
   "cell_type": "markdown",
   "id": "70a1dd87-83bc-49a2-a595-e0b94224a2b8",
   "metadata": {},
   "source": [
    "## Add annotation to cistopic object"
   ]
  },
  {
   "cell_type": "code",
   "execution_count": null,
   "id": "d7b3ae07-c2fc-4d2a-9ed2-1f2fbfe0149d",
   "metadata": {
    "tags": []
   },
   "outputs": [],
   "source": [
    "cistopic_obj.add_cell_data(cell_data)"
   ]
  },
  {
   "cell_type": "code",
   "execution_count": null,
   "id": "237e6fb7-fc7b-45c4-aea3-b2cf9fb660ac",
   "metadata": {
    "tags": []
   },
   "outputs": [],
   "source": [
    "cistopic_obj.cell_data"
   ]
  },
  {
   "cell_type": "markdown",
   "id": "5ea73d04-57ec-477f-bd0e-4a7f2e4b4fbe",
   "metadata": {},
   "source": [
    "## Save cistopic object"
   ]
  },
  {
   "cell_type": "code",
   "execution_count": null,
   "id": "3dd55637-4b04-4055-af36-f7094e991fde",
   "metadata": {},
   "outputs": [],
   "source": [
    "print(cistopic_obj)"
   ]
  },
  {
   "cell_type": "code",
   "execution_count": null,
   "id": "7352f058-4177-4df1-9c4b-72fe6cada6c4",
   "metadata": {},
   "outputs": [],
   "source": [
    "save_cistopic_obj(cistopic_obj, atac_path / \"cistopic_obj.pkl\")"
   ]
  }
 ],
 "metadata": {
  "kernelspec": {
   "display_name": "Python 3 (ipykernel)",
   "language": "python",
   "name": "python3"
  },
  "language_info": {
   "codemirror_mode": {
    "name": "ipython",
    "version": 3
   },
   "file_extension": ".py",
   "mimetype": "text/x-python",
   "name": "python",
   "nbconvert_exporter": "python",
   "pygments_lexer": "ipython3",
   "version": "3.10.14"
  }
 },
 "nbformat": 4,
 "nbformat_minor": 5
}
