{
 "cells": [
  {
   "cell_type": "markdown",
   "id": "5f2c94ff-1fc2-4224-a85c-caf19dfdc525",
   "metadata": {},
   "source": [
    "# subset anndata and create metacells"
   ]
  },
  {
   "cell_type": "code",
   "execution_count": null,
   "id": "a5708983-f720-4278-ada9-0f2c7c23d329",
   "metadata": {
    "tags": []
   },
   "outputs": [],
   "source": [
    "import sys\n",
    "import os\n",
    "import pickle\n",
    "import logging as log\n",
    "from pathlib import Path\n",
    "\n",
    "import numpy as np\n",
    "import scipy as sp\n",
    "import pandas as pd\n",
    "from pandas.api.types import is_numeric_dtype\n",
    "import scanpy as sc\n",
    "import loompy as lp\n",
    "\n",
    "import matplotlib.pyplot as plt\n",
    "import seaborn as sns\n",
    "from IPython.display import display, Markdown\n",
    "\n",
    "from scanpy_helpers import *"
   ]
  },
  {
   "cell_type": "markdown",
   "id": "eb6e1dd0-4c5e-431a-b3ad-e2d03af96540",
   "metadata": {},
   "source": [
    "## parameters"
   ]
  },
  {
   "cell_type": "code",
   "execution_count": null,
   "id": "c488be79-7755-4c67-ab93-87fface5d041",
   "metadata": {},
   "outputs": [],
   "source": [
    "# input\n",
    "anndata_infile = \"/path/to/rna.h5ad\"\n",
    "\n",
    "# params\n",
    "cell_types = []  # list of cell types to subset to\n",
    "annot_column = \"cell_type\"  # cell type annotation column\n",
    "additional_filters = \"\"  # filter string using pd.query() syntax on adata.obs\n",
    "gene_names_col = \"\"  # adata.var column with gene symbols if not in index\n",
    "target_ncells = 0  # if >0: choose metacell size to obtain that many metacells\n",
    "pseudobulk_size = 10  # group that many cells in one metacell (maximum)\n",
    "metacells = \"cluster\"  # method for creatinbg metacells\n",
    "metacell_batch = \"cell_type\"  # adata.obs column to limit metacell groups\n",
    "subsample = 500  # subsample to that many metacells max per `subsample_by`\n",
    "subsample_by = \"cell_type\"  # adata.obs column to subsample by\n",
    "work_dir = Path(\"/path/to/work_dir\")\n",
    "\n",
    "n_threads = 8"
   ]
  },
  {
   "cell_type": "code",
   "execution_count": null,
   "id": "d3b4f674-fbef-4575-a22f-d0f931a43cab",
   "metadata": {},
   "outputs": [],
   "source": [
    "# Set maximum number of jobs for Scanpy.\n",
    "sc.settings.njobs = n_threads"
   ]
  },
  {
   "cell_type": "code",
   "execution_count": null,
   "id": "703d9bb9-9cf8-4a37-9a93-6d0f49aad7b1",
   "metadata": {},
   "outputs": [],
   "source": [
    "rna_path = work_dir / \"scRNA\""
   ]
  },
  {
   "cell_type": "markdown",
   "id": "02c4d17e-7ccb-4e47-81bf-1b39b0baa839",
   "metadata": {},
   "source": [
    "## 1) Load anndata"
   ]
  },
  {
   "cell_type": "code",
   "execution_count": null,
   "id": "8fbb2c94-5a94-4ddd-8bc4-0a9adbb77bf6",
   "metadata": {},
   "outputs": [],
   "source": [
    "ad = sc.read_h5ad(anndata_infile)"
   ]
  },
  {
   "cell_type": "code",
   "execution_count": null,
   "id": "ad1cafc3-d5bb-41b8-a549-39c32de1299e",
   "metadata": {},
   "outputs": [],
   "source": [
    "is_raw = True\n",
    "\n",
    "if ad.X.shape[1] < 15000:\n",
    "    print(\"genes seem to be filtered, restoring ad.raw\")\n",
    "    ad = ad.raw.to_adata()\n",
    "elif ad.X.min() < 0:\n",
    "    print(\"counts seem to be scaled, restoring ad.raw\")\n",
    "    ad = ad.raw.to_adata()\n",
    "elif ad.X.max() < 100:\n",
    "    print(\"counts seem to be log-norm, restoring ad.raw\")\n",
    "    ad = ad.raw.to_adata()\n",
    "    \n",
    "if ad.X.shape[1] > 15000 and ad.X.min() >= 0:\n",
    "    if ad.X.max() < 100:\n",
    "        print(\"full log-normalised counts found\")\n",
    "        is_raw = False\n",
    "    else:\n",
    "        print(\"full raw counts found\")\n",
    "else:\n",
    "    raise ValueError(\"no full unscaled counts found in anndata\")\n",
    "    \n",
    "ad.raw = ad"
   ]
  },
  {
   "cell_type": "code",
   "execution_count": null,
   "id": "28c373e4-08f3-4527-992d-e6e65297af26",
   "metadata": {},
   "outputs": [],
   "source": [
    "if annot_column:\n",
    "    ad.obs[\"celltype\"] = ad.obs[annot_column].astype(str)"
   ]
  },
  {
   "cell_type": "markdown",
   "id": "47f8de69-0125-48b2-baa4-59921d7ae180",
   "metadata": {},
   "source": [
    "#### UMAP"
   ]
  },
  {
   "cell_type": "code",
   "execution_count": null,
   "id": "5e011885-f6cb-449d-a0f9-082c1b5d948d",
   "metadata": {
    "tags": []
   },
   "outputs": [],
   "source": [
    "try:\n",
    "    with plt.rc_context({\"figure.figsize\": (15,15), \"figure.dpi\": 300, \"figure.frameon\": False}):\n",
    "        sc.pl.umap(\n",
    "            ad,\n",
    "            color=annot_column,\n",
    "            alpha=0.7,\n",
    "            size=50,\n",
    "            add_outline=True,\n",
    "            outline_width = (0.25, 2.5),\n",
    "            legend_fontoutline=3,\n",
    "            legend_loc=\"on data\",\n",
    "            title = \"\"\n",
    "        )\n",
    "except:\n",
    "    pass"
   ]
  },
  {
   "cell_type": "code",
   "execution_count": null,
   "id": "e5f7e463-7e8a-479b-868e-0f3954b5641f",
   "metadata": {},
   "outputs": [],
   "source": []
  },
  {
   "cell_type": "markdown",
   "id": "55ec2b66-d0a3-459d-9de6-4cd62f35218d",
   "metadata": {},
   "source": [
    "## 2) Subset cells"
   ]
  },
  {
   "cell_type": "code",
   "execution_count": null,
   "id": "30aa179d-0086-4e38-9f68-be6db73c8ab2",
   "metadata": {
    "tags": []
   },
   "outputs": [],
   "source": [
    "if cell_types:\n",
    "    ad_sub = ad[ad.obs[annot_column].isin(cell_types)]\n",
    "else:\n",
    "    ad_sub = ad"
   ]
  },
  {
   "cell_type": "code",
   "execution_count": null,
   "id": "ed92f473-0148-4954-8cf4-d83eca3651d4",
   "metadata": {
    "tags": []
   },
   "outputs": [],
   "source": [
    "if additional_filters:\n",
    "    ad_sub = ad_sub[ad_sub.obs_names.isin(\n",
    "        ad_sub.obs.query(additional_filters).index\n",
    "    )]"
   ]
  },
  {
   "cell_type": "code",
   "execution_count": null,
   "id": "f4c8fdfc-401f-4b53-a09c-4a85adfe9c4a",
   "metadata": {},
   "outputs": [],
   "source": [
    "if gene_names_col:\n",
    "    ad_sub.var[\"ID\"] = ad_sub.var_names.tolist()\n",
    "    ad_sub.var[\"gene_symbol\"] = ad_sub.var[gene_names_col].tolist()\n",
    "    ad_sub.var = ad_sub.var.set_index(\"gene_symbol\")\n",
    "    ad_sub.var_names_make_unique()\n",
    "else:\n",
    "    ad_sub.var[\"gene_symbol\"] = ad_sub.var_names.tolist()\n",
    "    ad_sub.var = ad_sub.var.set_index(\"gene_symbol\")"
   ]
  },
  {
   "cell_type": "markdown",
   "id": "4ac11dae-2384-4322-8b5a-26fc37d53a66",
   "metadata": {},
   "source": [
    "## 3) Create metacells"
   ]
  },
  {
   "cell_type": "code",
   "execution_count": null,
   "id": "c57f4be4-a5c0-4398-a870-90fcf31bbc6a",
   "metadata": {},
   "outputs": [],
   "source": [
    "n_cells = ad_sub.X.shape[0]\n",
    "\n",
    "if target_ncells and not pseudobulk_size:\n",
    "    pseudobulk_size = round(n_cells / target_ncells)\n",
    "    if pseudobulk_size < 2:\n",
    "        metacells = \"\"\n",
    "        pseudobulk_size = 0 "
   ]
  },
  {
   "cell_type": "code",
   "execution_count": null,
   "id": "7bbe771a-7157-4bd5-b07e-dfbb332d715d",
   "metadata": {},
   "outputs": [],
   "source": [
    "pseudobulk_size"
   ]
  },
  {
   "cell_type": "markdown",
   "id": "bb480f2d-ced0-45df-b9d5-422e98ed0579",
   "metadata": {},
   "source": [
    "### compute connectivities"
   ]
  },
  {
   "cell_type": "code",
   "execution_count": null,
   "id": "f9f85de5-fe49-4dbf-9ec5-7f9f2927b931",
   "metadata": {},
   "outputs": [],
   "source": [
    "ad_sub.raw = ad_sub\n",
    "\n",
    "if is_raw:\n",
    "    sc.pp.normalize_total(ad_sub)\n",
    "    sc.pp.log1p(ad_sub)\n",
    "else:\n",
    "    # fix if missing\n",
    "    if \"log1p\" not in ad_sub.uns:\n",
    "        ad_sub.uns[\"log1p\"] = {}\n",
    "    if \"base\" not in ad_sub.uns[\"log1p\"]:\n",
    "        # assume natural log\n",
    "        ad_sub.uns[\"log1p\"][\"base\"] = None\n",
    "\n",
    "sc.pp.highly_variable_genes(ad_sub)\n",
    "\n",
    "sc.pp.scale(ad_sub)\n",
    "sc.tl.pca(ad_sub)\n",
    "\n",
    "sc.pp.neighbors(ad_sub)\n",
    "n_mat = ad_sub.obsp[\"connectivities\"]\n",
    "\n",
    "ad_sub.X = ad_sub.raw.X"
   ]
  },
  {
   "cell_type": "markdown",
   "id": "6650bce8-0cf8-4f65-aa65-5c8c9e6b7b2f",
   "metadata": {},
   "source": [
    "### process"
   ]
  },
  {
   "cell_type": "code",
   "execution_count": null,
   "id": "c6c63d8f-ff2f-4c08-b1e3-1fdf07de9197",
   "metadata": {},
   "outputs": [],
   "source": [
    "if metacells == \"cluster\":\n",
    "    summarise_by = \"sum\" if is_raw else \"mean\"\n",
    "    min_cells = round(pseudobulk_size / 2)\n",
    "    \n",
    "    log.info(f\"create metacells{' by '+metacell_batch if metacell_batch else ''} using {summarise_by} with size {pseudobulk_size} and min cells: {min_cells}\")\n",
    "    \n",
    "    if metacell_batch:\n",
    "        agg_res = get_metacells_by_group(ad_sub, metacell_batch, max_group_size = pseudobulk_size, min_cells=min_cells, summarise = summarise_by)\n",
    "    else:\n",
    "        agg_res = get_metacells(ad_sub, max_group_size = pseudobulk_size, min_cells=min_cells, summarise = summarise_by)\n",
    "    \n",
    "    ad_sub = agg_res.adata\n",
    "    metacell_bc = agg_res.obs_orig[\"metacell\"].to_dict()\n",
    "else:\n",
    "    metacell_bc = {bc:i for i,bc in enumerate(ad_sub.obs_names)}"
   ]
  },
  {
   "cell_type": "code",
   "execution_count": null,
   "id": "b3d5c482-09ff-4bb9-b8fe-5ca47606b40b",
   "metadata": {},
   "outputs": [],
   "source": [
    "ad_sub"
   ]
  },
  {
   "cell_type": "markdown",
   "id": "caa3c923-6b1a-4323-8c5a-19a42954cc22",
   "metadata": {},
   "source": [
    "## subsample"
   ]
  },
  {
   "cell_type": "code",
   "execution_count": null,
   "id": "e18f6559-0cd4-40f5-9446-95ba577fad5f",
   "metadata": {
    "tags": []
   },
   "outputs": [],
   "source": [
    "if subsample:\n",
    "    if subsample_by:\n",
    "        # subsample by column 'subsample_by'\n",
    "        def sample_rows(x, n=1000):\n",
    "            if n > 1:\n",
    "                # by total number\n",
    "                return x.sample(n=int(n)) if x.shape[0]>n else x\n",
    "            else:\n",
    "                # by fraction\n",
    "                return x.sample(frac=float(n)) if x.shape[0]>1 else x\n",
    "        \n",
    "        log.info(\"cell counts before subsampling\")\n",
    "        log.info(ad_sub.obs.value_counts(subsample_by))\n",
    "        \n",
    "        select_cells = ad_sub.obs.groupby(\n",
    "            subsample_by\n",
    "        ).apply(\n",
    "            sample_rows, \n",
    "            n = subsample\n",
    "        ).index.get_level_values(1).tolist()\n",
    "        \n",
    "        ad_sub = ad_sub[ad_sub.obs_names.isin(select_cells)]\n",
    "        \n",
    "        log.info(\"cell counts after subsampling\")\n",
    "        log.info(ad_sub.obs.value_counts(subsample_by))\n",
    "    else:\n",
    "        # subsample across all cells\n",
    "        if subsample > 1:\n",
    "            # by total number\n",
    "            ad_sub = sc.pp.subsample(ad_sub, n_obs=min(int(subsample), ad_sub.shape[0]), copy=True)\n",
    "        else:\n",
    "            # by fraction\n",
    "            ad_sub = sc.pp.subsample(ad_sub, fraction=float(subsample), copy=True)"
   ]
  },
  {
   "cell_type": "markdown",
   "id": "7c53ddc1-7be2-4746-b435-e8ef4a32c60a",
   "metadata": {},
   "source": [
    "### filter genes"
   ]
  },
  {
   "cell_type": "code",
   "execution_count": null,
   "id": "7daa2def-4e87-4df5-aca3-9988db18f67b",
   "metadata": {},
   "outputs": [],
   "source": [
    "sc.pp.filter_genes(ad_sub, min_counts=50)"
   ]
  },
  {
   "cell_type": "markdown",
   "id": "894fec83-9004-41bf-bb9e-088e6a5bc9ed",
   "metadata": {},
   "source": [
    "### leiden clustering"
   ]
  },
  {
   "cell_type": "code",
   "execution_count": null,
   "id": "beda525a-27d1-4fb5-aa24-08b510afeb23",
   "metadata": {},
   "outputs": [],
   "source": [
    "ad_sub.raw = ad_sub.copy()"
   ]
  },
  {
   "cell_type": "code",
   "execution_count": null,
   "id": "48ea6fe0-350a-40ab-88be-ce745a90fabe",
   "metadata": {},
   "outputs": [],
   "source": [
    "if not \"leiden\" in ad_sub.obs:\n",
    "    if is_raw:\n",
    "        sc.pp.normalize_total(ad_sub)\n",
    "        sc.pp.log1p(ad_sub)\n",
    "    sc.pp.scale(ad_sub)\n",
    "    sc.tl.pca(ad_sub)\n",
    "    sc.pp.neighbors(ad_sub)\n",
    "    sc.tl.leiden(ad_sub)\n",
    "    ad_sub.X = ad_sub.raw.X\n",
    "\n",
    "if not annot_column:\n",
    "    ad.obs[\"celltype\"] = ad.obs[\"leiden\"].astype(str)"
   ]
  },
  {
   "cell_type": "markdown",
   "id": "3a5c9acf-0486-4039-96e8-f982af047017",
   "metadata": {},
   "source": [
    "## 4) Save anndata and barcodes"
   ]
  },
  {
   "cell_type": "code",
   "execution_count": null,
   "id": "4363f388-34e5-4f56-b573-4e014423cdcc",
   "metadata": {},
   "outputs": [],
   "source": [
    "ad_sub.X.min(), ad_sub.X.max(), ad_sub.raw.X.min(), ad_sub.raw.X.max()"
   ]
  },
  {
   "cell_type": "code",
   "execution_count": null,
   "id": "0d0b2342-155d-406b-8912-d7d14dd2337a",
   "metadata": {
    "tags": []
   },
   "outputs": [],
   "source": [
    "rna_path.mkdir(parents = True, exist_ok = True)\n",
    "\n",
    "with open(rna_path / \"metacells.pkl\", \"wb\") as f:\n",
    "    pickle.dump(metacell_bc, f)"
   ]
  },
  {
   "cell_type": "code",
   "execution_count": null,
   "id": "b8e10be5-a635-4321-a6f7-269596e6f268",
   "metadata": {},
   "outputs": [],
   "source": [
    "ad_sub.write(rna_path / \"anndata_metacells.h5ad\")"
   ]
  },
  {
   "cell_type": "code",
   "execution_count": null,
   "id": "9e159360-f2ba-49b2-9807-fc54f31b5e78",
   "metadata": {},
   "outputs": [],
   "source": [
    "ad_sub.obs.to_csv(rna_path / \"anndata_metacells_obs.csv\")"
   ]
  }
 ],
 "metadata": {
  "kernelspec": {
   "display_name": "Python 3 (ipykernel)",
   "language": "python",
   "name": "python3"
  },
  "language_info": {
   "codemirror_mode": {
    "name": "ipython",
    "version": 3
   },
   "file_extension": ".py",
   "mimetype": "text/x-python",
   "name": "python",
   "nbconvert_exporter": "python",
   "pygments_lexer": "ipython3",
   "version": "3.10.14"
  }
 },
 "nbformat": 4,
 "nbformat_minor": 5
}
