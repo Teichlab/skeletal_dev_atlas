{
 "cells": [
  {
   "cell_type": "markdown",
   "id": "adea94a9-2d04-4947-8c01-d3b8ec74cc8c",
   "metadata": {},
   "source": [
    "# Post-process after running Scenic plus"
   ]
  },
  {
   "cell_type": "code",
   "execution_count": null,
   "id": "48b31af2-e7e7-4a81-935d-5ce8dab117f1",
   "metadata": {},
   "outputs": [],
   "source": [
    "import os\n",
    "import sys\n",
    "import pickle\n",
    "import dill\n",
    "import tempfile\n",
    "import logging as log\n",
    "import warnings\n",
    "from pathlib import Path\n",
    "\n",
    "import numpy as np\n",
    "import scanpy as sc\n",
    "import pandas\n",
    "import pyranges\n",
    "import pybiomart as pbm\n",
    "import networkx as nx\n",
    "import json\n",
    "\n",
    "from scenicplus.scenicplus_class import create_SCENICPLUS_object\n",
    "from scenicplus.wrappers.run_scenicplus import run_scenicplus\n",
    "from scenicplus.preprocessing.filtering import apply_std_filtering_to_eRegulons\n",
    "from scenicplus.eregulon_enrichment import score_eRegulons\n",
    "from scenicplus.dimensionality_reduction import run_eRegulons_tsne, run_eRegulons_umap\n",
    "from scenicplus.cistromes import TF_cistrome_correlation, generate_pseudobulks\n",
    "from scenicplus.RSS import *\n",
    "from scenicplus.networks import create_nx_tables, create_nx_graph, plot_networkx, export_to_cytoscape\n",
    "from pycisTopic.diff_features import find_highly_variable_features\n",
    "\n",
    "from IPython.display import display, Markdown"
   ]
  },
  {
   "cell_type": "code",
   "execution_count": null,
   "id": "aba0c851-9356-4246-a015-2099c5817a87",
   "metadata": {},
   "outputs": [],
   "source": [
    "logger = log.getLogger()\n",
    "warnings.simplefilter(action = 'ignore')"
   ]
  },
  {
   "cell_type": "code",
   "execution_count": null,
   "id": "c0a0397e-8c12-4b00-8f18-b3385c578a60",
   "metadata": {},
   "outputs": [],
   "source": [
    "sc.settings.set_figure_params(dpi=150, frameon=False, figsize=(10, 10), facecolor='white')"
   ]
  },
  {
   "cell_type": "markdown",
   "id": "edadfe8b-44b9-491b-a660-dc7f710b3673",
   "metadata": {
    "tags": []
   },
   "source": [
    "## Parameters"
   ]
  },
  {
   "cell_type": "code",
   "execution_count": null,
   "id": "c3fcd89d-c3cc-44dd-b9e6-81330cc25f6f",
   "metadata": {},
   "outputs": [],
   "source": [
    "thresholds = {\n",
    "    'rho': [-0.4, 0.4],\n",
    "    'n_targets': 0,\n",
    "}\n",
    "\n",
    "cell_type_col = \"GEX_celltype\"\n",
    "work_dir = Path(\"/path/to/work_dir\")\n",
    "n_cores = 8\n",
    "\n",
    "tmp_dir = tempfile.mkdtemp()"
   ]
  },
  {
   "cell_type": "code",
   "execution_count": null,
   "id": "38058c2d-a642-47b0-9835-8b0416fe2e46",
   "metadata": {},
   "outputs": [],
   "source": [
    "scenicplus_path = work_dir / \"scenicplus\""
   ]
  },
  {
   "cell_type": "code",
   "execution_count": null,
   "id": "b59da15c-3e44-486d-9a0a-fa7bd2b667dd",
   "metadata": {
    "tags": []
   },
   "outputs": [],
   "source": [
    "display(Markdown(f\"\"\"\n",
    "**parameters:**\n",
    "- **thresholds:**\n",
    "  - **rho:** *{thresholds['rho']}*\n",
    "  - **n_targets:** *{thresholds['n_targets']}*\n",
    "- **scenic plus object cell type column:** *{cell_type_col}*\n",
    "- **working directory for output files:** *{work_dir.resolve()}*\n",
    "\"\"\"))"
   ]
  },
  {
   "cell_type": "markdown",
   "id": "3440673f-6252-4160-a7e5-a0f990908e27",
   "metadata": {},
   "source": [
    "## 1) Load"
   ]
  },
  {
   "cell_type": "code",
   "execution_count": null,
   "id": "22484167-cd75-406d-8d3f-bf9b9673013a",
   "metadata": {},
   "outputs": [],
   "source": [
    "log.info(\"Loading scenic object...\")\n",
    "\n",
    "with open(scenicplus_path / \"scplus_obj.pkl\", \"rb\") as f:\n",
    "    scplus_obj = dill.load(f)"
   ]
  },
  {
   "cell_type": "markdown",
   "id": "78de6c1f-3368-403e-bd78-f22d570d6297",
   "metadata": {},
   "source": [
    "update annotation (uncomment if required)"
   ]
  },
  {
   "cell_type": "code",
   "execution_count": null,
   "id": "0e3527a7-8bea-457c-849a-7031f7b1f65c",
   "metadata": {},
   "outputs": [],
   "source": [
    "# annot_update = pd.read_csv(\"updated_cell_metadata.csv\", index_col=0)[\"updated_annotation\"]\n",
    "\n",
    "# scplus_obj.metadata_cell[\"updated_annotation\"] = scplus_obj.metadata_cell.index.map(annot_update)\n",
    "\n",
    "# scplus_obj.metadata_cell[cell_type_col] = [\n",
    "#     row[\"updated_annotation\"] if not pd.isna(row[\"updated_annotation\"]) else row[cell_type_col] \n",
    "#     for _, row in scplus_obj.metadata_cell.iterrows()\n",
    "# ]"
   ]
  },
  {
   "cell_type": "markdown",
   "id": "cd323877-dbab-430a-b7f0-0e796035f95e",
   "metadata": {},
   "source": [
    "subsetting (uncomment if required)"
   ]
  },
  {
   "cell_type": "code",
   "execution_count": null,
   "id": "86ddca57-316a-4605-b54a-ec98091f34b2",
   "metadata": {},
   "outputs": [],
   "source": [
    "sel_cells = None\n",
    "# sel_cells = list(set(scplus_obj.cell_names[scplus_obj.metadata_cell[cell_type_col].isin(new_annot['updated_annotation'].unique())]))\n",
    "\n",
    "# scplus_obj.subset(\n",
    "#     cells = sel_cells,\n",
    "#     regions = None,\n",
    "#     genes = None,\n",
    "#     return_copy = False,\n",
    "# )"
   ]
  },
  {
   "cell_type": "code",
   "execution_count": null,
   "id": "7eaa61d1-b7ad-4261-9473-f35c1cdb7f92",
   "metadata": {},
   "outputs": [],
   "source": [
    "cell_type_vc = scplus_obj.metadata_cell[cell_type_col].value_counts()\n",
    "cell_type_vc"
   ]
  },
  {
   "cell_type": "markdown",
   "id": "ef3aaad2-53af-4140-a7d1-fddddfacadf5",
   "metadata": {},
   "source": [
    "## 2) Standard filtering"
   ]
  },
  {
   "cell_type": "code",
   "execution_count": null,
   "id": "71f06518-796a-4948-a634-f2a293cf96b1",
   "metadata": {},
   "outputs": [],
   "source": [
    "log.info(\"Apply standard filtering to eRegulons...\")\n",
    "apply_std_filtering_to_eRegulons(scplus_obj)"
   ]
  },
  {
   "cell_type": "markdown",
   "id": "48d85b5d-bc99-4d0d-9c71-8ded64a4df33",
   "metadata": {},
   "source": [
    "## 3) Re-calculate AUCell scores"
   ]
  },
  {
   "cell_type": "code",
   "execution_count": null,
   "id": "0b6f426e-f3d2-4a93-9ee3-ebb7a266832f",
   "metadata": {},
   "outputs": [],
   "source": [
    "log.info(\"Recalculate AUCell after filtering...\")\n",
    "\n",
    "log.info(\"...load gene rankings\")\n",
    "with open(scenicplus_path / \"region_ranking.pkl\", \"rb\") as f:\n",
    "    region_ranking = dill.load(f)\n",
    "\n",
    "with open(scenicplus_path / \"gene_ranking.pkl\", \"rb\") as f:\n",
    "    gene_ranking = dill.load(f)"
   ]
  },
  {
   "cell_type": "code",
   "execution_count": null,
   "id": "deaa29e1-8e52-4817-8c2e-a587243c0da2",
   "metadata": {},
   "outputs": [],
   "source": [
    "if sel_cells:\n",
    "    gene_ranking.subset(cells = sel_cells)\n",
    "    region_ranking.subset(cells = sel_cells)"
   ]
  },
  {
   "cell_type": "code",
   "execution_count": null,
   "id": "95589888-0c1a-4273-aa3e-b02d74bea086",
   "metadata": {},
   "outputs": [],
   "source": [
    "log.info(\"...score regions\")\n",
    "score_eRegulons(\n",
    "    scplus_obj,\n",
    "    ranking = region_ranking,\n",
    "    eRegulon_signatures_key = 'eRegulon_signatures_filtered',\n",
    "    key_added = 'eRegulon_AUC_filtered',\n",
    "    enrichment_type= 'region',\n",
    "    auc_threshold = 0.05,\n",
    "    normalize = False,\n",
    "    n_cpu = n_cores\n",
    ")\n",
    "\n",
    "log.info(\"...score genes\")\n",
    "score_eRegulons(\n",
    "    scplus_obj,\n",
    "    gene_ranking,\n",
    "    eRegulon_signatures_key = 'eRegulon_signatures_filtered',\n",
    "    key_added = 'eRegulon_AUC_filtered',\n",
    "    enrichment_type = 'gene',\n",
    "    auc_threshold = 0.05,\n",
    "    normalize= False,\n",
    "    n_cpu = n_cores\n",
    ")"
   ]
  },
  {
   "cell_type": "markdown",
   "id": "31491787-458e-4c62-9977-b27ed14c81cd",
   "metadata": {},
   "source": [
    "### embedding"
   ]
  },
  {
   "cell_type": "code",
   "execution_count": null,
   "id": "4f2646d5-18f5-4a84-9b9e-ac425152c0d6",
   "metadata": {},
   "outputs": [],
   "source": [
    "log.info(\"Calculate embeddings...\")\n",
    "\n",
    "log.info(\"...UMAP\")\n",
    "run_eRegulons_umap(\n",
    "    scplus_obj = scplus_obj,\n",
    "    auc_key = 'eRegulon_AUC_filtered',\n",
    "    reduction_name = 'eRegulons_UMAP', \n",
    ")\n",
    "\n",
    "log.info(\"...tSNE\")\n",
    "run_eRegulons_tsne(\n",
    "    scplus_obj = scplus_obj,\n",
    "    auc_key = 'eRegulon_AUC_filtered',\n",
    "    reduction_name = 'eRegulons_tSNE',\n",
    ")"
   ]
  },
  {
   "cell_type": "code",
   "execution_count": null,
   "id": "4e2c5f3e-3d66-4e15-9c34-a25abf73b31b",
   "metadata": {
    "tags": []
   },
   "outputs": [],
   "source": [
    "import seaborn as sns\n",
    "from scenicplus.dimensionality_reduction import plot_metadata_given_ax\n",
    "\n",
    "fig, axs = plt.subplots(ncols=2, figsize = (16, 8))\n",
    "plot_metadata_given_ax(\n",
    "    scplus_obj=scplus_obj,\n",
    "    ax = axs[0],\n",
    "    reduction_name = 'eRegulons_UMAP',\n",
    "    variable = cell_type_col,\n",
    ")\n",
    "plot_metadata_given_ax(\n",
    "    scplus_obj=scplus_obj,\n",
    "    ax = axs[1],\n",
    "    reduction_name = 'eRegulons_tSNE',\n",
    "    variable = cell_type_col,\n",
    ")\n",
    "fig.tight_layout()\n",
    "sns.despine(ax = axs[0]) #remove top and right edge of axis border\n",
    "sns.despine(ax = axs[1]) #remove top and right edge of axis border\n",
    "plt.show()"
   ]
  },
  {
   "cell_type": "markdown",
   "id": "63d42872-b0cc-4d73-b6a0-0e55a595e081",
   "metadata": {},
   "source": [
    "## 4) Find high QC regulons"
   ]
  },
  {
   "cell_type": "code",
   "execution_count": null,
   "id": "3e4f1e5d-5818-436c-96ee-73af66f537c2",
   "metadata": {},
   "outputs": [],
   "source": [
    "log.info(\"Determine high QC regulons...\")\n",
    "\n",
    "log.info(\"...generate pseudobulks\")\n",
    "generate_pseudobulks(\n",
    "    scplus_obj = scplus_obj,\n",
    "    variable = cell_type_col,\n",
    "    auc_key = 'eRegulon_AUC_filtered',\n",
    "    signature_key = 'Gene_based',\n",
    "    nr_cells = min(cell_type_vc.min(), 10),\n",
    "    nr_pseudobulks = 100,\n",
    ")\n",
    "\n",
    "generate_pseudobulks(\n",
    "    scplus_obj = scplus_obj,\n",
    "    variable = cell_type_col,\n",
    "    auc_key = 'eRegulon_AUC_filtered',\n",
    "    signature_key = 'Region_based',\n",
    "    nr_cells = min(cell_type_vc.min(), 10),\n",
    "    nr_pseudobulks = 100,\n",
    ")"
   ]
  },
  {
   "cell_type": "code",
   "execution_count": null,
   "id": "9b0876e8-a51b-4330-a3f8-075d83e7aed0",
   "metadata": {},
   "outputs": [],
   "source": [
    "log.info(\"...cistrome correlation\")\n",
    "TF_cistrome_correlation(\n",
    "    scplus_obj,\n",
    "    use_pseudobulk = True,\n",
    "    variable = cell_type_col,\n",
    "    auc_key = 'eRegulon_AUC_filtered',\n",
    "    signature_key = 'Gene_based',\n",
    "    out_key = 'filtered_gene_based'\n",
    ")\n",
    "\n",
    "TF_cistrome_correlation(\n",
    "    scplus_obj,\n",
    "    use_pseudobulk = True,\n",
    "    variable = cell_type_col,\n",
    "    auc_key = 'eRegulon_AUC_filtered',\n",
    "    signature_key = 'Region_based',\n",
    "    out_key = 'filtered_region_based',\n",
    ")"
   ]
  },
  {
   "cell_type": "markdown",
   "id": "01cfd1ca-55c5-4950-bb10-b7b48419a5ec",
   "metadata": {},
   "source": [
    "### plot corr"
   ]
  },
  {
   "cell_type": "code",
   "execution_count": null,
   "id": "46a3c11e-8010-46c0-b716-3fa41f1fbd2a",
   "metadata": {
    "tags": []
   },
   "outputs": [],
   "source": [
    "import seaborn as sns\n",
    "import numpy as np\n",
    "\n",
    "n_targets = [int(x.split('(')[1].replace('r)', '')) for x in scplus_obj.uns['TF_cistrome_correlation']['filtered_region_based']['Cistrome']]\n",
    "rho = scplus_obj.uns['TF_cistrome_correlation']['filtered_region_based']['Rho'].to_list()\n",
    "adj_pval = scplus_obj.uns['TF_cistrome_correlation']['filtered_region_based']['Adjusted_p-value'].to_list()\n",
    "\n",
    "fig, ax = plt.subplots(figsize = (10, 5))\n",
    "sc = ax.scatter(rho, n_targets, c = -np.log10(adj_pval), s = 5)\n",
    "ax.set_xlabel('Correlation coefficient')\n",
    "ax.set_ylabel('nr. target regions')\n",
    "#ax.hlines(y = thresholds['n_targets'], xmin = min(rho), xmax = max(rho), color = 'black', ls = 'dashed', lw = 1)\n",
    "ax.vlines(x = thresholds['rho'], ymin = 0, ymax = max(n_targets), color = 'black', ls = 'dashed', lw = 1)\n",
    "ax.text(x = thresholds['rho'][0], y = max(n_targets), s = str(thresholds['rho'][0]))\n",
    "ax.text(x = thresholds['rho'][1], y = max(n_targets), s = str(thresholds['rho'][1]))\n",
    "sns.despine(ax = ax)\n",
    "fig.colorbar(sc, label = '-log10(adjusted_pvalue)', ax = ax)\n",
    "plt.show()"
   ]
  },
  {
   "cell_type": "markdown",
   "id": "5b01d4cb-9156-4fba-b08d-35a5ee054a0a",
   "metadata": {},
   "source": [
    "### select"
   ]
  },
  {
   "cell_type": "code",
   "execution_count": null,
   "id": "63812ef0-0f7f-4e36-85a2-329e67351917",
   "metadata": {},
   "outputs": [],
   "source": [
    "log.info(\"...select\")\n",
    "selected_cistromes = scplus_obj.uns['TF_cistrome_correlation']['filtered_region_based'].loc[\n",
    "    np.logical_or(\n",
    "        scplus_obj.uns['TF_cistrome_correlation']['filtered_region_based']['Rho'] > thresholds['rho'][1],\n",
    "        scplus_obj.uns['TF_cistrome_correlation']['filtered_region_based']['Rho'] < thresholds['rho'][0]\n",
    "    )\n",
    "]['Cistrome'].to_list()"
   ]
  },
  {
   "cell_type": "code",
   "execution_count": null,
   "id": "05be28ef-8113-45a3-8371-1f310008894e",
   "metadata": {},
   "outputs": [],
   "source": [
    "selected_eRegulons = [x.split('_(')[0] for x in selected_cistromes]\n",
    "selected_eRegulons_gene_sig = [\n",
    "    x for x in scplus_obj.uns['eRegulon_signatures_filtered']['Gene_based'].keys()\n",
    "    if x.split('_(')[0] in selected_eRegulons\n",
    "]\n",
    "selected_eRegulons_region_sig = [\n",
    "    x for x in scplus_obj.uns['eRegulon_signatures_filtered']['Region_based'].keys()\n",
    "    if x.split('_(')[0] in selected_eRegulons\n",
    "]"
   ]
  },
  {
   "cell_type": "code",
   "execution_count": null,
   "id": "8de43077-0c96-463e-ab4b-3af21e8bfe9b",
   "metadata": {},
   "outputs": [],
   "source": [
    "log.info(\"...store in scenicplus object\")\n",
    "#save the results in the scenicplus object\n",
    "scplus_obj.uns['selected_eRegulon'] = {'Gene_based': selected_eRegulons_gene_sig, 'Region_based': selected_eRegulons_region_sig}\n",
    "log.info(f'selected: {len(selected_eRegulons_gene_sig)} eRegulons')"
   ]
  },
  {
   "cell_type": "markdown",
   "id": "245740d3-2d96-4426-b471-25b606fc344d",
   "metadata": {
    "tags": []
   },
   "source": [
    "### plot dotplot-heatmap"
   ]
  },
  {
   "cell_type": "code",
   "execution_count": null,
   "id": "a089a0e4-ac11-4742-b62b-11bf35d1f71f",
   "metadata": {},
   "outputs": [],
   "source": [
    "dgem = scplus_obj.to_df('EXP')\n",
    "dgem = dgem.T / dgem.T.sum(0) * 10**6\n",
    "dgem = np.log1p(dgem).T"
   ]
  },
  {
   "cell_type": "code",
   "execution_count": null,
   "id": "1f768e56-4468-49f3-b49e-bb9a107aaecc",
   "metadata": {},
   "outputs": [],
   "source": [
    "regs_not_in_gex_genes = []\n",
    "gex_genes = set(dgem.columns)\n",
    "for c in scplus_obj.uns['eRegulon_AUC_filtered']['Region_based']:\n",
    "    if c.split('_')[0] not in gex_genes:\n",
    "        regs_not_in_gex_genes.append(c)\n",
    "\n",
    "scplus_obj.uns['eRegulon_AUC_filtered']['Region_based'] = scplus_obj.uns['eRegulon_AUC_filtered']['Region_based'].drop(columns=regs_not_in_gex_genes)"
   ]
  },
  {
   "cell_type": "code",
   "execution_count": null,
   "id": "d5072ebb-c920-45d0-98ce-376e4c5f9330",
   "metadata": {},
   "outputs": [],
   "source": [
    "regs_not_in_gex_genes = []\n",
    "gex_genes = set(dgem.columns)\n",
    "for c in scplus_obj.uns['eRegulon_AUC_filtered']['Gene_based']:\n",
    "    if c.split('_')[0] not in gex_genes:\n",
    "        regs_not_in_gex_genes.append(c)\n",
    "\n",
    "scplus_obj.uns['eRegulon_AUC_filtered']['Gene_based'] = scplus_obj.uns['eRegulon_AUC_filtered']['Gene_based'].drop(columns=regs_not_in_gex_genes)"
   ]
  },
  {
   "cell_type": "code",
   "execution_count": null,
   "id": "4d902f6c-e5b8-4e64-b0f4-fbdf6d3169ad",
   "metadata": {
    "jupyter": {
     "source_hidden": true
    },
    "tags": []
   },
   "outputs": [],
   "source": [
    "import plotnine\n",
    "from plotnine import ggplot, geom_point, aes, scale_fill_distiller, theme_bw, geom_tile, theme, element_text, element_blank, labs, theme_minimal\n",
    "from plotnine.facets import facet_grid\n",
    "from scenicplus.plotting.dotplot import generate_dotplot_df\n",
    "\n",
    "def mod_heatmap_dotplot(\n",
    "    scplus_obj: SCENICPLUS,\n",
    "    size_matrix: pd.DataFrame,\n",
    "    dot_color_matrix: pd.DataFrame,\n",
    "    color_matrix: pd.DataFrame,\n",
    "    scale_size_matrix: bool = True,\n",
    "    scale_color_matrix: bool = True,\n",
    "    group_variable: str = None,\n",
    "    subset_eRegulons: list = None,\n",
    "    sort_by: str = 'color_val',\n",
    "    index_order: list = None,\n",
    "    save: str = None,\n",
    "    figsize: tuple = (5, 8),\n",
    "    split_repressor_activator: bool = True,\n",
    "    plot_regulons = [\"activator\", \"repressor\"],\n",
    "    orientation: str = 'vertical'\n",
    "):\n",
    "    \"\"\"\n",
    "    Function to generate dotplot dataframe from cistrome AUC enrichment\n",
    "\n",
    "    Parameters\n",
    "    ----------\n",
    "    scplus_obj: `class::SCENICPLUS`\n",
    "        A :class:`SCENICPLUS` object.\n",
    "    size_matrix: pd.DataFrame\n",
    "        A pd.DataFrame containing values to plot using size scale.\n",
    "    dot_color_matrix: pd.DataFrame\n",
    "        A pd.DataFrame containing values to plot using dot color scale.\n",
    "    color_matrix\n",
    "        A pd.DataFrame containing values to plot using color scale.\n",
    "    scale_size_matrix: bool\n",
    "        Scale size matrix between 0 and 1 along index.\n",
    "    scale_color_matrix: bool\n",
    "        Scale color matrix between 0 and 1 along index.\n",
    "    group_variable: str:\n",
    "        Variable by which to group cell barcodes by (needed if the index of size or color matrix are cells.)\n",
    "    subset_eRegulons: List\n",
    "        List of eRegulons to plot.\n",
    "    sort_by: str\n",
    "        Sort by color_val or size_val.\n",
    "    index_order: list\n",
    "        Order of index to plot.\n",
    "    figsize: tuple\n",
    "        size of the figure (x, y).\n",
    "    split_repressor_activator: bool\n",
    "        Wether to split the plot on repressors/activators.\n",
    "    orientation: str\n",
    "        Plot in horizontal or vertical orientation\n",
    "    \"\"\"\n",
    "    plotting_df = generate_dotplot_df(\n",
    "        scplus_obj = scplus_obj,\n",
    "        size_matrix = size_matrix,\n",
    "        color_matrix = color_matrix,\n",
    "        scale_size_matrix = scale_size_matrix,\n",
    "        scale_color_matrix = scale_color_matrix,\n",
    "        group_variable = group_variable,\n",
    "        subset_eRegulons = subset_eRegulons)\n",
    "    \n",
    "    add_df = generate_dotplot_df(\n",
    "        scplus_obj = scplus_obj,\n",
    "        size_matrix = dot_color_matrix,\n",
    "        color_matrix = color_matrix,\n",
    "        scale_size_matrix = scale_size_matrix,\n",
    "        scale_color_matrix = scale_color_matrix,\n",
    "        group_variable = group_variable,\n",
    "        subset_eRegulons = subset_eRegulons)\n",
    "    \n",
    "    plotting_df = plotting_df.merge(\n",
    "        add_df[[\"size_val\"]].rename(columns={\"size_val\": \"dot_color_val\"}), \n",
    "        how=\"left\", \n",
    "        left_index=True, \n",
    "        right_index=True)\n",
    "\n",
    "    if index_order is not None:\n",
    "        if len(set(index_order) & set(plotting_df['index'])) != len(set(plotting_df['index'])):\n",
    "            Warning('not all indices are provided in index_order, order will not be changed!')\n",
    "        else:\n",
    "            plotting_df['index'] = pd.Categorical(plotting_df['index'], categories = index_order)\n",
    "            \n",
    "    if len(plot_regulons) < 2:\n",
    "        split_repressor_activator = False\n",
    "    \n",
    "    #sort values\n",
    "    tmp = plotting_df[['index', 'eRegulon_name', sort_by]\n",
    "        ].pivot_table(index = 'index', columns = 'eRegulon_name'\n",
    "        ).fillna(0)['color_val']\n",
    "    if index_order is not None:\n",
    "        tmp = tmp.loc[index_order]\n",
    "    idx_max = tmp.idxmax(axis = 0)\n",
    "    order = pd.concat([idx_max[idx_max == x] for x in tmp.index.tolist() if len(plotting_df[plotting_df == x]) > 0]).index.tolist()\n",
    "    plotting_df['eRegulon_name'] = pd.Categorical(plotting_df['eRegulon_name'], categories = order)\n",
    "    plotting_df['repressor_activator'] = ['activator' if '+' in n.split('_')[1] and 'extended' not in n or '+' in n.split('_')[2] and 'extended' in n  else 'repressor' for n in plotting_df['eRegulon_name']]\n",
    "    plotting_df = plotting_df[plotting_df[\"repressor_activator\"].isin(plot_regulons)]\n",
    "    \n",
    "    plotnine.options.figure_size = figsize\n",
    "    \n",
    "    if split_repressor_activator:\n",
    "        if orientation == 'vertical':\n",
    "            plot = (\n",
    "                ggplot(plotting_df, aes('index', 'eRegulon_name'))\n",
    "                + facet_grid(\n",
    "                    'repressor_activator ~ .', \n",
    "                    scales = \"free\", \n",
    "                    space = {'x': [1], 'y': [sum(plotting_df['repressor_activator'] == 'activator'), sum(plotting_df['repressor_activator'] == 'repressor')]})\n",
    "                + geom_tile(mapping = aes(fill = 'color_val'))\n",
    "                + scale_fill_distiller(type = 'div', palette = 'RdYlBu', limits = [-0.1, 1.1])\n",
    "                + geom_point(\n",
    "                        mapping = aes(size = 'size_val', alpha = 'dot_color_val'),\n",
    "                        colour = \"black\")\n",
    "                + theme(axis_text_x=element_text(rotation=60, hjust=1))\n",
    "                + theme(axis_title_x = element_blank(), axis_title_y = element_blank()))\n",
    "        elif orientation == 'horizontal':\n",
    "            plot = (\n",
    "                ggplot(plotting_df, aes('eRegulon_name', 'index'))\n",
    "                + facet_grid(\n",
    "                    '. ~ repressor_activator', \n",
    "                    scales = \"free\", \n",
    "                    space = {'y': [1], 'x': [sum(plotting_df['repressor_activator'] == 'activator'), sum(plotting_df['repressor_activator'] == 'repressor')]})\n",
    "                + geom_tile(mapping = aes(fill = 'color_val'))\n",
    "                + scale_fill_distiller(type = 'div', palette = 'RdYlBu', limits = [-0.1, 1.1])\n",
    "                + geom_point(\n",
    "                        mapping = aes(size = 'size_val', alpha = 'dot_color_val'),\n",
    "                        colour = \"black\")\n",
    "                + theme(axis_text_x=element_text(rotation=60, hjust=1))\n",
    "                + theme(axis_title_x = element_blank(), axis_title_y = element_blank()))\n",
    "    else:\n",
    "        if orientation == 'vertical':\n",
    "            plot = (\n",
    "                ggplot(plotting_df, aes('index', 'eRegulon_name'))\n",
    "                + geom_tile(mapping = aes(fill = 'color_val'))\n",
    "                + scale_fill_distiller(type = 'div', palette = 'RdYlBu', limits = [-0.1, 1.1])\n",
    "                + geom_point(\n",
    "                        mapping = aes(size = 'size_val', alpha = 'dot_color_val'),\n",
    "                        colour = \"black\")\n",
    "                + theme(axis_text_x=element_text(rotation=60, hjust=1))\n",
    "                + theme(axis_title_x = element_blank(), axis_title_y = element_blank()))\n",
    "        elif orientation == 'horizontal':\n",
    "            plot = (\n",
    "                ggplot(plotting_df, aes('eRegulon_name', 'index'))\n",
    "                + geom_tile(mapping = aes(fill = 'color_val'))\n",
    "                + scale_fill_distiller(type = 'div', palette = 'RdYlBu', limits = [-0.1, 1.1])\n",
    "                + geom_point(\n",
    "                        mapping = aes(size = 'size_val', alpha = 'dot_color_val'),\n",
    "                        colour = \"black\")\n",
    "                + theme(axis_text_x=element_text(rotation=60, hjust=1))\n",
    "                + theme(axis_title_x = element_blank(), axis_title_y = element_blank()))\n",
    "    if save is not None:\n",
    "        plot.save(save)\n",
    "    else:\n",
    "        return plot"
   ]
  },
  {
   "cell_type": "code",
   "execution_count": null,
   "id": "8a9ce1ae-9b55-462b-b616-a5859a20985e",
   "metadata": {
    "tags": []
   },
   "outputs": [],
   "source": [
    "from scenicplus.plotting.dotplot import heatmap_dotplot\n",
    "from plotnine import labs, theme_minimal, scale_y_discrete\n",
    "\n",
    "plotnine.options.dpi = 100\n",
    "\n",
    "try:\n",
    "    p = mod_heatmap_dotplot(\n",
    "        scplus_obj = scplus_obj,\n",
    "        size_matrix = scplus_obj.uns['eRegulon_AUC_filtered']['Region_based'], #specify what to plot as dot sizes, target region enrichment in this case\n",
    "        dot_color_matrix = scplus_obj.uns['eRegulon_AUC_filtered']['Gene_based'],\n",
    "        color_matrix = dgem, #specify  what to plot as colors, TF expression in this case\n",
    "        scale_size_matrix = True,\n",
    "        scale_color_matrix = True,\n",
    "        group_variable = cell_type_col,\n",
    "        subset_eRegulons = scplus_obj.uns['selected_eRegulon']['Gene_based'],\n",
    "        # index_order = [],\n",
    "        plot_regulons = [\"activator\"],\n",
    "        figsize = (5, 20),\n",
    "        orientation = 'vertical'\n",
    "    ) \n",
    "\n",
    "    p = (\n",
    "        p\n",
    "        + labs(fill = 'TF expression', size = 'Region accessibility', alpha = 'TF activity')\n",
    "        + theme_minimal()\n",
    "        + theme(\n",
    "            axis_text_x = element_text(rotation=60, hjust=1, face=\"bold\",colour = \"black\"),\n",
    "            axis_text_y = element_text(face=\"bold\",colour = \"black\"),\n",
    "        )\n",
    "        + theme(axis_title_x = element_blank(), axis_title_y = element_blank())\n",
    "        + scale_y_discrete(labels = lambda l: [(v.split(\"_\")[0] if \"__\" not in v else v) for v in l])\n",
    "    )\n",
    "    \n",
    "    display(p)\n",
    "    # p.save()\n",
    "except Exception:\n",
    "    log.exception(\"error when plotting dotplot-heatmap\")"
   ]
  },
  {
   "cell_type": "markdown",
   "id": "eaaecee4-d2f3-40f5-9d1b-111143c3531a",
   "metadata": {},
   "source": [
    "## 5) Calculate Regulon Specificity Scores"
   ]
  },
  {
   "cell_type": "code",
   "execution_count": null,
   "id": "85a67deb-6e8a-426c-a93c-0b5f56590973",
   "metadata": {},
   "outputs": [],
   "source": [
    "log.info(\"Compute RSS...\")\n",
    "\n",
    "regulon_specificity_scores(\n",
    "    scplus_obj,\n",
    "    variable = cell_type_col,\n",
    "    auc_key = 'eRegulon_AUC_filtered',\n",
    "    signature_keys = ['Region_based'],\n",
    "    selected_regulons = [x for x in scplus_obj.uns['selected_eRegulon']['Region_based'] if '-' not in x],\n",
    "    out_key_suffix = '_filtered'\n",
    ")"
   ]
  },
  {
   "cell_type": "markdown",
   "id": "34a46f9f-618f-4e1a-916d-b301cee0b2ad",
   "metadata": {},
   "source": [
    "### plot RSS scores"
   ]
  },
  {
   "cell_type": "code",
   "execution_count": null,
   "id": "2ae93a33-29b6-467b-8f17-0c57c76d11e8",
   "metadata": {
    "tags": []
   },
   "outputs": [],
   "source": [
    "try:\n",
    "    plot_rss(scplus_obj, cell_type_col + '_filtered', num_columns=3, top_n=5, figsize = (10, 20), fontsize=10)\n",
    "except Exception:\n",
    "    log.exception(\"error when plotting RSS scores\")"
   ]
  },
  {
   "cell_type": "markdown",
   "id": "8a072d1a-abe5-4763-978c-7d960d7ca9dc",
   "metadata": {},
   "source": [
    "## 6) Plot correlation heatmap"
   ]
  },
  {
   "cell_type": "code",
   "execution_count": null,
   "id": "e67c9864-6b12-49f1-8dda-240c1a017120",
   "metadata": {
    "tags": []
   },
   "outputs": [],
   "source": [
    "from scenicplus.plotting.correlation_plot import *\n",
    "\n",
    "correlation_heatmap(\n",
    "    scplus_obj,\n",
    "    auc_key = 'eRegulon_AUC_filtered',\n",
    "    signature_keys = ['Gene_based'],\n",
    "    selected_regulons = scplus_obj.uns['selected_eRegulon']['Gene_based'],\n",
    "    fcluster_threshold = 0.1,\n",
    "    figsize = (5, 5),\n",
    "    fontsize = 12\n",
    ")"
   ]
  },
  {
   "cell_type": "markdown",
   "id": "7e9dcdb7-b9f7-43f7-b96a-33dee05db8a5",
   "metadata": {},
   "source": [
    "## 7) Plot coverage plot"
   ]
  },
  {
   "cell_type": "code",
   "execution_count": null,
   "id": "8ee83850-a39b-4e31-bdd4-c065d94f1e6a",
   "metadata": {},
   "outputs": [],
   "source": [
    "gtf_file = \"/lustre/scratch126/cellgen/team205/jp30/bone_atlas/data/download/gencode.v43.basic.annotation.gtf\"\n",
    "\n",
    "plot_region = ''\n",
    "\n",
    "plot_gene = \"RUNX2\"; region_padding = 0.5e5\n",
    "\n",
    "# genes_violin_plot = [plot_gene]\n",
    "col_dct = None"
   ]
  },
  {
   "cell_type": "code",
   "execution_count": null,
   "id": "c6583bbd-a37f-46ba-aebb-cd3e3eeb7668",
   "metadata": {},
   "outputs": [],
   "source": [
    "import matplotlib.pyplot as plt\n",
    "import os\n",
    "from scenicplus.utils import get_interaction_pr\n",
    "import pyranges as pr\n",
    "from scenicplus.plotting.coverageplot import *"
   ]
  },
  {
   "cell_type": "code",
   "execution_count": null,
   "id": "d3947c9c-ca74-44ee-9233-221aac6d12c5",
   "metadata": {
    "tags": []
   },
   "outputs": [],
   "source": [
    "import logging\n",
    "import sys\n",
    "\n",
    "class LoggingContext:\n",
    "    def __init__(self, logger, level=None, handler=None, close=True):\n",
    "        self.logger = logger\n",
    "        self.level = level\n",
    "        self.handler = handler\n",
    "        self.close = close\n",
    "\n",
    "    def __enter__(self):\n",
    "        if self.level is not None:\n",
    "            self.old_level = self.logger.level\n",
    "            self.logger.setLevel(self.level)\n",
    "        if self.handler:\n",
    "            self.logger.addHandler(self.handler)\n",
    "\n",
    "    def __exit__(self, et, ev, tb):\n",
    "        if self.level is not None:\n",
    "            self.logger.setLevel(self.old_level)\n",
    "        if self.handler:\n",
    "            self.logger.removeHandler(self.handler)\n",
    "        if self.handler and self.close:\n",
    "            self.handler.close()"
   ]
  },
  {
   "cell_type": "code",
   "execution_count": null,
   "id": "c4e1a19b-5881-4617-9ce0-98158c56d807",
   "metadata": {
    "tags": []
   },
   "outputs": [],
   "source": [
    "# cell type selection\n",
    "cts = scplus_obj.metadata_cell[cell_type_col].unique().tolist()  # or subset to specific cell types"
   ]
  },
  {
   "cell_type": "markdown",
   "id": "e836d274-33e3-46fa-8cdd-8cfa78579af2",
   "metadata": {},
   "source": [
    "### load track info"
   ]
  },
  {
   "cell_type": "markdown",
   "id": "65ad52c9-4a6c-4b17-99bb-46e8492e647e",
   "metadata": {},
   "source": [
    "load bigwig files"
   ]
  },
  {
   "cell_type": "code",
   "execution_count": null,
   "id": "42302f37-dd68-4d1d-bdca-35ddee6400c6",
   "metadata": {},
   "outputs": [],
   "source": [
    "# bigwig_dir = str(work_dir / 'scATAC' / 'consensus_peak_calling' / 'pseudobulk_bw_files')\n",
    "# bw_dict = {x.replace('.bw', ''): os.path.join(bigwig_dir, x) for x in os.listdir(bigwig_dir) if '.bw' in x}\n",
    "\n",
    "# with open(work_dir / 'scATAC' / 'consensus_peak_calling' / 'cellt_id_mapping.pkl', \"rb\") as f:\n",
    "#     obs_df = pickle.load(f)\n",
    "#     cellt_map = obs_df[[\"celltype\", \"celltype_id\"]].drop_duplicates().set_index(\"celltype_id\").to_dict()[\"celltype\"]\n",
    "#     bw_dict = {cellt_map[k]: v for k, v in bw_dict.items()}"
   ]
  },
  {
   "cell_type": "code",
   "execution_count": null,
   "id": "a8cec5ea-8488-4f1a-a08d-fc02a9034337",
   "metadata": {},
   "outputs": [],
   "source": [
    "# bw_dict = {k:v for k,v in bw_dict.items() if pyBigWig.open(v).header()}\n",
    "\n",
    "# bw_dict = {k:v for k,v in bw_dict.items() if k in cts}"
   ]
  },
  {
   "cell_type": "markdown",
   "id": "29135c93-d94a-4c1d-8706-0f3a4e74e282",
   "metadata": {},
   "source": [
    "load interactions from scenicplus object"
   ]
  },
  {
   "cell_type": "code",
   "execution_count": null,
   "id": "e3fbc62a-a18e-4c53-93ef-af842f5b8228",
   "metadata": {
    "tags": []
   },
   "outputs": [],
   "source": [
    "# pr_interact = get_interaction_pr(scplus_obj, 'hsapiens', 'hg38', inplace = False, subset_for_eRegulons_regions = True, eRegulons_key = 'eRegulons')"
   ]
  },
  {
   "cell_type": "markdown",
   "id": "6338c13a-3cd0-4832-93a8-7f0cf189d4cd",
   "metadata": {},
   "source": [
    "load gene annotations from gtf"
   ]
  },
  {
   "cell_type": "code",
   "execution_count": null,
   "id": "4118a01a-1dae-469f-bae5-86e7fe668633",
   "metadata": {},
   "outputs": [],
   "source": [
    "# pr_gtf = pr.read_gtf(gtf_file)"
   ]
  },
  {
   "cell_type": "markdown",
   "id": "e483c3f8-e5f1-4dfe-ba90-4240a30212af",
   "metadata": {},
   "source": [
    "### plot covereage plot"
   ]
  },
  {
   "cell_type": "code",
   "execution_count": null,
   "id": "c3af618f-b73a-4766-b3da-88c2634844b0",
   "metadata": {},
   "outputs": [],
   "source": [
    "# gene_info = pr_gtf.df.query(f\"gene_name == '{plot_gene}'\")\n",
    "\n",
    "# if not plot_region:\n",
    "#     chrom = gene_info.Chromosome.tolist()[0]\n",
    "\n",
    "#     y_min = int(gene_info.Start.min() - region_padding)\n",
    "#     y_max = int(gene_info.End.max() + region_padding)\n",
    "\n",
    "#     plot_region = f\"{chrom}:{y_min}-{y_max}\"\n",
    "\n",
    "#     print(plot_region)"
   ]
  },
  {
   "cell_type": "markdown",
   "id": "24d4344b-610c-4106-aa57-7165f23e8e90",
   "metadata": {},
   "source": [
    "add annotation of Regulon binding sites below coverage plots"
   ]
  },
  {
   "cell_type": "code",
   "execution_count": null,
   "id": "ef7910bb-8500-41f1-85dc-46a8e4ea0d7b",
   "metadata": {
    "tags": []
   },
   "outputs": [],
   "source": [
    "# reg_sub = scplus_obj.uns[\"eRegulon_metadata_filtered\"].query(f\"Region.str.startswith('{plot_region.split(':')[0]}')\")\n",
    "\n",
    "# add_bed = pr.PyRanges(reg_sub.Region.str.extract(\"(?P<Chromosome>chr[0-9]+):(?P<Start>[0-9]+)-(?P<End>[0-9]+)\", expand=True).assign(Name=\",\".join(cts)))"
   ]
  },
  {
   "cell_type": "markdown",
   "id": "6c0d3286-527f-4637-b4f3-84adfa1e5905",
   "metadata": {},
   "source": [
    "filter shown interactions to selected gene TSS with other regions"
   ]
  },
  {
   "cell_type": "code",
   "execution_count": null,
   "id": "d7517d0b-5772-49b3-91d7-993f9bcddd50",
   "metadata": {
    "tags": []
   },
   "outputs": [],
   "source": [
    "# strand = gene_info.Strand.tolist()[0]\n",
    "# print(f\"strand: {strand}\")"
   ]
  },
  {
   "cell_type": "code",
   "execution_count": null,
   "id": "06556fb0-3bc3-419a-9983-3e944885e783",
   "metadata": {},
   "outputs": [],
   "source": [
    "# if strand == \"+\":\n",
    "#     reg_interact = pr_interact.intersect(pr.PyRanges(pd.Series(f\"{chrom}:{gene_info.Start.min()}-{gene_info.Start.max()}\").str.extract(\"(?P<Chromosome>chr[0-9]+):(?P<Start>[0-9]+)-(?P<End>[0-9]+)\", expand=True)))\n",
    "# elif strand == \"-\":\n",
    "#     reg_interact = pr_interact.intersect(pr.PyRanges(pd.Series(f\"{chrom}:{gene_info.End.min()}-{gene_info.End.max()}\").str.extract(\"(?P<Chromosome>chr[0-9]+):(?P<Start>[0-9]+)-(?P<End>[0-9]+)\", expand=True)))"
   ]
  },
  {
   "cell_type": "markdown",
   "id": "68b23051-bdb0-4673-b432-91cb5b30b27e",
   "metadata": {},
   "source": [
    "make plot"
   ]
  },
  {
   "cell_type": "code",
   "execution_count": null,
   "id": "ab4f9430-da2d-44eb-a9e9-bd71d8a7cc39",
   "metadata": {
    "tags": []
   },
   "outputs": [],
   "source": [
    "# # %%debug --breakpoint /nfs/team205/jp30/scenicplus/src/scenicplus/plotting/coverageplot.py:257\n",
    "# # NOTE: violonplots buggy, axis not well aligned and axis limits chosen in a strange way\n",
    "\n",
    "# with LoggingContext(logger, level=logging.WARNING):\n",
    "#     fig = coverage_plot(\n",
    "#         SCENICPLUS_obj = scplus_obj,\n",
    "#         bw_dict = bw_dict,\n",
    "#         region = plot_region,\n",
    "#         figsize = (7.5,5),\n",
    "#         pr_gtf = pr_gtf,\n",
    "#         color_dict = col_dct,\n",
    "#         plot_order = cts,\n",
    "#         pr_interact = reg_interact,\n",
    "#         # genes_violin_plot = [plot_gene],\n",
    "#         # sort_vln_plots = False,\n",
    "#         meta_data_key = cell_type_col,\n",
    "#         pr_consensus_bed = add_bed,\n",
    "#         arc_rad = 0.1,\n",
    "#         gene_label_offset=5,\n",
    "#         bw_ymax = 5,\n",
    "#         fontsize_dict = {'bigwig_label': 8, 'gene_label': 6, 'violinplots_xlabel': 0, 'title': 10, 'bigwig_tick_label': 2, 'violinplots_ylabel': 0},\n",
    "#         height_ratios_dict = {'bigwig_violin': 0.5, 'genes': 0.1, 'arcs': 0.4, 'custom_ax': 0.0}\n",
    "#     )\n",
    "\n",
    "#     plt.tight_layout()\n",
    "    \n",
    "#     plt.savefig(f'coverage_plot_{plot_gene}.pdf', transparent=True)\n",
    "#     plt.savefig(f'coverage_plot_{plot_gene}.png', transparent=True, dpi=400)"
   ]
  },
  {
   "cell_type": "markdown",
   "id": "66e039b8-41a1-4732-aa57-aca5c742cdf9",
   "metadata": {
    "tags": []
   },
   "source": [
    "## 8) Save object"
   ]
  },
  {
   "cell_type": "code",
   "execution_count": null,
   "id": "2433c990-65ff-4aa4-a2dc-f3d057ead52c",
   "metadata": {},
   "outputs": [],
   "source": [
    "# log.info(\"Save scenicplus object...\")\n",
    "\n",
    "# with open(scenicplus_path / \"scplus_obj.pkl\", \"wb\") as f:\n",
    "#     dill.dump(scplus_obj, f, protocol=-1)"
   ]
  },
  {
   "cell_type": "markdown",
   "id": "8d450354-24ff-4c36-8940-c4eebe4a050d",
   "metadata": {},
   "source": [
    "## 9) Export network for Cytoscape"
   ]
  },
  {
   "cell_type": "code",
   "execution_count": null,
   "id": "effc2210-9938-481a-80c0-912fdb31db04",
   "metadata": {},
   "outputs": [],
   "source": [
    "log.info(\"...compute HVGs and HVRs\")\n",
    "hvr = find_highly_variable_features(\n",
    "    scplus_obj.to_df('ACC').loc[\n",
    "        list(set(scplus_obj.uns['eRegulon_metadata_filtered']['Region']))\n",
    "    ],\n",
    "    n_top_features=1000, \n",
    "    plot = False\n",
    ")\n",
    "hvg = find_highly_variable_features(\n",
    "    scplus_obj.to_df('EXP')[\n",
    "        list(set(scplus_obj.uns['eRegulon_metadata_filtered']['Gene']))\n",
    "    ].T,\n",
    "    n_top_features=1000,\n",
    "    plot = False\n",
    ")"
   ]
  },
  {
   "cell_type": "code",
   "execution_count": null,
   "id": "c5d9aa18-ab4c-4959-823a-925e8453fb92",
   "metadata": {},
   "outputs": [],
   "source": [
    "try:\n",
    "    log.info(\"...create nx_tables\")\n",
    "    nx_tables = create_nx_tables(\n",
    "        scplus_obj = scplus_obj,\n",
    "        eRegulon_metadata_key ='eRegulon_metadata_filtered',\n",
    "        subset_regions = hvr,\n",
    "        subset_genes = hvg,\n",
    "        subset_eRegulons = ['NEUROD1', 'NEUROG3', 'FOXA2'],\n",
    "        add_differential_gene_expression = True,\n",
    "        add_differential_region_accessibility = True,\n",
    "        differential_variable = [cell_type_col]\n",
    "    )\n",
    "except Exception:\n",
    "    log.exception(\"error when creating networkx tables\")"
   ]
  },
  {
   "cell_type": "code",
   "execution_count": null,
   "id": "f179f117-f09a-47a2-bb37-ea5d2331ab9f",
   "metadata": {
    "tags": []
   },
   "outputs": [],
   "source": [
    "try:\n",
    "    log.info(\"...create nx_graph\")\n",
    "    G, pos, edge_tables, node_tables = create_nx_graph(\n",
    "        nx_tables,\n",
    "        use_edge_tables = ['TF2R','R2G'],\n",
    "        shape_node_by = {\n",
    "            'TF': {'variable': 'fixed_shape', 'fixed_shape': 'ellipse'},\n",
    "            'Gene': {'variable': 'fixed_shape', 'fixed_shape': 'ellipse'},\n",
    "            'Region': {'variable': 'fixed_shape', 'fixed_shape': 'diamond'}\n",
    "        },\n",
    "        size_node_by = {\n",
    "            'TF': {'variable': 'fixed_size', 'fixed_size': 30},\n",
    "            'Gene': {'variable': 'fixed_size', 'fixed_size': 15},\n",
    "            'Region': {'variable': 'fixed_size', 'fixed_size': 10}\n",
    "        },\n",
    "        label_size_by = {\n",
    "            'TF': {'variable': 'fixed_label_size', 'fixed_label_size': 18.0},\n",
    "            'Gene': {'variable': 'fixed_label_size', 'fixed_label_size': 12.0},\n",
    "            'Region': {'variable': 'fixed_label_size', 'fixed_label_size': 6.0}\n",
    "        },\n",
    "        width_edge_by = {'R2G': {'variable' : 'R2G_importance', 'max_size' :  1.5, 'min_size' : 1}},\n",
    "        transparency_edge_by =  {'R2G': {'variable' : 'R2G_importance', 'min_alpha': 0.1, 'v_min': 0}},\n",
    "        color_edge_by = {\n",
    "            # 'R2G': {'variable' : 'TF', 'category_color' : {}},\n",
    "            'TF2R': {'variable' : 'TF', 'category_color' : {\"DLX3\": \"Red\", \"DLX5\": \"Green\", \"RUNX2\": \"Blue\"}},\n",
    "            'R2G': {'variable' : 'R2G_rho', 'continuous_color' : 'viridis', 'v_min': -1, 'v_max': 1}\n",
    "        },\n",
    "        layout = 'kamada_kawai_layout',\n",
    "        scale_position_by = 250,\n",
    "    )\n",
    "except Exception:\n",
    "    log.exception(\"error when creating networkx graph\")"
   ]
  },
  {
   "cell_type": "code",
   "execution_count": null,
   "id": "c5de877a-4af5-4f2b-83f1-5e427a33e27a",
   "metadata": {
    "tags": []
   },
   "outputs": [],
   "source": [
    "# plt.figure(figsize=(10,10))\n",
    "# plot_networkx(\n",
    "#     G, \n",
    "#     pos,\n",
    "# )"
   ]
  },
  {
   "cell_type": "code",
   "execution_count": null,
   "id": "acd914d1-ed48-4a0b-b676-e177abdbef4c",
   "metadata": {},
   "outputs": [],
   "source": [
    "try:\n",
    "    log.info(\"...export\")\n",
    "\n",
    "    nx.to_pandas_edgelist(G, source=\"TF\", target=\"gene\").to_csv(scenicplus_path / \"network.csv\")\n",
    "except Exception:\n",
    "    log.exception(\"error when exporting pandas dataframe to csv\")"
   ]
  }
 ],
 "metadata": {
  "kernelspec": {
   "display_name": "Python 3 (ipykernel)",
   "language": "python",
   "name": "python3"
  },
  "language_info": {
   "codemirror_mode": {
    "name": "ipython",
    "version": 3
   },
   "file_extension": ".py",
   "mimetype": "text/x-python",
   "name": "python",
   "nbconvert_exporter": "python",
   "pygments_lexer": "ipython3",
   "version": "3.10.14"
  }
 },
 "nbformat": 4,
 "nbformat_minor": 5
}
