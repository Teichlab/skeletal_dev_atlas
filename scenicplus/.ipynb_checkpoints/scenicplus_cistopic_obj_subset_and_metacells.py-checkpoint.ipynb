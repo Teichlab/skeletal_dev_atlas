{
 "cells": [
  {
   "cell_type": "markdown",
   "id": "2f105503-44b1-42c7-abb7-66a275bb7cf8",
   "metadata": {},
   "source": [
    "# Subset cistopic object and create metacells"
   ]
  },
  {
   "cell_type": "code",
   "execution_count": null,
   "id": "d716b7f8-c2b8-435e-83f8-4f9eaac9f52f",
   "metadata": {},
   "outputs": [],
   "source": [
    "import os\n",
    "import sys\n",
    "import pickle\n",
    "import logging as log\n",
    "import warnings\n",
    "from pathlib import Path\n",
    "\n",
    "import numpy as np\n",
    "import scipy as sp\n",
    "from scipy.sparse import csr_matrix\n",
    "import pandas as pd\n",
    "from pandas.api.types import is_numeric_dtype\n",
    "import scanpy as sc\n",
    "from pycisTopic.cistopic_class import *\n",
    "\n",
    "import seaborn as sns\n",
    "from IPython.display import display, Markdown\n",
    "\n",
    "from utils import load_cistopic_obj, save_cistopic_obj"
   ]
  },
  {
   "cell_type": "markdown",
   "id": "e5e72914-9f13-47ed-b44e-f0894e4ca2e8",
   "metadata": {},
   "source": [
    "## Params"
   ]
  },
  {
   "cell_type": "code",
   "execution_count": null,
   "id": "a1413e67-fe72-410f-adf4-d5232c7c4a16",
   "metadata": {},
   "outputs": [],
   "source": [
    "filter_peaks_cell_frac = 0.02\n",
    "work_dir = Path(\"/path/to/work_dir\")"
   ]
  },
  {
   "cell_type": "code",
   "execution_count": null,
   "id": "0cbb5041-1ea9-40d3-b80f-a4fbbddbfb49",
   "metadata": {
    "tags": []
   },
   "outputs": [],
   "source": [
    "display(Markdown(f\"\"\"\n",
    "**parameters:**\n",
    "- **filter for peaks present in fraction of cells:** *{filter_peaks_cell_frac}*\n",
    "- **working directory for output files:** *{work_dir}*\n",
    "\"\"\"))"
   ]
  },
  {
   "cell_type": "code",
   "execution_count": null,
   "id": "4742eb8f-a9ba-4556-9f95-72d4f575c0d9",
   "metadata": {},
   "outputs": [],
   "source": [
    "log.info(\"get paths\")\n",
    "\n",
    "atac_path = work_dir / \"scATAC\"\n",
    "rna_path = work_dir / \"scRNA\""
   ]
  },
  {
   "cell_type": "markdown",
   "id": "9688f484-c198-43ba-b429-9cdf5c48db6b",
   "metadata": {},
   "source": [
    "## 1) Load"
   ]
  },
  {
   "cell_type": "code",
   "execution_count": null,
   "id": "0a0cc4ac-7efc-45de-8fd2-732e7245f586",
   "metadata": {
    "tags": []
   },
   "outputs": [],
   "source": [
    "log.info(\"load cistopic object\")\n",
    "\n",
    "cistopic_obj = load_cistopic_obj(atac_path / \"cistopic_obj.pkl\")"
   ]
  },
  {
   "cell_type": "code",
   "execution_count": null,
   "id": "30ebf610-8f92-439d-a88d-ff5f045c5fd0",
   "metadata": {},
   "outputs": [],
   "source": [
    "log.info(\"load metacell annotation\")\n",
    "\n",
    "with open(rna_path / \"metacells.pkl\", \"rb\") as f:\n",
    "    metacells = pickle.load(f)"
   ]
  },
  {
   "cell_type": "code",
   "execution_count": null,
   "id": "8a407895-f128-4057-b5e5-af4a125ef54f",
   "metadata": {},
   "outputs": [],
   "source": [
    "log.info(\"load aggregated rna annotation\")\n",
    "\n",
    "rna_obs_annot = pd.read_csv(rna_path / \"anndata_metacells_obs.csv\", index_col=0)"
   ]
  },
  {
   "cell_type": "markdown",
   "id": "52ce73af-1238-4e76-a4b6-9955033d149e",
   "metadata": {},
   "source": [
    "## 2) Subset cells"
   ]
  },
  {
   "cell_type": "code",
   "execution_count": null,
   "id": "591a2f09-3642-4ce0-8311-e5ac43d4bb4e",
   "metadata": {},
   "outputs": [],
   "source": [
    "log.info(\"subset to cells included in metacells\")\n",
    "\n",
    "cn = set(cistopic_obj.cell_names)\n",
    "ct_mask = [k for k in metacells.keys() if k in cn]\n",
    "cistopic_obj.subset(cells = ct_mask)\n",
    "\n",
    "cell_df = cistopic_obj.cell_data"
   ]
  },
  {
   "cell_type": "code",
   "execution_count": null,
   "id": "c7c734f0-3a2d-4a1c-ba7c-c3c88712b26d",
   "metadata": {},
   "outputs": [],
   "source": [
    "log.info(\"add metacell info to cistopic object annotation\")\n",
    "\n",
    "cell_df['metacell'] = cell_df.index.map(metacells)\n",
    "\n",
    "log.info(f\"cistopic cell IDs: {cistopic_obj.cell_names[:5]}\")\n",
    "log.info(f\"metacells cell IDs: {list(metacells)[:5]}\")"
   ]
  },
  {
   "cell_type": "code",
   "execution_count": null,
   "id": "8dece8c8-b208-49a2-af36-e1bf469b45ae",
   "metadata": {
    "tags": []
   },
   "outputs": [],
   "source": [
    "log.info(cistopic_obj)"
   ]
  },
  {
   "cell_type": "markdown",
   "id": "c479a152-5955-4506-bacc-bc700fd54230",
   "metadata": {},
   "source": [
    "## 3) Filter peaks"
   ]
  },
  {
   "cell_type": "code",
   "execution_count": 15,
   "id": "60f9da5e-14ed-4a09-89c8-83380f072097",
   "metadata": {
    "execution": {
     "iopub.execute_input": "2023-03-13T11:58:54.414047Z",
     "iopub.status.busy": "2023-03-13T11:58:54.413760Z",
     "iopub.status.idle": "2023-03-13T11:58:56.744760Z",
     "shell.execute_reply": "2023-03-13T11:58:56.744302Z"
    }
   },
   "outputs": [],
   "source": [
    "bin_mat = cistopic_obj.binary_matrix\n",
    "sums = bin_mat.sum(axis=1)\n",
    "peak_freq = np.array(sums).flatten() / bin_mat.shape[1]"
   ]
  },
  {
   "cell_type": "code",
   "execution_count": null,
   "id": "7bc067ed-620a-4d74-b05a-22aacdb9213f",
   "metadata": {
    "tags": []
   },
   "outputs": [],
   "source": [
    "sns.histplot(peak_freq, binwidth=0.005)"
   ]
  },
  {
   "cell_type": "code",
   "execution_count": 17,
   "id": "674297ee-8544-4d7f-8989-4ac201fe2fdd",
   "metadata": {
    "execution": {
     "iopub.execute_input": "2023-03-13T11:58:57.436146Z",
     "iopub.status.busy": "2023-03-13T11:58:57.435884Z",
     "iopub.status.idle": "2023-03-13T12:00:43.655440Z",
     "shell.execute_reply": "2023-03-13T12:00:43.654512Z"
    }
   },
   "outputs": [],
   "source": [
    "if filter_peaks_cell_frac:\n",
    "    subs_reg = np.array(cistopic_obj.region_names)[peak_freq > filter_peaks_cell_frac]\n",
    "    region_data = cistopic_obj.region_data.loc[subs_reg,:]\n",
    "    cistopic_obj.subset(regions=subs_reg.tolist(), copy=False)\n",
    "    cistopic_obj.region_data = region_data  # NOTE: cistopic_obj.subset not subsetting cistopic_obj.region_data correctly, fix manually"
   ]
  },
  {
   "cell_type": "code",
   "execution_count": null,
   "id": "86efefea-1493-4a56-ac10-f817772000ed",
   "metadata": {
    "tags": []
   },
   "outputs": [],
   "source": [
    "log.info(cistopic_obj)"
   ]
  },
  {
   "cell_type": "markdown",
   "id": "a2d38b31-51ff-4490-a49a-26e58520e498",
   "metadata": {},
   "source": [
    "## 4) Aggregate into metacells"
   ]
  },
  {
   "cell_type": "code",
   "execution_count": null,
   "id": "a75ad5ec-d835-44e3-850e-b4042550960e",
   "metadata": {},
   "outputs": [],
   "source": [
    "n_cells = len(set(metacells.keys()))\n",
    "n_metacells = len(set(metacells.values()))\n",
    "\n",
    "if n_cells == n_metacells:\n",
    "    log.info(\"no metacells found, skipping aggregation step...\")\n",
    "else:\n",
    "    log.info(f\"found {n_metacells} metacells for {n_cells} cells\")\n",
    "    log.info(\"aggregating metacells in cistopic object object...\")\n",
    "    \n",
    "    ######################\n",
    "    #  aggregate counts  #\n",
    "    ######################\n",
    "\n",
    "    log.info(\"prepare metacell aggregation...\")\n",
    "\n",
    "    groups = np.array(cell_df['metacell'].tolist())\n",
    "\n",
    "    cut_mat = np.zeros((cistopic_obj.fragment_matrix.shape[1], np.unique(groups).size))\n",
    "    for i, g in enumerate(np.unique(groups)):\n",
    "        cut_mat[:,i] = (groups==g)\n",
    "\n",
    "    log.info(\"aggregate\")\n",
    "\n",
    "    agg_mat = cistopic_obj.fragment_matrix @ cut_mat\n",
    "\n",
    "    log.info(f\"...aggregated fragment counts into shape {agg_mat.shape}\")\n",
    "\n",
    "    cistopic_obj.fragment_matrix = csr_matrix(agg_mat)\n",
    "    cistopic_obj.binary_matrix = csr_matrix((agg_mat>0).astype(int))\n",
    "\n",
    "\n",
    "    ##############################\n",
    "    #  aggregate cell meta-data  #\n",
    "    ##############################\n",
    "\n",
    "    log.info(\"...aggregate metadata\")\n",
    "\n",
    "    def agg_func(x):\n",
    "        try:\n",
    "            if is_numeric_dtype(x):\n",
    "                return lambda y: y.mean()\n",
    "            else:\n",
    "                return lambda y: y.value_counts().index[0]\n",
    "        except:\n",
    "            return lambda y: np.nan\n",
    "\n",
    "    idx_name = cell_df.index.name or 'index'\n",
    "    cell_df = cell_df.reset_index(names=idx_name)\n",
    "    cell_df = cell_df.groupby(\"metacell\", as_index=False).agg({k: agg_func(v) for k, v in cell_df.items()}).set_index(idx_name)\n",
    "\n",
    "    \n",
    "    ##############################\n",
    "    #      apply subsetting      #\n",
    "    ##############################\n",
    "\n",
    "    log.info(\"select cells from RNA anndata object\")\n",
    "\n",
    "    metacells_subs = set(rna_obs_annot[\"metacell\"].unique().tolist())\n",
    "    sub_mask = [x in metacells_subs for x in cell_df[\"metacell\"].tolist()]\n",
    "\n",
    "    cistopic_obj.fragment_matrix = cistopic_obj.fragment_matrix[:,sub_mask]\n",
    "    cistopic_obj.binary_matrix = cistopic_obj.binary_matrix[:,sub_mask]\n",
    "    cell_df = cell_df.loc[sub_mask,:]\n",
    "    \n",
    "\n",
    "    log.info(\"match RNA anndata object barcodes by metacell\")\n",
    "\n",
    "    rna_obs_metacell_dict = rna_obs_annot.rename_axis(index=\"barcodes\").reset_index().set_index(\"metacell\")[\"barcodes\"].to_dict()\n",
    "    cell_df.index = cell_df[\"metacell\"].map(rna_obs_metacell_dict)\n",
    "\n",
    "    \n",
    "    ##############################\n",
    "    #       store in object      #\n",
    "    ##############################\n",
    "\n",
    "    cistopic_obj.cell_data = cell_df\n",
    "    cistopic_obj.cell_names = cell_df.index.tolist()"
   ]
  },
  {
   "cell_type": "code",
   "execution_count": null,
   "id": "db40cdac-aec8-457b-a24a-42daf503ea53",
   "metadata": {},
   "outputs": [],
   "source": [
    "log.info(f\"fragment matrix shape: {cistopic_obj.fragment_matrix.shape}\")\n",
    "log.info(f\"binary matrix shape: {cistopic_obj.binary_matrix.shape}\")\n",
    "log.info(f\"cell metadata shape: {cistopic_obj.cell_data.shape}\")\n",
    "log.info(f\"cell names length: {len(cistopic_obj.cell_names)}\")"
   ]
  },
  {
   "cell_type": "code",
   "execution_count": null,
   "id": "8e172e26-e208-4c52-9925-7278abb231d3",
   "metadata": {},
   "outputs": [],
   "source": [
    "log.info(cistopic_obj)\n",
    "log.info(cistopic_obj.cell_data)"
   ]
  },
  {
   "cell_type": "markdown",
   "id": "18f7b00e-e1b6-40e6-8ea8-f8742819f28e",
   "metadata": {},
   "source": [
    "## 5) Save"
   ]
  },
  {
   "cell_type": "code",
   "execution_count": null,
   "id": "d6f6cd4a-2fb9-4d14-b36d-a5f6d653b663",
   "metadata": {},
   "outputs": [],
   "source": [
    "log.info(\"save aggregated cistopic object...\")\n",
    "\n",
    "save_cistopic_obj(cistopic_obj, atac_path / \"cistopic_obj_filt.pkl\")"
   ]
  },
  {
   "cell_type": "code",
   "execution_count": null,
   "id": "01db86b2-36bc-4bfb-bbb9-ede31dcb1e99",
   "metadata": {},
   "outputs": [],
   "source": [
    "log.info(\"all done.\")"
   ]
  }
 ],
 "metadata": {
  "kernelspec": {
   "display_name": "Python 3 (ipykernel)",
   "language": "python",
   "name": "python3"
  },
  "language_info": {
   "codemirror_mode": {
    "name": "ipython",
    "version": 3
   },
   "file_extension": ".py",
   "mimetype": "text/x-python",
   "name": "python",
   "nbconvert_exporter": "python",
   "pygments_lexer": "ipython3",
   "version": "3.10.14"
  }
 },
 "nbformat": 4,
 "nbformat_minor": 5
}
