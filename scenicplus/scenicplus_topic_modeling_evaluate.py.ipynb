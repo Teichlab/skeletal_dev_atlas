{
 "cells": [
  {
   "cell_type": "markdown",
   "id": "adea94a9-2d04-4947-8c01-d3b8ec74cc8c",
   "metadata": {},
   "source": [
    "# Post-process after running Scenic plus"
   ]
  },
  {
   "cell_type": "code",
   "execution_count": null,
   "id": "75d0d14e-e328-4a3f-9805-36414a614729",
   "metadata": {},
   "outputs": [],
   "source": [
    "import os\n",
    "import sys\n",
    "import pickle\n",
    "import tempfile\n",
    "import logging as log\n",
    "import warnings\n",
    "from pathlib import Path\n",
    "\n",
    "import scanpy as sc\n",
    "from pycisTopic.cistopic_class import *\n",
    "from pycisTopic.lda_models import *\n",
    "from pycisTopic.clust_vis import *\n",
    "from pycisTopic.topic_binarization import *\n",
    "from pycisTopic.diff_features import *\n",
    "\n",
    "from utils import load_cistopic_obj, save_cistopic_obj"
   ]
  },
  {
   "cell_type": "code",
   "execution_count": null,
   "id": "7b7b1e60-1511-41b3-b0f2-d48cb6be2ec2",
   "metadata": {},
   "outputs": [],
   "source": [
    "log.basicConfig(level=log.INFO)\n",
    "warnings.simplefilter(action = 'ignore', category = FutureWarning)"
   ]
  },
  {
   "cell_type": "code",
   "execution_count": null,
   "id": "22568b1f-5829-4060-98d9-d65d266ec008",
   "metadata": {},
   "outputs": [],
   "source": [
    "from IPython.display import display, Markdown"
   ]
  },
  {
   "cell_type": "code",
   "execution_count": null,
   "id": "c0a0397e-8c12-4b00-8f18-b3385c578a60",
   "metadata": {},
   "outputs": [],
   "source": [
    "sc.settings.set_figure_params(dpi=150, frameon=False, figsize=(10, 10), facecolor='white')"
   ]
  },
  {
   "cell_type": "markdown",
   "id": "edadfe8b-44b9-491b-a660-dc7f710b3673",
   "metadata": {
    "tags": []
   },
   "source": [
    "## Parameters"
   ]
  },
  {
   "cell_type": "code",
   "execution_count": null,
   "id": "8013da3c-1a76-4d27-a355-9b8c6948154f",
   "metadata": {},
   "outputs": [],
   "source": [
    "# input infile_models: <scATAC/models/models_LDA.pkl>\n",
    "# output cistopic_done: <done/cistopic.done>\n",
    "# params cell_type_col: <cell_type>\n",
    "# params work_dir: </lustre/scratch117/cellgen/team205/jp30/scenic_plus_test/fetal_lung_multiome>\n",
    "# params tmp_dir: <~/mylustre/tmp_ray_spill>\n",
    "# threads n_cores: <4>\n",
    "# params topic_modeling_num_topic: <32>"
   ]
  },
  {
   "cell_type": "code",
   "execution_count": null,
   "id": "c3fcd89d-c3cc-44dd-b9e6-81330cc25f6f",
   "metadata": {},
   "outputs": [],
   "source": [
    "infile_models = \"/path/to/scATAC/models/models_LDA.pkl\"\n",
    "\n",
    "cell_type_col = \"cell_type_obs_column\"\n",
    "work_dir = Path(\"/path/to/work_dir\")\n",
    "n_cores = 4\n",
    "topic_modeling_num_topic = 32\n",
    "\n",
    "tmp_dir = tempfile.mkdtemp()"
   ]
  },
  {
   "cell_type": "code",
   "execution_count": null,
   "id": "cb437a90-b645-453a-93f7-bb5019d8d13c",
   "metadata": {},
   "outputs": [],
   "source": [
    "atac_path = work_dir / \"scATAC\"\n",
    "qc_path = atac_path / 'quality_control'\n",
    "candidate_enhancer_path = atac_path / \"candidate_enhancers\"\n",
    "\n",
    "file_cistopic_obj = str(atac_path / \"cistopic_obj_filt.pkl\")\n",
    "infile_rna_h5ad = work_dir / \"scRNA\" / \"anndata_metacells.h5ad\""
   ]
  },
  {
   "cell_type": "code",
   "execution_count": null,
   "id": "c37ff789-831e-4bcf-a9ee-e33b8c0754f2",
   "metadata": {},
   "outputs": [],
   "source": [
    "if not os.path.exists(os.path.join(work_dir, 'scATAC')):\n",
    "    os.makedirs(os.path.join(work_dir, 'scATAC'))"
   ]
  },
  {
   "cell_type": "markdown",
   "id": "3440673f-6252-4160-a7e5-a0f990908e27",
   "metadata": {},
   "source": [
    "## 1) Load"
   ]
  },
  {
   "cell_type": "code",
   "execution_count": null,
   "id": "22484167-cd75-406d-8d3f-bf9b9673013a",
   "metadata": {},
   "outputs": [],
   "source": [
    "log.info(\"load cistopic object\")\n",
    "\n",
    "cistopic_obj = load_cistopic_obj(atac_path / \"cistopic_obj_filt.pkl\")"
   ]
  },
  {
   "cell_type": "code",
   "execution_count": null,
   "id": "32920686-cac4-4233-8471-dd425e9e0b5d",
   "metadata": {},
   "outputs": [],
   "source": [
    "log.info(cistopic_obj)"
   ]
  },
  {
   "cell_type": "code",
   "execution_count": null,
   "id": "7eaa61d1-b7ad-4261-9473-f35c1cdb7f92",
   "metadata": {},
   "outputs": [],
   "source": [
    "if cell_type_col:\n",
    "    cistopic_obj.cell_data[\"celltype\"] = cistopic_obj.cell_data[cell_type_col].astype(str)\n",
    "\n",
    "log.info(cistopic_obj.cell_data.columns)"
   ]
  },
  {
   "cell_type": "code",
   "execution_count": null,
   "id": "27dda8ad-87c5-499f-960c-0e39573eae60",
   "metadata": {},
   "outputs": [],
   "source": [
    "log.info(\"load models...\")\n",
    "\n",
    "with open(infile_models, \"rb\") as f:\n",
    "    models = pickle.load(f)"
   ]
  },
  {
   "cell_type": "markdown",
   "id": "ef3aaad2-53af-4140-a7d1-fddddfacadf5",
   "metadata": {},
   "source": [
    "## 2) Evaluate model"
   ]
  },
  {
   "cell_type": "code",
   "execution_count": null,
   "id": "7f8ae156-208b-4828-bdc5-13a374066aa8",
   "metadata": {},
   "outputs": [],
   "source": [
    "log.info(\"evaluate and select model\")\n",
    "\n",
    "model = evaluate_models(\n",
    "    models,\n",
    "    select_model = topic_modeling_num_topic, \n",
    "    return_model = True, \n",
    "    metrics = ['Arun_2010','Cao_Juan_2009', 'Minmo_2011', 'loglikelihood'],\n",
    "    plot_metrics = False,\n",
    "    save = str(atac_path / \"evaluate_topic_models.png\"),\n",
    ")"
   ]
  },
  {
   "cell_type": "code",
   "execution_count": null,
   "id": "c984c3a3-bf7f-42b4-b758-547d8d13c4ba",
   "metadata": {},
   "outputs": [],
   "source": [
    "log.info(\"add model and save cistopic object\")\n",
    "\n",
    "cistopic_obj.add_LDA_model(model)"
   ]
  },
  {
   "cell_type": "code",
   "execution_count": null,
   "id": "34c96cd3-46ae-4654-b06c-80ea5ef4dcf3",
   "metadata": {},
   "outputs": [],
   "source": [
    "save_cistopic_obj(cistopic_obj, atac_path / \"cistopic_obj_filt.pkl\")"
   ]
  },
  {
   "cell_type": "code",
   "execution_count": null,
   "id": "9da005fb-3b6b-4be0-bbff-ec05e5cc3b04",
   "metadata": {},
   "outputs": [],
   "source": [
    "log.info(cistopic_obj)"
   ]
  },
  {
   "cell_type": "markdown",
   "id": "48d85b5d-bc99-4d0d-9c71-8ded64a4df33",
   "metadata": {},
   "source": [
    "## 3) Plot UMAP"
   ]
  },
  {
   "cell_type": "code",
   "execution_count": null,
   "id": "12e07fda-5157-4c28-8413-04c96fcd31de",
   "metadata": {},
   "outputs": [],
   "source": [
    "log.info(\"plot UMAP\")\n",
    "\n",
    "try:\n",
    "    run_umap(\n",
    "        cistopic_obj, \n",
    "        #target = 'cell', \n",
    "        scale = True\n",
    "    )\n",
    "except Exception as e:\n",
    "    log.error(e)"
   ]
  },
  {
   "cell_type": "code",
   "execution_count": null,
   "id": "59af7c7a-33ff-4c2f-8fef-22b486b67ded",
   "metadata": {},
   "outputs": [],
   "source": [
    "try:\n",
    "    plot_metadata(\n",
    "        cistopic_obj, \n",
    "        reduction_name = 'UMAP', \n",
    "        variables = ['celltype'],\n",
    "        save = str(atac_path / \"metadata.png\"),\n",
    "    )\n",
    "except Exception as e:\n",
    "    log.error(e)"
   ]
  },
  {
   "cell_type": "code",
   "execution_count": null,
   "id": "b60c86c8-bc5f-4c9e-9b4a-66c64d8aa292",
   "metadata": {},
   "outputs": [],
   "source": [
    "# We can also plot the cell-topic probabilities on the UMAP, to visualize their cell type specifiticy.\n",
    "\n",
    "try:\n",
    "    plot_topic(\n",
    "        cistopic_obj, \n",
    "        reduction_name = 'UMAP',\n",
    "        save = str(atac_path / \"topic_umap.png\"),\n",
    "    )\n",
    "except Exception as e:\n",
    "    log.error(e)"
   ]
  },
  {
   "cell_type": "markdown",
   "id": "63d42872-b0cc-4d73-b6a0-0e55a595e081",
   "metadata": {},
   "source": [
    "## 4) Binarise topics"
   ]
  },
  {
   "cell_type": "code",
   "execution_count": null,
   "id": "1d60b0d1-ff78-4972-8dbd-2b4279219e42",
   "metadata": {},
   "outputs": [],
   "source": [
    "log.info(\"binarise topics\")"
   ]
  },
  {
   "cell_type": "code",
   "execution_count": null,
   "id": "bcfaae06-46ad-4a7a-ab1a-90e8ed15e2c3",
   "metadata": {},
   "outputs": [],
   "source": [
    "region_bin_topics_otsu = binarize_topics(\n",
    "    cistopic_obj, \n",
    "    method='otsu'\n",
    ")"
   ]
  },
  {
   "cell_type": "code",
   "execution_count": null,
   "id": "dddb0bfc-6ebe-46b3-8f45-7ed3a6fbc10e",
   "metadata": {},
   "outputs": [],
   "source": [
    "region_bin_topics_top3k = binarize_topics(\n",
    "    cistopic_obj, \n",
    "    method='ntop', \n",
    "    ntop = 3000\n",
    ")"
   ]
  },
  {
   "cell_type": "markdown",
   "id": "eaaecee4-d2f3-40f5-9d1b-111143c3531a",
   "metadata": {},
   "source": [
    "## 5) Calculate DARs"
   ]
  },
  {
   "cell_type": "code",
   "execution_count": null,
   "id": "c03f9740-9d9f-47f6-9b8f-f3ea7c88db50",
   "metadata": {},
   "outputs": [],
   "source": [
    "log.info(\"calculate DARs\")"
   ]
  },
  {
   "cell_type": "code",
   "execution_count": null,
   "id": "6b5fd5a8-bbf2-4f6c-bce9-4237bb79cbc7",
   "metadata": {},
   "outputs": [],
   "source": [
    "imputed_acc_obj = impute_accessibility(\n",
    "    cistopic_obj, \n",
    "    selected_cells = None, \n",
    "    selected_regions = None, \n",
    "    scale_factor = 10**6\n",
    ")"
   ]
  },
  {
   "cell_type": "code",
   "execution_count": null,
   "id": "4a0fabda-10cc-4225-b344-943488641ed2",
   "metadata": {},
   "outputs": [],
   "source": [
    "normalized_imputed_acc_obj = normalize_scores(\n",
    "    imputed_acc_obj, \n",
    "    scale_factor = 10**4\n",
    ")"
   ]
  },
  {
   "cell_type": "code",
   "execution_count": null,
   "id": "b57cd57f-522d-4ab8-8f0b-c2b931aa5f72",
   "metadata": {},
   "outputs": [],
   "source": [
    "variable_regions = find_highly_variable_features(\n",
    "    normalized_imputed_acc_obj, \n",
    "    plot = False\n",
    ")"
   ]
  },
  {
   "cell_type": "code",
   "execution_count": null,
   "id": "9435b302-6fab-4cbb-908a-82663a33d831",
   "metadata": {},
   "outputs": [],
   "source": [
    "try:\n",
    "    markers_dict = find_diff_features(\n",
    "        cistopic_obj, \n",
    "        imputed_acc_obj, \n",
    "        variable = 'celltype', \n",
    "        var_features = variable_regions, \n",
    "        split_pattern = '-'\n",
    "    )\n",
    "except:\n",
    "    markers_dict = {}\n",
    "    log.error(\"could not compute marker peaks... cell type info provided?\")"
   ]
  },
  {
   "cell_type": "markdown",
   "id": "66e039b8-41a1-4732-aa57-aca5c742cdf9",
   "metadata": {},
   "source": [
    "## 6) Save object"
   ]
  },
  {
   "cell_type": "code",
   "execution_count": null,
   "id": "c0f26cd3-594e-4785-afd0-b19a046726a6",
   "metadata": {},
   "outputs": [],
   "source": [
    "log.info(\"save results\")"
   ]
  },
  {
   "cell_type": "code",
   "execution_count": null,
   "id": "bc456fec-5dbd-4c0b-855a-1703dc6846f2",
   "metadata": {},
   "outputs": [],
   "source": [
    "if not os.path.exists(os.path.join(work_dir, 'scATAC/candidate_enhancers')):\n",
    "    os.makedirs(os.path.join(work_dir, 'scATAC/candidate_enhancers'))"
   ]
  },
  {
   "cell_type": "code",
   "execution_count": null,
   "id": "b990a0be-a372-43bc-8e22-4458f9b4fe4f",
   "metadata": {},
   "outputs": [],
   "source": [
    "with open(candidate_enhancer_path / \"region_bin_topics_otsu.pkl\", \"wb\") as f:\n",
    "    pickle.dump(region_bin_topics_otsu, f)"
   ]
  },
  {
   "cell_type": "code",
   "execution_count": null,
   "id": "ade929b3-a2a9-4ff9-ae56-2c92f44e7e10",
   "metadata": {},
   "outputs": [],
   "source": [
    "with open(candidate_enhancer_path / \"region_bin_topics_top3k.pkl\", \"wb\") as f:\n",
    "    pickle.dump(region_bin_topics_top3k, f)"
   ]
  },
  {
   "cell_type": "code",
   "execution_count": null,
   "id": "a843da7a-7ea9-4bd4-9893-6189e6af4019",
   "metadata": {},
   "outputs": [],
   "source": [
    "with open(candidate_enhancer_path / \"markers_dict.pkl\", \"wb\") as f:\n",
    "    pickle.dump(markers_dict, f)"
   ]
  },
  {
   "cell_type": "code",
   "execution_count": null,
   "id": "a0e115ea-724a-4001-9e33-47f256d4d2de",
   "metadata": {},
   "outputs": [],
   "source": [
    "log.info(\"all done.\")"
   ]
  },
  {
   "cell_type": "code",
   "execution_count": null,
   "id": "4c2285ec-cecb-49af-95fe-8c8920a34dfc",
   "metadata": {},
   "outputs": [],
   "source": []
  },
  {
   "cell_type": "code",
   "execution_count": null,
   "id": "cf868bc3-83c7-4ae8-9d96-27da43c425be",
   "metadata": {},
   "outputs": [],
   "source": []
  }
 ],
 "metadata": {
  "kernelspec": {
   "display_name": "Python 3 (ipykernel)",
   "language": "python",
   "name": "python3"
  },
  "language_info": {
   "codemirror_mode": {
    "name": "ipython",
    "version": 3
   },
   "file_extension": ".py",
   "mimetype": "text/x-python",
   "name": "python",
   "nbconvert_exporter": "python",
   "pygments_lexer": "ipython3",
   "version": "3.10.14"
  }
 },
 "nbformat": 4,
 "nbformat_minor": 5
}
